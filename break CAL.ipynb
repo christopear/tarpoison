{
 "cells": [
  {
   "metadata": {
    "ExecuteTime": {
     "end_time": "2025-08-28T14:09:33.751751Z",
     "start_time": "2025-08-28T14:09:30.081297Z"
    }
   },
   "cell_type": "code",
   "source": [
    "from random import shuffle\n",
    "import numpy as np\n",
    "import torch\n",
    "from matplotlib import pyplot as plt\n",
    "from sklearn.datasets import fetch_openml\n",
    "from sklearn.decomposition import PCA\n",
    "from sklearn.model_selection import train_test_split\n",
    "from sklearn.preprocessing import MinMaxScaler\n",
    "from torch import nn\n",
    "\n",
    "mms = MinMaxScaler()\n",
    "# pca = PCA(n_components=8)\n",
    "\n",
    "mnist = fetch_openml('mnist_784')\n",
    "X_orig, y_orig = mnist[\"data\"], mnist[\"target\"]\n",
    "\n",
    "X_orig = mms.fit_transform(np.array(X_orig).astype(np.float32))\n",
    "y_orig = np.array(y_orig).astype(np.uint8)\n",
    "target_digit1 = 3\n",
    "target_digit2 = 8\n",
    "\n",
    "target_digit1_xdata = X_orig[y_orig == target_digit1]\n",
    "target_digit2_xdata = X_orig[y_orig == target_digit2]\n",
    "target_digit1_ydata = y_orig[y_orig == target_digit1]\n",
    "target_digit2_ydata = y_orig[y_orig == target_digit2]\n",
    "X = np.concatenate((target_digit1_xdata, target_digit2_xdata), axis=0)\n",
    "y = np.concatenate((target_digit1_ydata, target_digit2_ydata), axis=0)\n",
    "\n",
    "y = np.where(y == target_digit1, -1, 1)\n",
    "\n",
    "# reduce the dimensions of X\n",
    "# X = pca.fit_transform(X)\n",
    "# scale to 0/1\n",
    "X = mms.fit_transform(X)\n",
    "\n",
    "# # add on the bias\n",
    "# X = np.concatenate([np.ones_like(X[:, :1]), X],axis=-1)"
   ],
   "outputs": [],
   "execution_count": 1
  },
  {
   "metadata": {
    "ExecuteTime": {
     "end_time": "2025-08-28T14:09:42.658407Z",
     "start_time": "2025-08-28T14:09:42.638705Z"
    }
   },
   "cell_type": "code",
   "source": [
    "X_train, X_test, y_train, y_test = train_test_split(X, y, test_size=0.4, random_state=42)\n",
    "X_test, X_val, y_test, y_val = train_test_split(X_test, y_test, test_size=0.5, random_state=42)\n",
    "\n",
    "# pca.fit(X_train)\n",
    "\n",
    "print(X_train.shape, X_test.shape, X_val.shape)\n",
    "print(y_train.shape, y_test.shape, y_val.shape)"
   ],
   "outputs": [
    {
     "name": "stdout",
     "output_type": "stream",
     "text": [
      "(8379, 784) (2793, 784) (2794, 784)\n",
      "(8379,) (2793,) (2794,)\n"
     ]
    }
   ],
   "execution_count": 2
  },
  {
   "metadata": {
    "ExecuteTime": {
     "end_time": "2025-08-28T14:09:43.736384Z",
     "start_time": "2025-08-28T14:09:43.733876Z"
    }
   },
   "cell_type": "code",
   "source": [
    "X_train = X_train\n",
    "y_train = y_train"
   ],
   "outputs": [],
   "execution_count": 3
  },
  {
   "metadata": {
    "ExecuteTime": {
     "end_time": "2025-08-28T14:09:44.720720Z",
     "start_time": "2025-08-28T14:09:44.586789Z"
    }
   },
   "cell_type": "code",
   "source": [
    "# pca2 = PCA(n_components=2)\n",
    "# plotx = pca.fit_transform(X_train)\n",
    "\n",
    "formatter = plt.FuncFormatter(lambda i, *args: np.where(y_train[i] == 1, target_digit2, target_digit1))\n",
    "plt.scatter(X_train[:, 0], X_train[:, 1], c=y_train)\n",
    "plt.colorbar(ticks=[0, 1], format=formatter)\n",
    "# plt.xlabel(iris.feature_names[x_index])\n",
    "# plt.ylabel(iris.feature_names[y_index])\n",
    "plt.show()"
   ],
   "outputs": [
    {
     "data": {
      "text/plain": [
       "<Figure size 640x480 with 2 Axes>"
      ],
      "image/png": "[encoded data removed]"
     },
     "metadata": {},
     "output_type": "display_data"
    }
   ],
   "execution_count": 4
  },
  {
   "metadata": {
    "ExecuteTime": {
     "end_time": "2025-08-28T14:09:45.464553Z",
     "start_time": "2025-08-28T14:09:45.462223Z"
    }
   },
   "cell_type": "code",
   "source": "",
   "outputs": [],
   "execution_count": null
  },
  {
   "metadata": {
    "ExecuteTime": {
     "end_time": "2025-08-28T14:09:46.188664Z",
     "start_time": "2025-08-28T14:09:46.183881Z"
    }
   },
   "cell_type": "code",
   "source": [
    "from torch.utils.data import DataLoader, TensorDataset\n",
    "from tqdm import tqdm\n",
    "device = 'cpu'\n",
    "X_train = torch.Tensor(X_train).to(device)\n",
    "y_train = torch.Tensor(y_train).to(device)\n",
    "X_test = torch.Tensor(X_test).to(device)\n",
    "y_test = torch.Tensor(y_test).to(device)\n",
    "X_val = torch.Tensor(X_val).to(device)\n",
    "y_val = torch.Tensor(y_val).to(device)\n",
    "train_dl = DataLoader(TensorDataset(X_train, y_train), batch_size=1024)\n",
    "test_dl = TensorDataset(X_test, y_test)\n",
    "val_dl = TensorDataset(X_val, y_val)\n"
   ],
   "outputs": [],
   "execution_count": 5
  },
  {
   "metadata": {
    "ExecuteTime": {
     "end_time": "2025-08-28T14:09:47.199Z",
     "start_time": "2025-08-28T14:09:47.196477Z"
    }
   },
   "cell_type": "code",
   "source": "",
   "outputs": [],
   "execution_count": null
  },
  {
   "metadata": {
    "ExecuteTime": {
     "end_time": "2025-08-28T14:11:00.311492Z",
     "start_time": "2025-08-28T14:09:47.618330Z"
    }
   },
   "cell_type": "code",
   "source": [
    "class LinearSVM(nn.Module):\n",
    "    def __init__(self, dim, C=1.0, bias=True):\n",
    "        super().__init__()\n",
    "        self.dim = dim\n",
    "        self.w = nn.Parameter(torch.rand(self.dim))\n",
    "        self.C = C\n",
    "        self.b = nn.Parameter(torch.rand(1)) if bias else None\n",
    "\n",
    "    def forward(self, X):                             # scores s = w^T x + b\n",
    "        s = X @ self.w\n",
    "        return s + self.b if self.b is not None else s\n",
    "\n",
    "    def svm_loss(self, X, y, C=None, regularize_bias=False):\n",
    "        C = C or self.C\n",
    "        y = y.to(self.w.dtype)                          # y in {-1,+1}, float\n",
    "        s = self(X)\n",
    "        hinge = torch.clamp(1.0 - y * s, min=0.0)\n",
    "        data_term = hinge.pow(2).mean()\n",
    "\n",
    "        reg = 0.5 * (model.w @ model.w)\n",
    "\n",
    "        if regularize_bias and (model.b is not None):\n",
    "            reg = reg + 0.5 * (model.b * model.b)\n",
    "\n",
    "        return reg + C * data_term\n",
    "\n",
    "C = 1.0\n",
    "\n",
    "lr = 1e-2\n",
    "num_epochs = 10\n",
    "\n",
    "\n",
    "dim = X_train.size(1)\n",
    "model = LinearSVM(dim, C=1.0).to(device)\n",
    "opt = torch.optim.SGD(model.parameters(), lr=1e-2)\n",
    "\n",
    "num_epochs = 2000\n",
    "sb = tqdm(range(num_epochs))\n",
    "tl = []\n",
    "\n",
    "for epoch in sb:\n",
    "    for Xb, yb in train_dl:\n",
    "        loss = model.svm_loss(Xb, yb)\n",
    "        opt.zero_grad()\n",
    "        loss.backward()\n",
    "        opt.step()\n",
    "\n",
    "    if epoch % 10 == 0:\n",
    "        with torch.no_grad():\n",
    "            loss = model.svm_loss(X_val, y_val)\n",
    "            tl.append(loss.item())\n",
    "            sb.set_postfix(loss=tl[-1])\n"
   ],
   "outputs": [
    {
     "name": "stderr",
     "output_type": "stream",
     "text": [
      "100%|██████████| 2000/2000 [01:12<00:00, 27.70it/s, loss=0.324]\n"
     ]
    }
   ],
   "execution_count": 6
  },
  {
   "metadata": {
    "ExecuteTime": {
     "end_time": "2025-08-28T14:11:00.401933Z",
     "start_time": "2025-08-28T14:11:00.340363Z"
    }
   },
   "cell_type": "code",
   "source": [
    "from matplotlib import pyplot as plt\n",
    "tlnp = np.array(tl)\n",
    "tlnp = tlnp\n",
    "plt.plot(tlnp)\n",
    "plt.show()"
   ],
   "outputs": [
    {
     "data": {
      "text/plain": [
       "<Figure size 640x480 with 1 Axes>"
      ],
      "image/png": "[encoded data removed]"
     },
     "metadata": {},
     "output_type": "display_data"
    }
   ],
   "execution_count": 7
  },
  {
   "metadata": {
    "ExecuteTime": {
     "end_time": "2025-08-28T14:11:00.422179Z",
     "start_time": "2025-08-28T14:11:00.413123Z"
    }
   },
   "cell_type": "code",
   "source": "print(model.w, model.b)",
   "outputs": [
    {
     "name": "stdout",
     "output_type": "stream",
     "text": [
      "Parameter containing:\n",
      "tensor([ 7.0065e-44,  7.0065e-44,  7.0065e-44,  7.0065e-44,  7.0065e-44,\n",
      "         7.0065e-44,  7.0065e-44,  7.0065e-44,  7.0065e-44,  7.0065e-44,\n",
      "         7.0065e-44,  7.0065e-44,  7.0065e-44,  7.0065e-44,  7.0065e-44,\n",
      "         7.0065e-44,  7.0065e-44,  7.0065e-44,  7.0065e-44,  7.0065e-44,\n",
      "         7.0065e-44,  7.0065e-44,  7.0065e-44,  7.0065e-44,  7.0065e-44,\n",
      "         7.0065e-44,  7.0065e-44,  7.0065e-44,  7.0065e-44,  7.0065e-44,\n",
      "         7.0065e-44,  7.0065e-44,  7.0065e-44,  7.0065e-44,  7.0065e-44,\n",
      "         7.0065e-44,  7.0065e-44,  7.0065e-44,  7.0065e-44,  7.0065e-44,\n",
      "         7.0065e-44,  7.0065e-44,  7.0065e-44,  7.0065e-44,  7.0065e-44,\n",
      "         7.0065e-44,  7.0065e-44,  7.0065e-44,  7.0065e-44,  7.0065e-44,\n",
      "         7.0065e-44,  7.0065e-44,  7.0065e-44,  7.0065e-44,  7.0065e-44,\n",
      "         7.0065e-44,  7.0065e-44,  7.0065e-44,  7.0065e-44,  7.0065e-44,\n",
      "         7.0065e-44,  7.0065e-44,  7.0065e-44,  7.0065e-44,  7.0065e-44,\n",
      "         7.0065e-44, -1.7459e-04, -1.9088e-04, -1.6043e-04, -1.6424e-04,\n",
      "        -1.1417e-04, -1.0702e-04, -2.5035e-04, -2.3100e-04, -6.1759e-05,\n",
      "         7.0065e-44,  7.0065e-44,  7.0065e-44,  7.0065e-44,  7.0065e-44,\n",
      "         7.0065e-44,  7.0065e-44,  7.0065e-44,  7.0065e-44,  7.0065e-44,\n",
      "         7.0065e-44,  7.0065e-44,  7.0065e-44,  7.0065e-44, -3.2638e-04,\n",
      "        -3.5220e-04, -9.3746e-04, -1.5121e-03, -1.6855e-03, -2.5754e-03,\n",
      "        -4.2679e-03, -6.2016e-03, -6.1864e-03, -6.7229e-03, -7.1193e-03,\n",
      "        -6.7415e-03, -5.8879e-03, -5.0097e-03, -4.0737e-03, -2.2636e-03,\n",
      "        -6.7866e-04, -2.2246e-04,  4.9004e-05,  1.1303e-05,  7.0065e-44,\n",
      "         7.0065e-44,  7.0065e-44,  7.0065e-44,  7.0065e-44, -5.4220e-05,\n",
      "        -2.6278e-04, -3.9424e-04, -1.7481e-03, -3.3083e-03, -5.4513e-03,\n",
      "        -8.9462e-03, -1.1841e-02, -1.5695e-02, -1.8594e-02, -1.7424e-02,\n",
      "        -1.0623e-02, -5.7268e-03, -4.3460e-03, -1.8823e-03, -2.0330e-04,\n",
      "        -2.0274e-03, -1.0462e-03,  1.5102e-03,  1.4931e-03,  4.4247e-04,\n",
      "         9.9747e-04,  5.1330e-04,  7.7088e-05,  7.0065e-44,  7.0065e-44,\n",
      "         7.0065e-44,  7.0065e-44, -1.3782e-04, -5.9596e-04, -2.4794e-03,\n",
      "        -6.6048e-03, -1.2719e-02, -1.8443e-02, -2.1158e-02, -2.1523e-02,\n",
      "        -2.1484e-02, -1.8980e-02, -1.3088e-02, -3.5961e-03,  5.6029e-03,\n",
      "         9.9313e-03,  1.2361e-02,  1.7785e-02,  1.0887e-02,  8.2321e-03,\n",
      "         7.4340e-03,  9.0540e-03,  6.6570e-03,  3.4653e-03,  2.0519e-03,\n",
      "         8.3516e-04,  1.1525e-04,  7.4747e-05,  7.0065e-44, -8.2848e-05,\n",
      "        -8.3219e-05, -1.3419e-03, -5.3729e-03, -1.2085e-02, -2.1050e-02,\n",
      "        -2.5795e-02, -2.6859e-02, -2.5770e-02, -2.3491e-02, -1.5539e-02,\n",
      "        -9.6188e-03, -8.6567e-03, -7.0745e-03, -3.0687e-03,  2.9142e-03,\n",
      "         1.1181e-02,  8.3229e-03,  8.2580e-03,  4.7621e-03,  7.0956e-03,\n",
      "         1.0697e-02,  7.6709e-03,  4.4732e-03,  1.8243e-03,  1.4010e-04,\n",
      "         2.0750e-05,  7.0065e-44, -2.2888e-04, -1.3447e-04, -2.0944e-03,\n",
      "        -8.4052e-03, -1.4761e-02, -2.0819e-02, -2.1208e-02, -1.7612e-02,\n",
      "        -1.1482e-02, -8.8869e-03, -8.4402e-03, -1.0069e-02, -1.7302e-02,\n",
      "        -2.6026e-02, -2.6736e-02, -2.1197e-02, -1.2320e-02, -1.3283e-03,\n",
      "         1.2188e-03,  4.8722e-03,  8.5065e-03,  1.1007e-02,  1.1890e-02,\n",
      "         7.2508e-03,  2.2026e-03,  2.6111e-04,  9.2614e-06,  7.0065e-44,\n",
      "        -1.2475e-04, -1.0368e-04, -2.5467e-03, -9.5121e-03, -1.2467e-02,\n",
      "        -1.1867e-02, -5.2562e-03,  1.4691e-03,  1.0397e-02,  1.1468e-02,\n",
      "         1.1263e-02,  8.5805e-03, -6.0112e-03, -2.7838e-02, -3.5977e-02,\n",
      "        -3.1554e-02, -2.2139e-02, -8.3231e-03,  2.7388e-03,  6.0219e-03,\n",
      "         1.1267e-02,  1.4387e-02,  1.6433e-02,  9.9501e-03,  2.5599e-03,\n",
      "         2.8173e-04,  5.5483e-06,  7.0065e-44, -1.1737e-04, -3.8039e-04,\n",
      "        -2.7206e-03, -7.7793e-03, -6.3102e-03,  3.0335e-04,  9.6727e-03,\n",
      "         2.1267e-02,  3.3963e-02,  3.9441e-02,  4.0347e-02,  3.2907e-02,\n",
      "         7.0086e-03, -2.0643e-02, -3.3727e-02, -3.0768e-02, -2.2826e-02,\n",
      "        -6.2752e-03,  7.0799e-03,  9.5518e-03,  1.4446e-02,  1.7466e-02,\n",
      "         1.6501e-02,  8.5612e-03,  2.4762e-03,  3.4525e-04,  7.0065e-44,\n",
      "         7.0065e-44, -1.1737e-04, -2.7441e-04, -2.8218e-03, -3.0065e-03,\n",
      "         1.5049e-03,  8.9696e-03,  2.2967e-02,  3.8161e-02,  5.2063e-02,\n",
      "         6.0309e-02,  5.9435e-02,  4.4197e-02,  1.3572e-02, -1.5110e-02,\n",
      "        -3.2061e-02, -2.7245e-02, -1.6642e-02,  9.6615e-04,  1.1648e-02,\n",
      "         1.3760e-02,  1.6265e-02,  1.6811e-02,  1.2701e-02,  6.1876e-03,\n",
      "         2.0746e-03,  2.5873e-04,  6.9133e-06,  7.0065e-44, -1.1737e-04,\n",
      "        -1.7472e-04, -1.6560e-03,  7.0613e-04,  4.9813e-03,  1.4003e-02,\n",
      "         2.7374e-02,  4.1850e-02,  5.2985e-02,  5.3280e-02,  5.2650e-02,\n",
      "         3.7959e-02,  1.4751e-02, -1.3484e-02, -2.8885e-02, -2.2879e-02,\n",
      "        -7.9929e-03,  3.3186e-03,  8.6163e-03,  1.3200e-02,  1.4934e-02,\n",
      "         1.4072e-02,  1.0243e-02,  5.7769e-03,  1.3416e-03,  4.1704e-04,\n",
      "         6.2408e-05,  7.0065e-44, -1.1737e-04, -1.7069e-04, -3.8677e-04,\n",
      "         2.1408e-03,  6.1877e-03,  1.1542e-02,  2.2413e-02,  3.1321e-02,\n",
      "         3.7649e-02,  3.2789e-02,  2.8102e-02,  2.4084e-02,  1.0794e-02,\n",
      "        -1.2685e-02, -1.1333e-02, -5.6874e-03, -2.4704e-03,  1.1727e-03,\n",
      "         7.1596e-03,  1.0167e-02,  1.1854e-02,  9.7616e-03,  6.1485e-03,\n",
      "         2.9644e-03,  4.5107e-04,  1.0628e-04,  5.3002e-05,  7.0065e-44,\n",
      "         7.0065e-44, -5.0849e-05, -2.1205e-04,  1.0845e-03,  3.8417e-03,\n",
      "         6.4689e-03,  1.2057e-02,  1.5440e-02,  1.7135e-02,  1.2022e-02,\n",
      "         3.4794e-03,  6.7546e-03,  1.2627e-02,  9.3946e-03,  1.6773e-02,\n",
      "         6.4532e-03, -6.9489e-03, -8.6979e-03, -4.6802e-03,  7.8259e-04,\n",
      "         4.2574e-03,  5.1154e-03,  3.8342e-03,  2.1503e-03,  2.8492e-04,\n",
      "         9.7652e-06,  7.0065e-44,  7.0065e-44,  7.0065e-44, -1.0351e-04,\n",
      "        -2.1485e-04, -1.5755e-04,  1.9844e-03,  2.4138e-03,  2.9995e-03,\n",
      "         3.7143e-04, -2.9984e-03, -4.1978e-03, -3.0464e-03,  1.0825e-02,\n",
      "         2.6492e-02,  3.0136e-02,  2.6503e-02,  8.2757e-03, -1.3608e-02,\n",
      "        -2.6146e-02, -2.3059e-02, -1.5165e-02, -7.2369e-03,  1.2368e-04,\n",
      "         2.1811e-03,  1.5550e-03,  7.0803e-04,  1.8769e-06,  7.0065e-44,\n",
      "         7.0065e-44,  7.0065e-44, -1.6151e-04, -4.4261e-04, -1.9230e-03,\n",
      "        -3.3668e-03, -1.1727e-03,  1.0806e-03,  4.3123e-03,  5.3280e-03,\n",
      "         7.0190e-03,  1.6379e-02,  3.8703e-02,  4.5968e-02,  4.0939e-02,\n",
      "         2.8901e-02,  9.4936e-03, -2.0849e-02, -3.6284e-02, -3.5809e-02,\n",
      "        -2.5552e-02, -1.5291e-02, -7.1504e-03, -2.6910e-04,  6.8704e-04,\n",
      "         9.2823e-04, -1.8479e-04,  7.0065e-44,  7.0065e-44, -1.2413e-04,\n",
      "        -6.5310e-04, -2.0712e-03, -5.3299e-03, -7.2907e-03, -2.3837e-03,\n",
      "         6.4107e-03,  2.0228e-02,  3.2436e-02,  4.3996e-02,  5.6234e-02,\n",
      "         6.6618e-02,  6.0907e-02,  4.5274e-02,  2.9809e-02,  1.1918e-02,\n",
      "        -1.9316e-02, -3.9368e-02, -3.8606e-02, -2.5885e-02, -1.6185e-02,\n",
      "        -1.0399e-02, -2.0267e-03,  2.1622e-04,  8.7553e-04,  7.0065e-44,\n",
      "         7.0065e-44,  7.0065e-44, -6.7535e-05, -1.0071e-03, -4.3458e-03,\n",
      "        -9.4375e-03, -1.0167e-02, -1.8298e-03,  1.1872e-02,  3.3765e-02,\n",
      "         5.8517e-02,  7.5320e-02,  8.1566e-02,  7.8913e-02,  6.2672e-02,\n",
      "         3.5651e-02,  1.8348e-02,  1.9134e-03, -2.1956e-02, -3.3742e-02,\n",
      "        -3.3690e-02, -2.0659e-02, -1.6347e-02, -1.0696e-02, -1.7186e-03,\n",
      "         9.7539e-04,  5.0778e-04,  3.2209e-05,  7.0065e-44,  7.0065e-44,\n",
      "        -1.3284e-05, -1.0314e-03, -7.4629e-03, -1.5501e-02, -1.5461e-02,\n",
      "        -5.0834e-03,  1.3887e-02,  3.8478e-02,  6.3778e-02,  7.6967e-02,\n",
      "         8.0780e-02,  7.1661e-02,  4.9636e-02,  2.0496e-02, -1.2238e-05,\n",
      "        -1.7981e-02, -3.0459e-02, -2.6766e-02, -2.3630e-02, -1.8485e-02,\n",
      "        -1.6860e-02, -8.7370e-03, -1.1735e-03,  8.3214e-04,  2.5065e-04,\n",
      "         3.2209e-05,  7.0065e-44,  7.0065e-44,  7.0065e-44, -1.2896e-03,\n",
      "        -1.1046e-02, -2.0320e-02, -2.2555e-02, -1.4499e-02,  2.9926e-03,\n",
      "         2.5508e-02,  4.7005e-02,  5.7236e-02,  5.8102e-02,  4.7786e-02,\n",
      "         2.2432e-02, -2.8281e-03, -1.8160e-02, -2.8325e-02, -3.2989e-02,\n",
      "        -2.4692e-02, -1.8472e-02, -1.7649e-02, -1.3793e-02, -6.5403e-03,\n",
      "         1.0920e-03,  2.3995e-04,  1.2040e-04,  7.0065e-44,  7.0065e-44,\n",
      "         7.0065e-44, -1.8895e-05, -1.5759e-03, -1.1461e-02, -2.1769e-02,\n",
      "        -2.6495e-02, -2.2141e-02, -1.0379e-02,  1.3095e-03,  1.7151e-02,\n",
      "         2.8051e-02,  2.8074e-02,  2.2381e-02, -3.9520e-03, -2.1971e-02,\n",
      "        -2.7523e-02, -3.1036e-02, -3.0818e-02, -2.1131e-02, -1.5156e-02,\n",
      "        -1.4450e-02, -8.9717e-03, -2.1688e-03,  1.5654e-03,  5.2379e-04,\n",
      "         2.1619e-05, -1.9113e-04,  7.0065e-44,  7.0065e-44, -1.3057e-05,\n",
      "        -1.8059e-03, -8.9413e-03, -1.9898e-02, -2.3887e-02, -2.5062e-02,\n",
      "        -2.1819e-02, -1.7180e-02, -5.3790e-03,  7.2075e-04,  6.7698e-03,\n",
      "         2.3210e-03, -9.8920e-03, -1.7444e-02, -2.2136e-02, -2.4760e-02,\n",
      "        -1.8365e-02, -1.1368e-02, -7.8987e-03, -3.7629e-03, -2.9502e-03,\n",
      "         2.1961e-03,  2.7174e-03,  7.9424e-04,  7.0065e-44, -1.9113e-04,\n",
      "         7.0065e-44,  7.0065e-44,  7.0065e-44, -1.5664e-03, -5.8938e-03,\n",
      "        -1.3688e-02, -1.7700e-02, -2.1684e-02, -2.3642e-02, -2.0317e-02,\n",
      "        -1.5617e-02, -1.2139e-02, -1.2471e-03,  5.3571e-03,  3.5904e-03,\n",
      "         3.6563e-03, -6.6790e-04, -4.3918e-03,  1.3677e-03,  4.5179e-03,\n",
      "         4.0399e-03,  4.0899e-03,  5.9121e-03,  4.4958e-03,  2.9552e-03,\n",
      "         4.2239e-04,  7.0065e-44,  7.0065e-44,  7.0065e-44,  7.0065e-44,\n",
      "         7.0065e-44, -5.0535e-04, -2.6839e-03, -8.5283e-03, -1.5244e-02,\n",
      "        -2.0225e-02, -2.4168e-02, -2.1447e-02, -1.8534e-02, -1.4563e-02,\n",
      "        -1.9487e-03,  1.2907e-02,  1.7450e-02,  1.8104e-02,  1.7781e-02,\n",
      "         1.6104e-02,  1.1317e-02,  1.1013e-02,  1.1824e-02,  8.5380e-03,\n",
      "         6.0188e-03,  3.1497e-03,  9.5160e-04,  7.8422e-05,  7.0065e-44,\n",
      "         7.0065e-44,  7.0065e-44,  7.0065e-44,  7.0065e-44, -6.5510e-05,\n",
      "        -1.2302e-03, -4.1470e-03, -8.3030e-03, -1.3981e-02, -1.7934e-02,\n",
      "        -1.9825e-02, -2.0592e-02, -2.0996e-02, -1.2627e-02, -4.2645e-03,\n",
      "         1.1537e-05,  3.6926e-03,  7.2296e-03,  7.9476e-03,  7.4813e-03,\n",
      "         7.2757e-03,  5.4226e-03,  3.4603e-03,  1.3072e-03,  2.7692e-04,\n",
      "        -3.1590e-05,  1.3177e-04,  7.0065e-44,  7.0065e-44,  7.0065e-44,\n",
      "         7.0065e-44,  7.0065e-44, -3.4991e-06, -4.3173e-05, -5.0605e-04,\n",
      "        -1.4542e-03, -2.9880e-03, -4.9364e-03, -7.4694e-03, -1.0352e-02,\n",
      "        -1.2922e-02, -1.3510e-02, -1.3769e-02, -1.1193e-02, -7.3068e-03,\n",
      "        -2.8750e-03, -1.3476e-03, -2.9645e-04, -3.9494e-04,  5.0001e-04,\n",
      "         4.8574e-04, -1.3531e-04, -3.0332e-04,  7.0065e-44,  7.0065e-44,\n",
      "         7.0065e-44,  7.0065e-44,  7.0065e-44,  7.0065e-44,  7.0065e-44,\n",
      "         7.0065e-44,  7.0065e-44, -1.1211e-04, -4.1937e-04, -2.6143e-04,\n",
      "        -3.2678e-04, -3.3151e-04, -1.3404e-04, -5.9157e-04, -8.9151e-04,\n",
      "        -1.2391e-03, -1.1798e-03, -1.3923e-03, -1.7144e-03, -2.3703e-03,\n",
      "        -1.8957e-03, -1.2579e-03, -3.0681e-04, -2.4457e-04, -1.7641e-04,\n",
      "        -6.7260e-05,  1.0238e-04,  7.0065e-44,  7.0065e-44,  7.0065e-44,\n",
      "         7.0065e-44,  7.0065e-44,  7.0065e-44,  7.0065e-44,  7.0065e-44,\n",
      "         7.0065e-44,  7.0065e-44,  7.0065e-44,  7.0065e-44, -4.0875e-04,\n",
      "        -4.0875e-04, -4.0875e-04,  7.0065e-44, -4.0875e-04,  7.0065e-44,\n",
      "         7.0065e-44,  7.0065e-44,  7.0065e-44,  7.0065e-44,  7.0065e-44,\n",
      "         7.0065e-44,  7.0065e-44,  7.0065e-44,  7.0065e-44,  7.0065e-44,\n",
      "         7.0065e-44,  7.0065e-44,  7.0065e-44,  7.0065e-44],\n",
      "       requires_grad=True) Parameter containing:\n",
      "tensor([-0.2759], requires_grad=True)\n"
     ]
    }
   ],
   "execution_count": 8
  },
  {
   "metadata": {
    "ExecuteTime": {
     "end_time": "2025-08-28T14:11:00.437075Z",
     "start_time": "2025-08-28T14:11:00.431906Z"
    }
   },
   "cell_type": "code",
   "source": "y_pred = (X_test @ model.w > 0) * 1.0\n",
   "outputs": [],
   "execution_count": 9
  },
  {
   "metadata": {
    "ExecuteTime": {
     "end_time": "2025-08-28T14:11:00.447769Z",
     "start_time": "2025-08-28T14:11:00.442513Z"
    }
   },
   "cell_type": "code",
   "source": [
    "y_test_np = (y_test.detach().numpy() + 1.0)/2\n",
    "y_pred_np = y_pred.detach().numpy()"
   ],
   "outputs": [],
   "execution_count": 10
  },
  {
   "metadata": {
    "ExecuteTime": {
     "end_time": "2025-08-28T14:11:00.467318Z",
     "start_time": "2025-08-28T14:11:00.456293Z"
    }
   },
   "cell_type": "code",
   "source": [
    "from sklearn import metrics\n",
    "print(metrics.accuracy_score(y_test_np, y_pred_np))\n",
    "print(metrics.precision_score(y_test_np, y_pred_np))\n",
    "print(metrics.recall_score(y_test_np, y_pred_np))\n",
    "metrics.confusion_matrix(y_test_np, y_pred_np)"
   ],
   "outputs": [
    {
     "name": "stdout",
     "output_type": "stream",
     "text": [
      "0.9326888650196921\n",
      "0.8857518056467498\n",
      "0.9897285399853265\n"
     ]
    },
    {
     "data": {
      "text/plain": [
       "array([[1256,  174],\n",
       "       [  14, 1349]])"
      ]
     },
     "execution_count": 11,
     "metadata": {},
     "output_type": "execute_result"
    }
   ],
   "execution_count": 11
  },
  {
   "metadata": {
    "ExecuteTime": {
     "end_time": "2025-08-28T14:11:00.639653Z",
     "start_time": "2025-08-28T14:11:00.566256Z"
    }
   },
   "cell_type": "code",
   "source": "plt.imshow(model.w.detach().numpy().reshape((28,28)))",
   "outputs": [
    {
     "data": {
      "text/plain": [
       "<matplotlib.image.AxesImage at 0x32330bad0>"
      ]
     },
     "execution_count": 12,
     "metadata": {},
     "output_type": "execute_result"
    },
    {
     "data": {
      "text/plain": [
       "<Figure size 640x480 with 1 Axes>"
      ],
      "image/png": "[encoded data removed]"
     },
     "metadata": {},
     "output_type": "display_data"
    }
   ],
   "execution_count": 12
  },
  {
   "metadata": {},
   "cell_type": "markdown",
   "source": "# Now to break it"
  },
  {
   "metadata": {
    "ExecuteTime": {
     "end_time": "2025-08-28T14:15:18.427092Z",
     "start_time": "2025-08-28T14:15:18.423622Z"
    }
   },
   "cell_type": "code",
   "source": [
    "for param in model.parameters():\n",
    "    param.requires_grad = False\n"
   ],
   "outputs": [],
   "execution_count": 13
  },
  {
   "metadata": {
    "ExecuteTime": {
     "end_time": "2025-08-28T14:15:19.270967Z",
     "start_time": "2025-08-28T14:15:19.269971Z"
    }
   },
   "cell_type": "code",
   "source": "",
   "outputs": [],
   "execution_count": null
  },
  {
   "metadata": {
    "ExecuteTime": {
     "end_time": "2025-08-28T14:15:19.856030Z",
     "start_time": "2025-08-28T14:15:19.826965Z"
    }
   },
   "cell_type": "code",
   "source": [
    "num_epochs = 1000\n",
    "l2_reg = 0.5\n",
    "\n",
    "perturbation = torch.rand(X_train.size(1)) * 0.001\n",
    "perturbation.requires_grad = True\n",
    "\n",
    "opt = torch.optim.SGD([perturbation], lr=1e-1)\n",
    "\n",
    "Xb = X_train[:1, :]\n",
    "yb = y_train[:1]\n",
    "yb_pred_new = model(Xb).sign().detach().numpy()\n",
    "yb_pred_new\n",
    "\n",
    "sb = tqdm(range(num_epochs))\n",
    "tl = []\n",
    "for epoch in sb:\n",
    "    new_Xb = torch.clamp(Xb + perturbation, 0.0, 1.0)\n",
    "    new_yb = yb * -1\n",
    "    loss = model.svm_loss(new_Xb, new_yb)\n",
    "\n",
    "    l2_loss = perturbation.norm()\n",
    "    total_loss = loss + l2_reg * l2_loss\n",
    "    opt.zero_grad()\n",
    "    total_loss.backward()\n",
    "    opt.step()\n",
    "\n",
    "    if epoch % 10 == 0:\n",
    "        with torch.no_grad():\n",
    "            pred = model(new_Xb).sign().detach().numpy()\n",
    "            # print(pred != yb_pred_new, np.sum(pred != yb_pred_new))\n",
    "            # break\n",
    "            if np.sum(pred != yb_pred_new) >= len(pred):\n",
    "                print(\"Finished!\")\n",
    "                break\n",
    "            loss = model.svm_loss(Xb + perturbation, yb)\n",
    "            tl.append(loss.item())\n",
    "            sb.set_postfix(loss=tl[-1])\n"
   ],
   "outputs": [
    {
     "name": "stderr",
     "output_type": "stream",
     "text": [
      "  5%|▌         | 50/1000 [00:00<00:00, 2449.92it/s, loss=1.07]"
     ]
    },
    {
     "name": "stdout",
     "output_type": "stream",
     "text": [
      "Finished!\n"
     ]
    },
    {
     "name": "stderr",
     "output_type": "stream",
     "text": [
      "\n"
     ]
    }
   ],
   "execution_count": 14
  },
  {
   "metadata": {
    "ExecuteTime": {
     "end_time": "2025-08-28T14:15:21.796822Z",
     "start_time": "2025-08-28T14:15:21.794901Z"
    }
   },
   "cell_type": "code",
   "source": [
    "# y_pred = ((X_test + perturbation) @ model.w > 0) * 1.0\n",
    "# y_test_np = (y_test.detach().numpy() + 1.0) / 2\n",
    "# y_pred_np = y_pred.detach().numpy()\n",
    "# from sklearn import metrics\n",
    "#\n",
    "# print(metrics.accuracy_score(y_test_np, y_pred_np))\n",
    "# print(metrics.precision_score(y_test_np, y_pred_np))\n",
    "# print(metrics.recall_score(y_test_np, y_pred_np))\n",
    "# metrics.confusion_matrix(y_test_np, y_pred_np)"
   ],
   "outputs": [],
   "execution_count": 15
  },
  {
   "metadata": {
    "ExecuteTime": {
     "end_time": "2025-08-28T14:15:22.216780Z",
     "start_time": "2025-08-28T14:15:22.159193Z"
    }
   },
   "cell_type": "code",
   "source": "plt.imshow(Xb[:1].reshape((28,28)))",
   "outputs": [
    {
     "data": {
      "text/plain": [
       "<matplotlib.image.AxesImage at 0x323b7a690>"
      ]
     },
     "execution_count": 16,
     "metadata": {},
     "output_type": "execute_result"
    },
    {
     "data": {
      "text/plain": [
       "<Figure size 640x480 with 1 Axes>"
      ],
      "image/png": "[encoded data removed]"
     },
     "metadata": {},
     "output_type": "display_data"
    }
   ],
   "execution_count": 16
  },
  {
   "metadata": {
    "ExecuteTime": {
     "end_time": "2025-08-28T14:15:22.790841Z",
     "start_time": "2025-08-28T14:15:22.734490Z"
    }
   },
   "cell_type": "code",
   "source": "plt.imshow((Xb[:1] + perturbation.detach()).reshape((28,28)))",
   "outputs": [
    {
     "data": {
      "text/plain": [
       "<matplotlib.image.AxesImage at 0x326edde10>"
      ]
     },
     "execution_count": 17,
     "metadata": {},
     "output_type": "execute_result"
    },
    {
     "data": {
      "text/plain": [
       "<Figure size 640x480 with 1 Axes>"
      ],
      "image/png": "[encoded data removed]"
     },
     "metadata": {},
     "output_type": "display_data"
    }
   ],
   "execution_count": 17
  },
  {
   "metadata": {
    "ExecuteTime": {
     "end_time": "2025-08-28T14:15:49.901186Z",
     "start_time": "2025-08-28T14:15:49.845413Z"
    }
   },
   "cell_type": "code",
   "source": "plt.imshow((perturbation.detach()).reshape((28,28)))",
   "outputs": [
    {
     "data": {
      "text/plain": [
       "<matplotlib.image.AxesImage at 0x326f1d110>"
      ]
     },
     "execution_count": 18,
     "metadata": {},
     "output_type": "execute_result"
    },
    {
     "data": {
      "text/plain": [
       "<Figure size 640x480 with 1 Axes>"
      ],
      "image/png": "[encoded data removed]"
     },
     "metadata": {},
     "output_type": "display_data"
    }
   ],
   "execution_count": 18
  },
  {
   "metadata": {},
   "cell_type": "markdown",
   "source": "# Now to break CAL"
  },
  {
   "metadata": {},
   "cell_type": "code",
   "outputs": [],
   "execution_count": null,
   "source": ""
  },
  {
   "metadata": {},
   "cell_type": "markdown",
   "source": "# Now to break training\n"
  },
  {
   "metadata": {
    "ExecuteTime": {
     "end_time": "2025-08-28T14:18:31.947560Z",
     "start_time": "2025-08-28T14:18:29.034241Z"
    }
   },
   "cell_type": "code",
   "source": [
    "for param in model.parameters():\n",
    "    param.requires_grad = True\n",
    "\n",
    "C = 1.0\n",
    "\n",
    "lr = 1e-2\n",
    "num_epochs = 10\n",
    "\n",
    "NUM_POISON_POINTS = 100\n",
    "\n",
    "Xp = torch.rand((NUM_POISON_POINTS, X_train.size(1)))\n",
    "yp = torch.Tensor([1] * (NUM_POISON_POINTS//2) + [-1] * (NUM_POISON_POINTS//2))\n",
    "Xp.requires_grad = True\n",
    "\n",
    "\n",
    "oldw = np.copy(model.w.detach().numpy())\n",
    "oldb = np.copy(model.b.detach().numpy())\n",
    "# dim = X_train.size(1)\n",
    "# model = LinearSVM(dim, C=1.0).to(device)\n",
    "optmodel = torch.optim.SGD(model.parameters(), lr=1e-4)\n",
    "optpoison = torch.optim.SGD([Xp], lr=1e-1)\n",
    "\n",
    "num_epochs = 500\n",
    "sb = tqdm(range(num_epochs))\n",
    "tl = []\n",
    "\n",
    "for epoch in sb:\n",
    "    Xb = torch.cat([X_train, Xp],dim=0)\n",
    "    yb = torch.cat([y_train, yp], dim=0)\n",
    "\n",
    "    # train the model stage\n",
    "    loss = model.svm_loss(Xb, yb)\n",
    "    optmodel.zero_grad()\n",
    "    loss.backward()\n",
    "    optmodel.step()\n",
    "\n",
    "    # train the poison stage\n",
    "    # new_Xb = torch.clamp(Xb, 0.0, 1.0)\n",
    "    loss = -model.svm_loss(Xb, yb)\n",
    "    optpoison.zero_grad()\n",
    "    loss.backward()\n",
    "    optpoison.step()\n",
    "    with torch.no_grad():\n",
    "        Xp = torch.clamp(Xp, 0.0, 1.0)\n",
    "\n",
    "    if epoch % 10 == 0:\n",
    "        with torch.no_grad():\n",
    "            loss = model.svm_loss(X_val, y_val)\n",
    "            tl.append(loss.item())\n",
    "            sb.set_postfix(loss=tl[-1])\n",
    "\n",
    "neww = model.w.detach().numpy()\n",
    "newb = model.b.detach().numpy()\n",
    "print(neww - oldw)"
   ],
   "outputs": [
    {
     "name": "stderr",
     "output_type": "stream",
     "text": [
      "100%|██████████| 500/500 [00:02<00:00, 172.27it/s, loss=0.323]"
     ]
    },
    {
     "name": "stdout",
     "output_type": "stream",
     "text": [
      "[-4.16868279e-05  4.42332748e-06 -4.04657912e-05 -1.33730064e-05\n",
      " -7.26606231e-06  8.88902105e-06  1.64149096e-05 -4.27795458e-05\n",
      " -1.33696740e-05  1.38467658e-06 -4.56342968e-06  1.24682892e-05\n",
      "  1.38444302e-05 -3.12023849e-06  3.89931374e-05  8.93797551e-06\n",
      "  4.96213761e-05 -1.08397217e-06  1.08508830e-05 -3.23262211e-05\n",
      " -1.86180932e-05 -1.53441142e-05 -2.92278128e-05 -2.66719435e-05\n",
      " -1.41900591e-05 -4.80965100e-05  2.14744068e-06  1.81049527e-05\n",
      " -3.73163784e-05  4.48439096e-06 -4.31298395e-06  1.00063335e-05\n",
      " -1.14215072e-06 -8.27599506e-05 -9.79057222e-06 -1.23997916e-06\n",
      "  3.32828495e-06 -1.76671019e-05  1.48961699e-05  6.57064957e-05\n",
      "  5.52639176e-05 -3.84399318e-05  2.61337846e-06  1.85758399e-05\n",
      " -3.93016671e-05  2.52220198e-05 -4.39053110e-06  2.15528416e-05\n",
      " -1.53825313e-05 -2.73757032e-05 -5.53559730e-05 -6.38100319e-05\n",
      " -1.24554645e-05  5.79426560e-05 -3.87156069e-05  3.70728085e-05\n",
      "  3.01110049e-05 -1.09267596e-04  1.54998997e-05 -4.42716264e-05\n",
      " -8.02513387e-06 -2.84703565e-05 -2.46723648e-05 -1.45528320e-05\n",
      "  3.36444064e-05 -1.97774971e-05  3.33593343e-05 -5.63961221e-05\n",
      "  3.06731745e-05 -6.59952930e-05 -5.42621929e-05  4.70216037e-06\n",
      " -2.07336270e-05 -6.47924317e-05 -2.91638135e-05 -1.92361003e-05\n",
      "  4.70474333e-06 -4.48469655e-06  2.22999697e-05  7.18379160e-05\n",
      " -2.50818266e-06 -2.70657620e-05 -6.21154832e-05 -2.34700565e-05\n",
      " -1.50530250e-05  2.80606218e-06  3.53961514e-06 -1.15845760e-05\n",
      "  2.84693670e-07  2.82114488e-05 -1.52068678e-05 -6.70535374e-05\n",
      "  2.33994797e-05 -2.55261548e-05 -9.72696580e-06  1.17905438e-05\n",
      " -4.32711095e-05  2.54814513e-05 -6.04693778e-05  2.78465450e-07\n",
      " -3.05287540e-05  1.46753155e-05  2.39815563e-05  9.06945206e-06\n",
      "  1.28776301e-05 -4.65475605e-05 -2.67796568e-05 -1.33002141e-05\n",
      " -5.38752029e-05 -2.16894841e-05 -1.41822520e-05 -1.92269508e-05\n",
      "  3.94661038e-06  8.33817467e-06  2.69736192e-05 -1.66950558e-05\n",
      "  1.72699220e-06 -9.99285839e-06  3.04395799e-05  7.66371377e-05\n",
      " -4.44054604e-06  9.48086381e-07 -1.06010586e-04 -5.18038869e-05\n",
      " -2.24728137e-05  7.77924433e-05  1.25447754e-04  9.50889662e-05\n",
      "  3.18229431e-05 -1.23706996e-05  9.52626579e-06 -1.72005093e-05\n",
      "  1.80066563e-05  2.51217280e-05 -6.87994761e-05  7.98737165e-06\n",
      "  2.60371016e-05 -1.10405977e-04 -6.98702934e-06 -2.79441083e-05\n",
      "  3.53829091e-05  3.47561727e-05 -7.56892478e-05  1.53608271e-05\n",
      "  3.85385938e-05  1.34818256e-05  8.45631585e-05  7.66683370e-05\n",
      " -1.01540238e-04 -7.07097352e-05 -6.82789832e-05  3.10763717e-05\n",
      "  3.48351896e-05 -3.33236530e-05  1.66795217e-05  3.75537202e-05\n",
      "  8.08723271e-05  1.03471801e-04  1.07279047e-04  1.38180330e-05\n",
      "  3.98666598e-05  9.70531255e-06  4.64986078e-05 -2.11407896e-05\n",
      "  8.26211181e-06 -1.80530478e-05 -9.48103843e-06 -3.98095435e-05\n",
      " -4.31289300e-05 -5.99902996e-05 -1.14820650e-05  1.28697138e-05\n",
      " -5.34467399e-05 -3.03201377e-05 -4.66052443e-05 -6.21806830e-05\n",
      " -3.95793468e-05 -1.40955672e-04 -4.72944230e-05  8.21938738e-05\n",
      "  1.78301707e-05  4.40357253e-05 -1.92802399e-05  7.08904117e-05\n",
      " -1.85088720e-05  2.11289153e-05 -9.87220556e-05  3.97292897e-05\n",
      " -7.63405114e-06 -3.64650041e-05 -8.45734030e-06 -2.63703987e-06\n",
      " -4.11490910e-05 -4.79826704e-05 -4.69834777e-05 -8.97898281e-06\n",
      " -1.84132368e-05  6.37370977e-06  3.57723329e-05 -1.59766059e-05\n",
      " -2.03009695e-05 -3.40770930e-05  1.37221068e-05  4.89726663e-05\n",
      "  7.51391053e-06 -4.98816371e-05 -6.34882599e-06 -1.27553940e-05\n",
      " -1.18054450e-05  4.74508852e-05 -2.12583691e-05  1.28215179e-04\n",
      "  4.32692468e-06  1.26073137e-05  1.59783493e-04  1.90527644e-05\n",
      " -5.36185689e-05 -2.05407850e-05 -3.14051285e-05 -1.65496022e-06\n",
      "  6.28246926e-05 -6.23296946e-05  1.26853120e-05 -9.21576284e-05\n",
      " -3.60877966e-05  3.39905819e-05 -1.11642294e-07  3.53334472e-05\n",
      " -6.50323927e-05 -7.38129020e-05 -4.44147736e-05  0.00000000e+00\n",
      "  5.00299502e-05  1.99675560e-06 -2.45105475e-05  2.19810754e-05\n",
      "  3.93679366e-05  5.16478904e-05  6.13741577e-05 -1.42045319e-05\n",
      "  1.02967024e-05  4.51635569e-05  1.15701463e-04  7.68553000e-05\n",
      "  3.15089710e-05 -5.48474491e-05 -1.32685527e-05 -8.21556896e-05\n",
      " -1.21835619e-05 -3.49711627e-06 -2.20657676e-05  2.81798420e-05\n",
      " -8.91144737e-06  3.68369510e-05  2.05027900e-05  9.83872451e-06\n",
      "  8.14720988e-06 -2.09780410e-06 -4.01933212e-05  3.27453017e-06\n",
      "  1.27479434e-05 -4.36827540e-05  1.40853226e-05  1.08137727e-04\n",
      " -4.98518348e-05  7.68341124e-07 -4.64301556e-05 -2.90982425e-05\n",
      " -7.48075545e-05  6.38272613e-05  7.40629621e-05  1.25286169e-05\n",
      " -1.09123066e-04 -3.56258824e-05 -6.20894134e-05 -5.33200800e-05\n",
      "  2.37030908e-05 -1.26077794e-05  4.76771093e-05 -4.84818665e-05\n",
      "  5.24006755e-05 -3.49325419e-05  1.94664462e-05 -6.38763886e-05\n",
      " -8.14751256e-05 -3.50350165e-05  1.01272017e-05  4.32766974e-05\n",
      " -3.76626849e-05  5.02914190e-05  6.63064420e-05  2.04183161e-05\n",
      " -2.38865614e-05 -3.39420512e-05  1.32126734e-05  1.10451132e-04\n",
      "  3.60775739e-05  4.91179526e-05  8.73458339e-06 -1.95393339e-04\n",
      " -6.40777871e-05 -5.42979687e-05 -2.11466104e-05 -4.05414030e-05\n",
      "  2.68220901e-06 -2.86032446e-05  5.09709935e-06 -3.16275982e-05\n",
      " -1.10908586e-05 -4.57441784e-05  6.22028310e-05 -6.28276030e-05\n",
      " -6.35152828e-05 -3.54796648e-05 -3.35769728e-05  7.32336193e-05\n",
      " -4.82462347e-05  3.35276127e-05  6.76177442e-05 -3.08118761e-05\n",
      "  5.47617674e-06 -3.48472968e-05  6.37117773e-06  7.51577318e-05\n",
      " -1.81682408e-05 -4.83691692e-05  3.22551932e-05 -9.74810682e-05\n",
      "  1.61444768e-05  1.11868605e-04  1.74883753e-05 -8.19098204e-06\n",
      " -2.23936513e-06  2.42842361e-07 -2.68156582e-05  6.79993536e-06\n",
      " -4.71083222e-05  3.24171378e-05 -2.99636813e-05  6.88378350e-06\n",
      " -4.60061710e-06 -3.61795537e-05  3.16649675e-05 -8.86432827e-06\n",
      "  1.86283141e-05  2.23517418e-05 -2.04518437e-06  2.44099647e-05\n",
      " -8.76244158e-05 -4.03597951e-05 -1.20569021e-05  3.68440524e-05\n",
      " -5.82588837e-05 -2.34721228e-05  3.70998750e-05  7.24056736e-05\n",
      "  9.40067694e-05  5.87943941e-05  1.19255856e-05 -3.66405584e-05\n",
      " -3.50927003e-05 -5.02394978e-05 -9.04139597e-06 -6.78187644e-05\n",
      "  1.59488118e-05 -1.33524009e-05 -1.06597567e-04  2.88851152e-06\n",
      " -6.23106898e-05 -8.53606034e-05  2.06567347e-05 -2.11009756e-05\n",
      "  8.34651291e-06 -7.69104809e-05 -1.09715387e-04  2.64574774e-05\n",
      "  4.17986885e-05 -8.41580331e-05 -9.31061804e-05 -9.03392211e-05\n",
      " -1.49515457e-04 -2.05622055e-05  8.94907862e-06  6.62829261e-05\n",
      "  1.28955464e-04  7.42166303e-05  5.53810969e-05 -3.70072667e-05\n",
      "  2.62407120e-05 -3.79002304e-05  3.62171559e-05 -4.33935202e-05\n",
      " -1.35170849e-05 -1.95635948e-07  4.31981898e-05  3.27127636e-05\n",
      "  4.85146884e-05 -6.93816692e-05 -7.53374770e-05 -5.93531877e-06\n",
      "  2.22050985e-05  1.11069530e-05  3.57097015e-05  1.02062710e-04\n",
      "  7.79004768e-05  3.61930579e-05 -9.43597406e-05 -4.67728823e-05\n",
      " -9.64822248e-05 -1.10636465e-04  3.21157277e-05 -1.78441405e-06\n",
      "  4.39696014e-05  2.94651836e-05 -4.52030799e-05  7.67591409e-05\n",
      " -4.62082680e-05 -2.69322190e-05 -3.52900679e-06  7.83824362e-07\n",
      "  5.09296660e-06 -1.69177365e-05 -3.22352789e-05 -1.64549565e-05\n",
      " -3.59516125e-05 -3.81995924e-05 -1.02513935e-04 -7.40110409e-05\n",
      "  1.69570558e-05 -3.13185155e-05 -7.19767995e-05  5.11668622e-06\n",
      " -4.36902046e-05 -6.43022358e-05  4.24310565e-06 -3.62899154e-05\n",
      "  1.18445605e-05 -4.03821468e-06 -3.41720879e-05 -4.03448939e-06\n",
      "  3.52561474e-05  3.57180834e-05  2.87168659e-05 -7.34844652e-05\n",
      "  1.59846386e-05  2.72036996e-05 -2.70825694e-05 -2.45060419e-05\n",
      " -7.83678261e-05 -1.03530474e-05  3.32441414e-06  5.42192720e-06\n",
      " -1.18073076e-05 -3.39150429e-05  5.86176757e-05  4.40995209e-05\n",
      "  4.65195626e-05  3.13073397e-05  1.61789358e-05 -5.15058637e-05\n",
      " -5.51268458e-05 -5.86733222e-05 -5.14648855e-05  1.56890601e-05\n",
      " -5.78286126e-05 -8.11461359e-05 -7.08885491e-05  5.38676977e-06\n",
      " -3.99481505e-05 -1.97691843e-05  1.85947865e-05  4.87749930e-05\n",
      "  6.51663286e-05 -2.54402403e-06  8.50696815e-05  4.46182603e-05\n",
      " -1.13088972e-05 -2.54024053e-05 -7.37735536e-06 -1.51796266e-05\n",
      "  2.37487257e-05  4.93414700e-06  3.26447189e-05  3.72994691e-05\n",
      " -7.45058060e-06  2.79769301e-06  3.32742929e-05 -1.02177262e-04\n",
      " -1.62124634e-05  7.86744058e-05  1.50762498e-05  1.07288361e-05\n",
      " -3.32064228e-05  4.44054604e-06 -6.96405768e-05  6.77630305e-06\n",
      " -1.81067735e-05 -3.83052975e-06  5.00651076e-05  1.45877711e-05\n",
      "  2.98817176e-05  6.46268527e-05  8.62030138e-05 -4.17319825e-07\n",
      "  4.28910462e-05  1.14817376e-05  1.71868596e-05 -4.52524982e-05\n",
      "  6.67823479e-05 -1.61584467e-06  2.50153244e-06  5.32446429e-05\n",
      " -1.14079565e-04 -5.05745411e-05 -3.09795141e-05 -1.17197633e-05\n",
      " -1.32843852e-05  6.85453415e-06 -5.52907586e-05 -7.25168502e-05\n",
      " -2.41659582e-05  1.13204122e-04 -5.74868172e-05 -7.70185143e-05\n",
      "  7.21085817e-05 -2.03326344e-05 -8.29640776e-05 -1.41312485e-05\n",
      "  2.53802864e-05 -6.71643065e-05 -4.04704479e-05 -1.24138896e-05\n",
      "  3.62696301e-05 -5.80690248e-05 -5.90049895e-05 -2.59913504e-05\n",
      "  5.38732857e-05  6.77183270e-05 -7.18086958e-05 -2.27454584e-05\n",
      " -3.36319208e-05 -3.68952751e-05 -2.47657299e-05 -3.85828316e-05\n",
      " -5.87813556e-05  5.73713332e-05  3.83085571e-05  5.82858920e-05\n",
      " -2.27391720e-05  1.07299536e-04 -8.43834132e-05 -9.69599932e-05\n",
      " -1.44615769e-05 -3.74251977e-05 -4.48673964e-05 -2.91544129e-05\n",
      "  1.88287522e-05  1.44597780e-05 -2.53344078e-05  2.85006827e-05\n",
      "  1.97229965e-05 -2.62782269e-05 -6.26870897e-05  1.02836639e-05\n",
      "  6.03869557e-06 -4.20678407e-05 -2.97166407e-05  3.16342339e-05\n",
      "  3.80913261e-05  4.20249999e-05  2.42572278e-05 -4.29265201e-05\n",
      " -1.43418089e-04  4.44496982e-06  6.81858510e-05  6.50472939e-05\n",
      " -9.05487686e-05 -1.33084133e-04 -5.29531389e-05  4.08627093e-05\n",
      "  1.10395253e-04  9.54270363e-05  3.87581531e-05 -5.65377995e-05\n",
      "  5.65737719e-05 -2.79927626e-05 -1.67656399e-05  1.00968027e-05\n",
      "  5.77021856e-05 -3.05004360e-05 -3.92822549e-05 -1.13146380e-05\n",
      "  4.28035855e-06 -2.53133476e-05 -3.91770154e-05  4.15109098e-05\n",
      "  8.21314752e-05  8.29710625e-05  4.84415796e-05  8.46004114e-05\n",
      " -4.06072941e-05  7.84359872e-06  1.35563314e-05  2.79974192e-05\n",
      "  2.19885260e-05 -5.00213355e-05 -3.72193754e-05  9.15094279e-05\n",
      "  1.44440681e-04  6.99176453e-05 -3.32463533e-05 -9.79511533e-05\n",
      "  7.42141856e-06 -1.89270941e-06  2.86193681e-05 -5.59266664e-05\n",
      " -2.58214131e-05 -2.35475600e-05 -2.04568496e-05  3.86540778e-05\n",
      " -3.55811790e-05  4.72180545e-06 -6.21657819e-05  3.40249389e-05\n",
      " -9.56971198e-05 -2.31880695e-05  1.42605044e-04  1.37780706e-04\n",
      "  8.76993872e-05  2.97161750e-05  2.07428820e-05  5.16557484e-05\n",
      "  1.62199140e-05 -6.24606328e-05 -2.85482965e-05  1.00111123e-04\n",
      " -1.55069865e-05 -2.20974907e-05  1.55339949e-05 -8.29733908e-05\n",
      "  3.34240030e-05 -7.44537829e-07 -5.55641600e-06 -5.64014772e-06\n",
      " -2.61233508e-05  6.22196021e-05 -3.29169561e-05  2.34483741e-06\n",
      "  4.64096665e-05  1.90241262e-05 -7.65547156e-07 -3.57069075e-06\n",
      " -1.04637817e-04 -5.77494502e-05  6.56396151e-06  5.88449184e-05\n",
      "  8.47056508e-05  3.56081873e-05  2.76640058e-05 -5.91836870e-05\n",
      "  4.66639176e-05  3.08891758e-05 -1.81673095e-05 -1.49989501e-05\n",
      " -8.24350864e-05 -3.38489190e-06 -4.60913870e-05  6.90313755e-06\n",
      " -9.09364608e-05  3.69769696e-05 -1.20330369e-05 -4.82594187e-05\n",
      " -2.57692809e-05  3.96701798e-05 -1.11003174e-05 -4.93490370e-05\n",
      " -5.23785129e-05 -3.75695527e-06 -1.62357464e-05 -7.08661973e-05\n",
      " -5.10830432e-05 -3.37362289e-05  3.42167914e-06  3.11778858e-05\n",
      "  3.60654667e-06  8.97620339e-07 -2.54439656e-05 -1.61291100e-05\n",
      " -4.07132320e-05  4.92646359e-05 -4.07081097e-05 -3.09692696e-05\n",
      "  3.72033101e-05  3.39624239e-05 -5.53418868e-05 -1.45763624e-05\n",
      " -1.60538184e-05 -6.06077156e-05  8.76054219e-06  8.55085091e-06\n",
      " -5.99853156e-05 -4.86596582e-05 -1.94980530e-05  1.81200721e-05\n",
      "  1.19145843e-05  1.97754707e-05 -4.49805520e-06 -3.08244489e-05\n",
      " -5.05750068e-05 -4.01372090e-05 -4.23779711e-05  4.37041745e-05\n",
      " -4.06792387e-05  2.78465450e-05  3.24808061e-05 -3.23315617e-05\n",
      "  3.78917903e-05 -7.23445555e-06 -1.85003446e-05 -3.99970450e-05\n",
      " -6.09072158e-05 -3.88364424e-05 -2.76918290e-05 -3.26798763e-05\n",
      " -3.00019747e-06 -2.61424939e-05  3.99465207e-05  7.34592031e-05\n",
      " -5.90454147e-06 -1.08876120e-05 -6.05689274e-05 -1.15867879e-05\n",
      " -8.03992152e-05 -9.81235644e-06 -1.65176461e-05 -1.74021698e-05\n",
      " -2.21587834e-05  3.46755842e-05  1.60284690e-05  2.93005141e-05\n",
      " -3.24581051e-05 -7.58097740e-05 -6.80005178e-06 -4.71412204e-05\n",
      " -1.84713863e-05  2.15421896e-05  2.62527610e-05  4.38943971e-07\n",
      " -2.79976230e-05 -2.40676600e-05  3.53338255e-05  5.91525022e-05\n",
      " -4.33965906e-05 -4.36282426e-06 -3.23189306e-06  3.59461010e-05\n",
      "  7.58064853e-05 -1.83501106e-06 -8.76374543e-06  2.14369575e-05\n",
      "  6.35378819e-06  1.97662157e-05 -3.17336526e-05  1.29838008e-06\n",
      "  7.54110806e-06 -1.61270145e-06  2.39204383e-06 -3.29579925e-05\n",
      " -4.84916090e-05 -4.13585803e-06 -2.77010586e-05  1.23667996e-06\n",
      "  2.46338459e-05 -1.39706244e-05 -2.99714156e-05 -6.28326379e-05\n",
      "  4.38936986e-05 -6.28612033e-05 -4.57867354e-05 -7.16515387e-06\n",
      "  1.98563066e-05 -2.19091598e-05 -1.40074262e-05 -4.92775580e-05]\n"
     ]
    },
    {
     "name": "stderr",
     "output_type": "stream",
     "text": [
      "\n"
     ]
    }
   ],
   "execution_count": 33
  },
  {
   "metadata": {
    "ExecuteTime": {
     "end_time": "2025-08-28T14:17:33.301181Z",
     "start_time": "2025-08-28T14:17:33.248557Z"
    }
   },
   "cell_type": "code",
   "source": [
    "tlnp = np.array(tl)\n",
    "# tlnpdiff = tlnp[1:] - tlnp[:-1]\n",
    "plt.plot(tlnp)"
   ],
   "outputs": [
    {
     "data": {
      "text/plain": [
       "[<matplotlib.lines.Line2D at 0x32637c7d0>]"
      ]
     },
     "execution_count": 32,
     "metadata": {},
     "output_type": "execute_result"
    },
    {
     "data": {
      "text/plain": [
       "<Figure size 640x480 with 1 Axes>"
      ],
      "image/png": "[encoded data removed]"
     },
     "metadata": {},
     "output_type": "display_data"
    }
   ],
   "execution_count": 32
  },
  {
   "metadata": {
    "ExecuteTime": {
     "end_time": "2025-08-28T14:17:03.079730Z",
     "start_time": "2025-08-28T14:17:03.023200Z"
    }
   },
   "cell_type": "code",
   "source": "plt.imshow(Xp[1:2].detach().numpy().reshape((28,28)))",
   "outputs": [
    {
     "data": {
      "text/plain": [
       "<matplotlib.image.AxesImage at 0x329cd4950>"
      ]
     },
     "execution_count": 31,
     "metadata": {},
     "output_type": "execute_result"
    },
    {
     "data": {
      "text/plain": [
       "<Figure size 640x480 with 1 Axes>"
      ],
      "image/png": "[encoded data removed]"
     },
     "metadata": {},
     "output_type": "display_data"
    }
   ],
   "execution_count": 31
  },
  {
   "metadata": {
    "ExecuteTime": {
     "end_time": "2025-08-28T14:16:01.736763Z",
     "start_time": "2025-08-28T14:16:01.698180Z"
    }
   },
   "cell_type": "code",
   "source": "plt.plot(tl)",
   "outputs": [
    {
     "data": {
      "text/plain": [
       "[<matplotlib.lines.Line2D at 0x326f6c7d0>]"
      ]
     },
     "execution_count": 22,
     "metadata": {},
     "output_type": "execute_result"
    },
    {
     "data": {
      "text/plain": [
       "<Figure size 640x480 with 1 Axes>"
      ],
      "image/png": "[encoded data removed]"
     },
     "metadata": {},
     "output_type": "display_data"
    }
   ],
   "execution_count": 22
  },
  {
   "metadata": {
    "ExecuteTime": {
     "end_time": "2025-08-28T13:37:36.549981Z",
     "start_time": "2025-08-28T13:37:36.506347Z"
    }
   },
   "cell_type": "code",
   "source": "",
   "outputs": [
    {
     "data": {
      "text/plain": [
       "[<matplotlib.lines.Line2D at 0x32cb86410>]"
      ]
     },
     "execution_count": 36,
     "metadata": {},
     "output_type": "execute_result"
    },
    {
     "data": {
      "text/plain": [
       "<Figure size 640x480 with 1 Axes>"
      ],
      "image/png": "[encoded data removed]"
     },
     "metadata": {},
     "output_type": "display_data"
    }
   ],
   "execution_count": 36
  },
  {
   "metadata": {
    "ExecuteTime": {
     "end_time": "2025-08-28T13:35:31.170791Z",
     "start_time": "2025-08-28T13:35:31.169399Z"
    }
   },
   "cell_type": "code",
   "source": "",
   "outputs": [],
   "execution_count": null
  },
  {
   "metadata": {},
   "cell_type": "code",
   "outputs": [],
   "execution_count": null,
   "source": ""
  }
 ],
 "metadata": {
  "kernelspec": {
   "display_name": "Python 3",
   "language": "python",
   "name": "python3"
  },
  "language_info": {
   "codemirror_mode": {
    "name": "ipython",
    "version": 3
   },
   "file_extension": ".py",
   "mimetype": "text/x-python",
   "name": "python",
   "nbconvert_exporter": "python",
   "pygments_lexer": "ipython3",
   "version": "3.6.6"
  }
 },
 "nbformat": 4,
 "nbformat_minor": 2
}

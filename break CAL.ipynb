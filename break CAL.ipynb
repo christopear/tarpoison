{
 "cells": [
  {
   "metadata": {
    "ExecuteTime": {
     "end_time": "2025-08-28T20:26:04.825878Z",
     "start_time": "2025-08-28T20:26:03.202256Z"
    }
   },
   "cell_type": "code",
   "source": [
    "from random import shuffle\n",
    "import numpy as np\n",
    "import torch\n",
    "from matplotlib import pyplot as plt\n",
    "from sklearn.datasets import fetch_openml\n",
    "from sklearn.decomposition import PCA\n",
    "from sklearn.model_selection import train_test_split\n",
    "from sklearn.preprocessing import MinMaxScaler\n",
    "from torch import nn\n",
    "import numpy as np\n",
    "def plot_square(wcopy, **kwargs):\n",
    "    ns = np.ceil(np.sqrt(wcopy.shape[0])).astype(int)\n",
    "    s = np.zeros(ns**2)\n",
    "    s[:wcopy.size] = wcopy\n",
    "    s = s.reshape(ns,ns)\n",
    "    plt.imshow(s, **kwargs)\n",
    "# mms = MinMaxScaler()\n",
    "def get_data(target_digit1=9, target_digit2=1):\n",
    "    pca = PCA(n_components=4)\n",
    "\n",
    "    mnist = fetch_openml('mnist_784')\n",
    "    X_orig, y_orig = mnist[\"data\"], mnist[\"target\"]\n",
    "\n",
    "    X_orig = np.clip(np.array(X_orig).astype(np.float32) / 255.0, 0.0, 1.0)\n",
    "    y_orig = np.array(y_orig).astype(np.uint8)\n",
    "\n",
    "    target_digit1_xdata = X_orig[y_orig == target_digit1]\n",
    "    target_digit2_xdata = X_orig[y_orig == target_digit2]#[:300]\n",
    "    target_digit1_ydata = y_orig[y_orig == target_digit1]\n",
    "    target_digit2_ydata = y_orig[y_orig == target_digit2]#[:300]\n",
    "    X = np.concatenate((target_digit1_xdata, target_digit2_xdata), axis=0)\n",
    "    y = np.concatenate((target_digit1_ydata, target_digit2_ydata), axis=0)\n",
    "\n",
    "    y = np.where(y == target_digit1, -1, 1)\n",
    "    return X, y\n",
    "\n",
    "# reduce the dimensions of X\n",
    "# X = pca.fit_transform(X)\n",
    "\n",
    "# # add on the bias\n",
    "# X = np.concatenate([np.ones_like(X[:, :1]), X],axis=-1)\n",
    "# plot_square(target_digit1_xdata[0], cmap=plt.get_cmap(\"gray\"))"
   ],
   "outputs": [],
   "execution_count": 1
  },
  {
   "metadata": {
    "ExecuteTime": {
     "end_time": "2025-08-28T20:26:05.337460Z",
     "start_time": "2025-08-28T20:26:05.334375Z"
    }
   },
   "cell_type": "code",
   "source": "# plot_square(target_digit2_xdata[0], cmap=plt.get_cmap(\"gray\"))",
   "outputs": [],
   "execution_count": 2
  },
  {
   "metadata": {
    "ExecuteTime": {
     "end_time": "2025-08-28T20:26:08.177828Z",
     "start_time": "2025-08-28T20:26:06.211405Z"
    }
   },
   "cell_type": "code",
   "source": [
    "X, y = get_data(3, 8)\n",
    "X_train, X_test, y_train, y_test = train_test_split(X, y, test_size=0.4, random_state=42)\n",
    "X_test, X_val, y_test, y_val = train_test_split(X_test, y_test, test_size=0.5, random_state=42)\n",
    "\n",
    "# pca.fit(X_train)\n",
    "\n",
    "print(X_train.shape, X_test.shape, X_val.shape)\n",
    "print(y_train.shape, y_test.shape, y_val.shape)"
   ],
   "outputs": [
    {
     "name": "stdout",
     "output_type": "stream",
     "text": [
      "(8379, 784) (2793, 784) (2794, 784)\n",
      "(8379,) (2793,) (2794,)\n"
     ]
    }
   ],
   "execution_count": 3
  },
  {
   "metadata": {
    "ExecuteTime": {
     "end_time": "2025-08-28T20:26:09.279419Z",
     "start_time": "2025-08-28T20:26:09.276577Z"
    }
   },
   "cell_type": "code",
   "source": [
    "# # pca2 = PCA(n_components=2)\n",
    "# # plotx = pca.fit_transform(X_train)\n",
    "#\n",
    "# formatter = plt.FuncFormatter(lambda i, *args: np.where(y_train[i] == 1, target_digit2, target_digit1))\n",
    "# plt.scatter(X_train[:, 0], X_train[:, 1], c=y_train)\n",
    "# plt.colorbar(ticks=[0, 1], format=formatter)\n",
    "# # plt.xlabel(iris.feature_names[x_index])\n",
    "# # plt.ylabel(iris.feature_names[y_index])\n",
    "# plt.show()"
   ],
   "outputs": [],
   "execution_count": 4
  },
  {
   "metadata": {
    "ExecuteTime": {
     "end_time": "2025-08-28T20:26:09.748439Z",
     "start_time": "2025-08-28T20:26:09.746762Z"
    }
   },
   "cell_type": "code",
   "source": "",
   "outputs": [],
   "execution_count": null
  },
  {
   "metadata": {
    "ExecuteTime": {
     "end_time": "2025-08-28T20:26:10.574470Z",
     "start_time": "2025-08-28T20:26:10.569574Z"
    }
   },
   "cell_type": "code",
   "source": [
    "from torch.utils.data import DataLoader, TensorDataset\n",
    "from tqdm import tqdm\n",
    "device = 'cpu'\n",
    "X_train = torch.Tensor(X_train).to(device)\n",
    "y_train = torch.Tensor(y_train).to(device)\n",
    "X_test = torch.Tensor(X_test).to(device)\n",
    "y_test = torch.Tensor(y_test).to(device)\n",
    "X_val = torch.Tensor(X_val).to(device)\n",
    "y_val = torch.Tensor(y_val).to(device)\n",
    "# train_dl = DataLoader(TensorDataset(X_train, y_train), batch_size=1024)\n",
    "# test_dl = TensorDataset(X_test, y_test)\n",
    "# val_dl = TensorDataset(X_val, y_val)\n"
   ],
   "outputs": [],
   "execution_count": 5
  },
  {
   "metadata": {
    "ExecuteTime": {
     "end_time": "2025-08-28T20:26:11.239589Z",
     "start_time": "2025-08-28T20:26:11.237553Z"
    }
   },
   "cell_type": "code",
   "source": "",
   "outputs": [],
   "execution_count": null
  },
  {
   "metadata": {
    "ExecuteTime": {
     "end_time": "2025-08-28T20:26:31.146641Z",
     "start_time": "2025-08-28T20:26:11.750645Z"
    }
   },
   "cell_type": "code",
   "source": [
    "class LinearSVM(nn.Module):\n",
    "    def __init__(self, dim, C=1.0, bias=True):\n",
    "        super().__init__()\n",
    "        self.dim = dim\n",
    "        self.w = nn.Parameter(torch.rand(self.dim))\n",
    "        self.C = C\n",
    "        self.b = nn.Parameter(torch.rand(1)) if bias else None\n",
    "\n",
    "    def forward(self, X):                             # scores s = w^T x + b\n",
    "        s = X @ self.w\n",
    "        return s + self.b if self.b is not None else s\n",
    "\n",
    "    def svm_loss(self, X, y, C=None, regularize_bias=False):\n",
    "        C = C or self.C\n",
    "        y = y.to(self.w.dtype)                          # y in {-1,+1}, float\n",
    "        s = self(X)\n",
    "        hinge = torch.clamp(1.0 - y * s, min=0.0)\n",
    "        data_term = hinge.pow(2).mean()\n",
    "\n",
    "        reg = 0.5 * (self.w @ self.w)\n",
    "\n",
    "        if regularize_bias and (self.b is not None):\n",
    "            reg = reg + 0.5 * (self.b * self.b)\n",
    "\n",
    "        return reg + C * data_term\n",
    "\n",
    "def train_model(Xtr, ytr, Xva, yva, lr=1e-2, num_epochs=2000, model=None):\n",
    "\n",
    "    dim = Xtr.size(1)\n",
    "    if model is None:\n",
    "        model = LinearSVM(dim, C=1.0).to(device)\n",
    "\n",
    "    opt = torch.optim.SGD(model.parameters(), lr=lr)\n",
    "    sb = tqdm(range(num_epochs))\n",
    "    tl = []\n",
    "\n",
    "    for epoch in sb:\n",
    "        # for Xb, yb in train_dl:\n",
    "        Xb, yb = Xtr, ytr\n",
    "        loss = model.svm_loss(Xb, yb)\n",
    "        opt.zero_grad()\n",
    "        loss.backward()\n",
    "        opt.step()\n",
    "\n",
    "        if epoch % 10 == 0:\n",
    "            with torch.no_grad():\n",
    "                loss = model.svm_loss(Xva, yva)\n",
    "                tl.append(loss.item())\n",
    "                sb.set_postfix(loss=tl[-1])\n",
    "    return model, tl\n",
    "\n",
    "mdl, tl = train_model(X_train, y_train, X_val, y_val, num_epochs=10000)\n",
    "from matplotlib import pyplot as plt\n",
    "plt.plot(np.array(tl))\n",
    "plt.show()"
   ],
   "outputs": [
    {
     "name": "stderr",
     "output_type": "stream",
     "text": [
      "100%|██████████| 10000/10000 [00:18<00:00, 529.94it/s, loss=0.323]\n"
     ]
    },
    {
     "data": {
      "text/plain": [
       "<Figure size 640x480 with 1 Axes>"
      ],
      "image/png": "[encoded data removed]"
     },
     "metadata": {},
     "output_type": "display_data"
    }
   ],
   "execution_count": 6
  },
  {
   "metadata": {
    "ExecuteTime": {
     "end_time": "2025-08-28T20:26:54.270283Z",
     "start_time": "2025-08-28T20:26:54.258439Z"
    }
   },
   "cell_type": "code",
   "source": [
    "from sklearn import metrics\n",
    "y_test_np = y_test.detach().numpy() > 0\n",
    "y_pred_np = (X_test @ mdl.w).detach().numpy() > 0\n",
    "print(metrics.accuracy_score(y_test_np, y_pred_np))\n",
    "print(metrics.precision_score(y_test_np, y_pred_np))\n",
    "print(metrics.recall_score(y_test_np, y_pred_np))\n",
    "metrics.confusion_matrix(y_test_np, y_pred_np)"
   ],
   "outputs": [
    {
     "name": "stdout",
     "output_type": "stream",
     "text": [
      "0.9294665234514858\n",
      "0.8800521512385919\n",
      "0.9904622157006603\n"
     ]
    },
    {
     "data": {
      "text/plain": [
       "array([[1246,  184],\n",
       "       [  13, 1350]])"
      ]
     },
     "execution_count": 7,
     "metadata": {},
     "output_type": "execute_result"
    }
   ],
   "execution_count": 7
  },
  {
   "metadata": {
    "ExecuteTime": {
     "end_time": "2025-08-28T20:26:57.473088Z",
     "start_time": "2025-08-28T20:26:57.416007Z"
    }
   },
   "cell_type": "code",
   "source": [
    "\n",
    "plot_square(np.copy(mdl.w.detach().numpy()))"
   ],
   "outputs": [
    {
     "data": {
      "text/plain": [
       "<Figure size 640x480 with 1 Axes>"
      ],
      "image/png": "[encoded data removed]"
     },
     "metadata": {},
     "output_type": "display_data"
    }
   ],
   "execution_count": 8
  },
  {
   "metadata": {},
   "cell_type": "markdown",
   "source": "# Now to break it"
  },
  {
   "metadata": {
    "ExecuteTime": {
     "end_time": "2025-08-28T20:27:01.669119Z",
     "start_time": "2025-08-28T20:27:01.666452Z"
    }
   },
   "cell_type": "code",
   "source": [
    "for param in mdl.parameters():\n",
    "    param.requires_grad = False\n"
   ],
   "outputs": [],
   "execution_count": 9
  },
  {
   "metadata": {
    "ExecuteTime": {
     "end_time": "2025-08-28T20:27:02.354163Z",
     "start_time": "2025-08-28T20:27:02.352089Z"
    }
   },
   "cell_type": "code",
   "source": "",
   "outputs": [],
   "execution_count": null
  },
  {
   "metadata": {
    "ExecuteTime": {
     "end_time": "2025-08-28T20:07:19.825458Z",
     "start_time": "2025-08-28T20:07:19.802153Z"
    }
   },
   "cell_type": "code",
   "source": [
    "# num_epochs = 10000\n",
    "# l2_reg = 0.2\n",
    "#\n",
    "# perturbation = torch.rand(X_train.size(1)) * 0.1\n",
    "# perturbation.requires_grad = True\n",
    "#\n",
    "# opt = torch.optim.SGD([perturbation], lr=1e-1)\n",
    "#\n",
    "# Xb = X_train[-1:, :]\n",
    "# yb = y_train[-1:]\n",
    "# yb_pred_new = mdl(Xb).sign().detach().numpy()\n",
    "#\n",
    "#\n",
    "# sb = tqdm(range(num_epochs))\n",
    "# tl = []\n",
    "# for epoch in sb:\n",
    "#     new_Xb = torch.clamp(Xb + perturbation, 0.0, 1.0)\n",
    "#     new_yb = yb * -1\n",
    "#     loss = mdl.svm_loss(new_Xb, new_yb)\n",
    "#\n",
    "#     l2_loss = perturbation.norm()\n",
    "#     total_loss = loss + l2_reg * l2_loss\n",
    "#     opt.zero_grad()\n",
    "#     total_loss.backward()\n",
    "#     opt.step()\n",
    "#\n",
    "#     if epoch % 10 == 0:\n",
    "#         with torch.no_grad():\n",
    "#             pred = mdl(new_Xb).sign().detach().numpy()\n",
    "#             # print(pred != yb_pred_new, np.sum(pred != yb_pred_new))\n",
    "#             # break\n",
    "#             if np.sum(pred != yb_pred_new) >= len(pred):\n",
    "#                 print(\"Finished!\")\n",
    "#                 break\n",
    "#             loss = mdl.svm_loss(Xb + perturbation, yb)\n",
    "#             tl.append(loss.item())\n",
    "#             sb.set_postfix(loss=tl[-1])\n"
   ],
   "outputs": [
    {
     "name": "stderr",
     "output_type": "stream",
     "text": [
      "  0%|          | 40/10000 [00:00<00:04, 2363.52it/s, loss=0.882]"
     ]
    },
    {
     "name": "stdout",
     "output_type": "stream",
     "text": [
      "Finished!\n"
     ]
    },
    {
     "name": "stderr",
     "output_type": "stream",
     "text": [
      "\n"
     ]
    }
   ],
   "execution_count": 10
  },
  {
   "metadata": {
    "ExecuteTime": {
     "end_time": "2025-08-28T20:27:08.896783Z",
     "start_time": "2025-08-28T20:27:08.894464Z"
    }
   },
   "cell_type": "code",
   "source": "",
   "outputs": [],
   "execution_count": null
  },
  {
   "metadata": {
    "ExecuteTime": {
     "end_time": "2025-08-28T20:27:09.373869Z",
     "start_time": "2025-08-28T20:27:09.371181Z"
    }
   },
   "cell_type": "code",
   "source": "# plot_square(Xb[0].detach().numpy())",
   "outputs": [],
   "execution_count": 10
  },
  {
   "metadata": {
    "ExecuteTime": {
     "end_time": "2025-08-28T20:27:10.000695Z",
     "start_time": "2025-08-28T20:27:09.998238Z"
    }
   },
   "cell_type": "code",
   "source": "# plot_square((Xb[0].detach().numpy() + perturbation.detach().numpy()))\n",
   "outputs": [],
   "execution_count": 11
  },
  {
   "metadata": {
    "ExecuteTime": {
     "end_time": "2025-08-28T20:27:10.784212Z",
     "start_time": "2025-08-28T20:27:10.782097Z"
    }
   },
   "cell_type": "code",
   "source": "# plot_square((perturbation.detach().numpy()))\n",
   "outputs": [],
   "execution_count": 12
  },
  {
   "metadata": {},
   "cell_type": "markdown",
   "source": "# Now to break CAL"
  },
  {
   "metadata": {
    "ExecuteTime": {
     "end_time": "2025-08-28T20:30:47.007144Z",
     "start_time": "2025-08-28T20:30:47.002984Z"
    }
   },
   "cell_type": "code",
   "source": [
    "# for param in mdl.parameters():\n",
    "#     param.requires_grad = True"
   ],
   "outputs": [
    {
     "data": {
      "text/plain": [
       "tensor([1.])"
      ]
     },
     "execution_count": 19,
     "metadata": {},
     "output_type": "execute_result"
    }
   ],
   "execution_count": 19
  },
  {
   "metadata": {
    "ExecuteTime": {
     "end_time": "2025-08-28T20:35:03.154490Z",
     "start_time": "2025-08-28T20:34:21.095879Z"
    }
   },
   "cell_type": "code",
   "source": [
    "X_seed = X_test[2:3, ]\n",
    "y_seed = y_test[2:3]\n",
    "\n",
    "seed_target = y_seed.item()\n",
    "print(seed_target)\n",
    "\n",
    "X_found = X_train\n",
    "y_real = torch.clone(y_train)\n",
    "\n",
    "num_cal_steps = 100\n",
    "\n",
    "mdl = None\n",
    "SIZE = 250\n",
    "for iteration in range(num_cal_steps):\n",
    "    print(\"Size {}\".format(X_seed.size()[0]))\n",
    "    y_found = torch.ones_like(y_real) * (-seed_target)\n",
    "    X_combined = torch.cat([X_found, X_seed], dim=0)\n",
    "    y_combined = torch.cat([y_found, y_seed], dim=0)\n",
    "\n",
    "    mdl, tl = train_model(X_combined, y_combined, X_val, y_val, num_epochs=1000, lr=1e-2, model=mdl)\n",
    "    v, top_n_indices = torch.topk((X_found @ mdl.w), SIZE, largest=seed_target == 1.0)\n",
    "\n",
    "\n",
    "    maskn = torch.zeros(X_found.size()[0], dtype=torch.bool)\n",
    "\n",
    "    # Set the positions of the top items to True\n",
    "    maskn[top_n_indices] = True\n",
    "    # ampersand it with whether it's in the target env or not\n",
    "    mask = torch.logical_and(maskn, y_real == seed_target)\n",
    "\n",
    "    summask = torch.sum(mask).item()\n",
    "    print(summask/SIZE)\n",
    "    if summask/SIZE < 1e-2:\n",
    "        break\n",
    "    # Select the items that are NOT in the top n by inverting the mask\n",
    "    X_seed = torch.cat([X_found[mask], X_seed], dim=0)\n",
    "    y_seed = torch.cat([y_real[mask], y_seed], dim=0)\n",
    "\n",
    "    X_found = X_found[~maskn]\n",
    "    y_real = y_real[~maskn]"
   ],
   "outputs": [
    {
     "name": "stdout",
     "output_type": "stream",
     "text": [
      "1.0\n",
      "Size 1\n"
     ]
    },
    {
     "name": "stderr",
     "output_type": "stream",
     "text": [
      "100%|██████████| 1000/1000 [00:01<00:00, 505.15it/s, loss=2.17]\n"
     ]
    },
    {
     "name": "stdout",
     "output_type": "stream",
     "text": [
      "0.956\n",
      "Size 240\n"
     ]
    },
    {
     "name": "stderr",
     "output_type": "stream",
     "text": [
      "100%|██████████| 1000/1000 [00:01<00:00, 522.92it/s, loss=1.82]\n"
     ]
    },
    {
     "name": "stdout",
     "output_type": "stream",
     "text": [
      "0.984\n",
      "Size 486\n"
     ]
    },
    {
     "name": "stderr",
     "output_type": "stream",
     "text": [
      "100%|██████████| 1000/1000 [00:01<00:00, 554.36it/s, loss=1.71]\n"
     ]
    },
    {
     "name": "stdout",
     "output_type": "stream",
     "text": [
      "0.96\n",
      "Size 726\n"
     ]
    },
    {
     "name": "stderr",
     "output_type": "stream",
     "text": [
      "100%|██████████| 1000/1000 [00:01<00:00, 520.04it/s, loss=1.63]\n"
     ]
    },
    {
     "name": "stdout",
     "output_type": "stream",
     "text": [
      "0.948\n",
      "Size 963\n"
     ]
    },
    {
     "name": "stderr",
     "output_type": "stream",
     "text": [
      "100%|██████████| 1000/1000 [00:01<00:00, 531.97it/s, loss=1.53]\n"
     ]
    },
    {
     "name": "stdout",
     "output_type": "stream",
     "text": [
      "0.936\n",
      "Size 1197\n"
     ]
    },
    {
     "name": "stderr",
     "output_type": "stream",
     "text": [
      "100%|██████████| 1000/1000 [00:01<00:00, 526.80it/s, loss=1.43]\n"
     ]
    },
    {
     "name": "stdout",
     "output_type": "stream",
     "text": [
      "0.9\n",
      "Size 1422\n"
     ]
    },
    {
     "name": "stderr",
     "output_type": "stream",
     "text": [
      "100%|██████████| 1000/1000 [00:01<00:00, 524.29it/s, loss=1.31]\n"
     ]
    },
    {
     "name": "stdout",
     "output_type": "stream",
     "text": [
      "0.844\n",
      "Size 1633\n"
     ]
    },
    {
     "name": "stderr",
     "output_type": "stream",
     "text": [
      "100%|██████████| 1000/1000 [00:01<00:00, 535.99it/s, loss=1.2]\n"
     ]
    },
    {
     "name": "stdout",
     "output_type": "stream",
     "text": [
      "0.884\n",
      "Size 1854\n"
     ]
    },
    {
     "name": "stderr",
     "output_type": "stream",
     "text": [
      "100%|██████████| 1000/1000 [00:01<00:00, 534.08it/s, loss=1.09]\n"
     ]
    },
    {
     "name": "stdout",
     "output_type": "stream",
     "text": [
      "0.884\n",
      "Size 2075\n"
     ]
    },
    {
     "name": "stderr",
     "output_type": "stream",
     "text": [
      "100%|██████████| 1000/1000 [00:01<00:00, 523.72it/s, loss=0.972]\n"
     ]
    },
    {
     "name": "stdout",
     "output_type": "stream",
     "text": [
      "0.856\n",
      "Size 2289\n"
     ]
    },
    {
     "name": "stderr",
     "output_type": "stream",
     "text": [
      "100%|██████████| 1000/1000 [00:01<00:00, 606.34it/s, loss=0.864]\n"
     ]
    },
    {
     "name": "stdout",
     "output_type": "stream",
     "text": [
      "0.86\n",
      "Size 2504\n"
     ]
    },
    {
     "name": "stderr",
     "output_type": "stream",
     "text": [
      "100%|██████████| 1000/1000 [00:01<00:00, 607.05it/s, loss=0.762]\n"
     ]
    },
    {
     "name": "stdout",
     "output_type": "stream",
     "text": [
      "0.876\n",
      "Size 2723\n"
     ]
    },
    {
     "name": "stderr",
     "output_type": "stream",
     "text": [
      "100%|██████████| 1000/1000 [00:01<00:00, 614.70it/s, loss=0.666]\n"
     ]
    },
    {
     "name": "stdout",
     "output_type": "stream",
     "text": [
      "0.84\n",
      "Size 2933\n"
     ]
    },
    {
     "name": "stderr",
     "output_type": "stream",
     "text": [
      "100%|██████████| 1000/1000 [00:01<00:00, 619.37it/s, loss=0.581]\n"
     ]
    },
    {
     "name": "stdout",
     "output_type": "stream",
     "text": [
      "0.844\n",
      "Size 3144\n"
     ]
    },
    {
     "name": "stderr",
     "output_type": "stream",
     "text": [
      "100%|██████████| 1000/1000 [00:01<00:00, 623.76it/s, loss=0.506]\n"
     ]
    },
    {
     "name": "stdout",
     "output_type": "stream",
     "text": [
      "0.828\n",
      "Size 3351\n"
     ]
    },
    {
     "name": "stderr",
     "output_type": "stream",
     "text": [
      "100%|██████████| 1000/1000 [00:01<00:00, 630.91it/s, loss=0.442]\n"
     ]
    },
    {
     "name": "stdout",
     "output_type": "stream",
     "text": [
      "0.772\n",
      "Size 3544\n"
     ]
    },
    {
     "name": "stderr",
     "output_type": "stream",
     "text": [
      "100%|██████████| 1000/1000 [00:01<00:00, 612.22it/s, loss=0.393]\n"
     ]
    },
    {
     "name": "stdout",
     "output_type": "stream",
     "text": [
      "0.764\n",
      "Size 3735\n"
     ]
    },
    {
     "name": "stderr",
     "output_type": "stream",
     "text": [
      "100%|██████████| 1000/1000 [00:01<00:00, 638.45it/s, loss=0.359]\n"
     ]
    },
    {
     "name": "stdout",
     "output_type": "stream",
     "text": [
      "0.64\n",
      "Size 3895\n"
     ]
    },
    {
     "name": "stderr",
     "output_type": "stream",
     "text": [
      "100%|██████████| 1000/1000 [00:01<00:00, 639.06it/s, loss=0.344]\n"
     ]
    },
    {
     "name": "stdout",
     "output_type": "stream",
     "text": [
      "0.436\n",
      "Size 4004\n"
     ]
    },
    {
     "name": "stderr",
     "output_type": "stream",
     "text": [
      "100%|██████████| 1000/1000 [00:01<00:00, 663.18it/s, loss=0.348]\n"
     ]
    },
    {
     "name": "stdout",
     "output_type": "stream",
     "text": [
      "0.172\n",
      "Size 4047\n"
     ]
    },
    {
     "name": "stderr",
     "output_type": "stream",
     "text": [
      "100%|██████████| 1000/1000 [00:01<00:00, 676.10it/s, loss=0.36]\n"
     ]
    },
    {
     "name": "stdout",
     "output_type": "stream",
     "text": [
      "0.048\n",
      "Size 4059\n"
     ]
    },
    {
     "name": "stderr",
     "output_type": "stream",
     "text": [
      "100%|██████████| 1000/1000 [00:01<00:00, 693.57it/s, loss=0.376]\n"
     ]
    },
    {
     "name": "stdout",
     "output_type": "stream",
     "text": [
      "0.036\n",
      "Size 4068\n"
     ]
    },
    {
     "name": "stderr",
     "output_type": "stream",
     "text": [
      "100%|██████████| 1000/1000 [00:01<00:00, 718.17it/s, loss=0.394]\n"
     ]
    },
    {
     "name": "stdout",
     "output_type": "stream",
     "text": [
      "0.016\n",
      "Size 4072\n"
     ]
    },
    {
     "name": "stderr",
     "output_type": "stream",
     "text": [
      "100%|██████████| 1000/1000 [00:01<00:00, 738.12it/s, loss=0.416]\n"
     ]
    },
    {
     "name": "stdout",
     "output_type": "stream",
     "text": [
      "0.012\n",
      "Size 4075\n"
     ]
    },
    {
     "name": "stderr",
     "output_type": "stream",
     "text": [
      "100%|██████████| 1000/1000 [00:01<00:00, 773.71it/s, loss=0.442]"
     ]
    },
    {
     "name": "stdout",
     "output_type": "stream",
     "text": [
      "0.0\n"
     ]
    },
    {
     "name": "stderr",
     "output_type": "stream",
     "text": [
      "\n"
     ]
    }
   ],
   "execution_count": 22
  },
  {
   "metadata": {
    "ExecuteTime": {
     "end_time": "2025-08-28T20:06:22.720542Z",
     "start_time": "2025-08-28T20:05:58.630348Z"
    }
   },
   "cell_type": "code",
   "source": [
    "mdl, tl = train_model(X_combined, y_combined, X_val, y_val, num_epochs=100000, lr=2e-1)\n",
    "v, top_n_indices = torch.topk((X_train @ mdl.w), 10, largest=True)\n",
    "\n",
    "\n",
    "mask = torch.zeros(X_train.size()[0], dtype=torch.bool)\n",
    "\n",
    "# Set the positions of the top items to True\n",
    "mask[top_n_indices] = True\n",
    "# ampersand it with whether it's in the target env or not\n",
    "mask = torch.logical_and(mask, y_train == seed_target)\n",
    "\n",
    "# Select the items that are NOT in the top n by inverting the mask\n",
    "X_selected = X_train[mask]\n",
    "y_selected = y_train[mask]\n",
    "\n",
    "X_rest = X_train[~mask]\n",
    "y_rest = y_train[~mask]"
   ],
   "outputs": [
    {
     "name": "stderr",
     "output_type": "stream",
     "text": [
      "100%|██████████| 10000/10000 [00:24<00:00, 415.27it/s, loss=25] \n"
     ]
    }
   ],
   "execution_count": 78
  },
  {
   "metadata": {},
   "cell_type": "code",
   "outputs": [],
   "execution_count": null,
   "source": ""
  },
  {
   "metadata": {
    "ExecuteTime": {
     "end_time": "2025-08-28T16:47:13.081888Z",
     "start_time": "2025-08-28T16:47:13.073132Z"
    }
   },
   "cell_type": "code",
   "source": "",
   "outputs": [],
   "execution_count": 76
  },
  {
   "metadata": {
    "ExecuteTime": {
     "end_time": "2025-08-28T16:32:49.459995Z",
     "start_time": "2025-08-28T16:32:49.447563Z"
    }
   },
   "cell_type": "code",
   "source": [
    "import pandas as pd\n",
    "y_score = (X_train @ mdl.w).detach().numpy().reshape(-1,1)\n",
    "df = pd.DataFrame({'y_actual': y_train.detach().numpy(),'scores': y_score.reshape(-1)})\n",
    "df.sort_values('scores',ascending=True)\n"
   ],
   "outputs": [
    {
     "data": {
      "text/plain": [
       "      y_actual    scores\n",
       "3950      -1.0  0.008209\n",
       "6512      -1.0  0.008850\n",
       "5871       1.0  0.011345\n",
       "6824       1.0  0.011428\n",
       "6023       1.0  0.011711\n",
       "...        ...       ...\n",
       "5142       1.0  0.120737\n",
       "2246       1.0  0.121957\n",
       "5722       1.0  0.122500\n",
       "1115       1.0  0.123171\n",
       "7858       1.0  0.127526\n",
       "\n",
       "[8901 rows x 2 columns]"
      ],
      "text/html": [
       "<div>\n",
       "<style scoped>\n",
       "    .dataframe tbody tr th:only-of-type {\n",
       "        vertical-align: middle;\n",
       "    }\n",
       "\n",
       "    .dataframe tbody tr th {\n",
       "        vertical-align: top;\n",
       "    }\n",
       "\n",
       "    .dataframe thead th {\n",
       "        text-align: right;\n",
       "    }\n",
       "</style>\n",
       "<table border=\"1\" class=\"dataframe\">\n",
       "  <thead>\n",
       "    <tr style=\"text-align: right;\">\n",
       "      <th></th>\n",
       "      <th>y_actual</th>\n",
       "      <th>scores</th>\n",
       "    </tr>\n",
       "  </thead>\n",
       "  <tbody>\n",
       "    <tr>\n",
       "      <th>3950</th>\n",
       "      <td>-1.0</td>\n",
       "      <td>0.008209</td>\n",
       "    </tr>\n",
       "    <tr>\n",
       "      <th>6512</th>\n",
       "      <td>-1.0</td>\n",
       "      <td>0.008850</td>\n",
       "    </tr>\n",
       "    <tr>\n",
       "      <th>5871</th>\n",
       "      <td>1.0</td>\n",
       "      <td>0.011345</td>\n",
       "    </tr>\n",
       "    <tr>\n",
       "      <th>6824</th>\n",
       "      <td>1.0</td>\n",
       "      <td>0.011428</td>\n",
       "    </tr>\n",
       "    <tr>\n",
       "      <th>6023</th>\n",
       "      <td>1.0</td>\n",
       "      <td>0.011711</td>\n",
       "    </tr>\n",
       "    <tr>\n",
       "      <th>...</th>\n",
       "      <td>...</td>\n",
       "      <td>...</td>\n",
       "    </tr>\n",
       "    <tr>\n",
       "      <th>5142</th>\n",
       "      <td>1.0</td>\n",
       "      <td>0.120737</td>\n",
       "    </tr>\n",
       "    <tr>\n",
       "      <th>2246</th>\n",
       "      <td>1.0</td>\n",
       "      <td>0.121957</td>\n",
       "    </tr>\n",
       "    <tr>\n",
       "      <th>5722</th>\n",
       "      <td>1.0</td>\n",
       "      <td>0.122500</td>\n",
       "    </tr>\n",
       "    <tr>\n",
       "      <th>1115</th>\n",
       "      <td>1.0</td>\n",
       "      <td>0.123171</td>\n",
       "    </tr>\n",
       "    <tr>\n",
       "      <th>7858</th>\n",
       "      <td>1.0</td>\n",
       "      <td>0.127526</td>\n",
       "    </tr>\n",
       "  </tbody>\n",
       "</table>\n",
       "<p>8901 rows × 2 columns</p>\n",
       "</div>"
      ]
     },
     "execution_count": 68,
     "metadata": {},
     "output_type": "execute_result"
    }
   ],
   "execution_count": 68
  },
  {
   "metadata": {
    "ExecuteTime": {
     "end_time": "2025-08-28T16:32:51.465060Z",
     "start_time": "2025-08-28T16:32:51.453840Z"
    }
   },
   "cell_type": "code",
   "source": [
    "from sklearn import metrics\n",
    "\n",
    "\n",
    "y_test_np = y_test.detach().numpy() == 1\n",
    "y_pred_np = (X_test @ mdl.w).detach().numpy() < 0\n",
    "print(metrics.accuracy_score(y_test_np, y_pred_np))\n",
    "print(metrics.precision_score(y_test_np, y_pred_np))\n",
    "print(metrics.recall_score(y_test_np, y_pred_np))\n",
    "metrics.confusion_matrix(y_test_np, y_pred_np)"
   ],
   "outputs": [
    {
     "name": "stdout",
     "output_type": "stream",
     "text": [
      "0.4620829120323559\n",
      "0.0\n",
      "0.0\n"
     ]
    },
    {
     "name": "stderr",
     "output_type": "stream",
     "text": [
      "/Users/christopear/PycharmProjects/tarpoison/.venv/lib/python3.11/site-packages/sklearn/metrics/_classification.py:1731: UndefinedMetricWarning: Precision is ill-defined and being set to 0.0 due to no predicted samples. Use `zero_division` parameter to control this behavior.\n",
      "  _warn_prf(average, modifier, f\"{metric.capitalize()} is\", result.shape[0])\n"
     ]
    },
    {
     "data": {
      "text/plain": [
       "array([[1371,    0],\n",
       "       [1596,    0]])"
      ]
     },
     "execution_count": 69,
     "metadata": {},
     "output_type": "execute_result"
    }
   ],
   "execution_count": 69
  },
  {
   "metadata": {
    "ExecuteTime": {
     "end_time": "2025-08-28T16:22:04.627628Z",
     "start_time": "2025-08-28T16:22:04.623652Z"
    }
   },
   "cell_type": "code",
   "source": "",
   "outputs": [
    {
     "data": {
      "text/plain": [
       "array([0., 0., 0., ..., 0., 0., 0.])"
      ]
     },
     "execution_count": 31,
     "metadata": {},
     "output_type": "execute_result"
    }
   ],
   "execution_count": 31
  },
  {
   "metadata": {
    "ExecuteTime": {
     "end_time": "2025-08-28T16:22:08.761884Z",
     "start_time": "2025-08-28T16:22:08.704677Z"
    }
   },
   "cell_type": "code",
   "source": "",
   "outputs": [
    {
     "ename": "ValueError",
     "evalue": "Classification metrics can't handle a mix of binary and continuous targets",
     "output_type": "error",
     "traceback": [
      "\u001B[31m---------------------------------------------------------------------------\u001B[39m",
      "\u001B[31mValueError\u001B[39m                                Traceback (most recent call last)",
      "\u001B[36mCell\u001B[39m\u001B[36m \u001B[39m\u001B[32mIn[32]\u001B[39m\u001B[32m, line 1\u001B[39m\n\u001B[32m----> \u001B[39m\u001B[32m1\u001B[39m \u001B[38;5;28mprint\u001B[39m(\u001B[43mmetrics\u001B[49m\u001B[43m.\u001B[49m\u001B[43maccuracy_score\u001B[49m\u001B[43m(\u001B[49m\u001B[43my_test_np\u001B[49m\u001B[43m,\u001B[49m\u001B[43m \u001B[49m\u001B[43my_pred_np\u001B[49m\u001B[43m)\u001B[49m)\n\u001B[32m      2\u001B[39m \u001B[38;5;28mprint\u001B[39m(metrics.precision_score(y_test_np, y_pred_np))\n\u001B[32m      3\u001B[39m \u001B[38;5;28mprint\u001B[39m(metrics.recall_score(y_test_np, y_pred_np))\n",
      "\u001B[36mFile \u001B[39m\u001B[32m~/PycharmProjects/tarpoison/.venv/lib/python3.11/site-packages/sklearn/utils/_param_validation.py:218\u001B[39m, in \u001B[36mvalidate_params.<locals>.decorator.<locals>.wrapper\u001B[39m\u001B[34m(*args, **kwargs)\u001B[39m\n\u001B[32m    212\u001B[39m \u001B[38;5;28;01mtry\u001B[39;00m:\n\u001B[32m    213\u001B[39m     \u001B[38;5;28;01mwith\u001B[39;00m config_context(\n\u001B[32m    214\u001B[39m         skip_parameter_validation=(\n\u001B[32m    215\u001B[39m             prefer_skip_nested_validation \u001B[38;5;129;01mor\u001B[39;00m global_skip_validation\n\u001B[32m    216\u001B[39m         )\n\u001B[32m    217\u001B[39m     ):\n\u001B[32m--> \u001B[39m\u001B[32m218\u001B[39m         \u001B[38;5;28;01mreturn\u001B[39;00m \u001B[43mfunc\u001B[49m\u001B[43m(\u001B[49m\u001B[43m*\u001B[49m\u001B[43margs\u001B[49m\u001B[43m,\u001B[49m\u001B[43m \u001B[49m\u001B[43m*\u001B[49m\u001B[43m*\u001B[49m\u001B[43mkwargs\u001B[49m\u001B[43m)\u001B[49m\n\u001B[32m    219\u001B[39m \u001B[38;5;28;01mexcept\u001B[39;00m InvalidParameterError \u001B[38;5;28;01mas\u001B[39;00m e:\n\u001B[32m    220\u001B[39m     \u001B[38;5;66;03m# When the function is just a wrapper around an estimator, we allow\u001B[39;00m\n\u001B[32m    221\u001B[39m     \u001B[38;5;66;03m# the function to delegate validation to the estimator, but we replace\u001B[39;00m\n\u001B[32m    222\u001B[39m     \u001B[38;5;66;03m# the name of the estimator by the name of the function in the error\u001B[39;00m\n\u001B[32m    223\u001B[39m     \u001B[38;5;66;03m# message to avoid confusion.\u001B[39;00m\n\u001B[32m    224\u001B[39m     msg = re.sub(\n\u001B[32m    225\u001B[39m         \u001B[33mr\u001B[39m\u001B[33m\"\u001B[39m\u001B[33mparameter of \u001B[39m\u001B[33m\\\u001B[39m\u001B[33mw+ must be\u001B[39m\u001B[33m\"\u001B[39m,\n\u001B[32m    226\u001B[39m         \u001B[33mf\u001B[39m\u001B[33m\"\u001B[39m\u001B[33mparameter of \u001B[39m\u001B[38;5;132;01m{\u001B[39;00mfunc.\u001B[34m__qualname__\u001B[39m\u001B[38;5;132;01m}\u001B[39;00m\u001B[33m must be\u001B[39m\u001B[33m\"\u001B[39m,\n\u001B[32m    227\u001B[39m         \u001B[38;5;28mstr\u001B[39m(e),\n\u001B[32m    228\u001B[39m     )\n",
      "\u001B[36mFile \u001B[39m\u001B[32m~/PycharmProjects/tarpoison/.venv/lib/python3.11/site-packages/sklearn/metrics/_classification.py:359\u001B[39m, in \u001B[36maccuracy_score\u001B[39m\u001B[34m(y_true, y_pred, normalize, sample_weight)\u001B[39m\n\u001B[32m    357\u001B[39m \u001B[38;5;66;03m# Compute accuracy for each possible representation\u001B[39;00m\n\u001B[32m    358\u001B[39m y_true, y_pred = attach_unique(y_true, y_pred)\n\u001B[32m--> \u001B[39m\u001B[32m359\u001B[39m y_type, y_true, y_pred = \u001B[43m_check_targets\u001B[49m\u001B[43m(\u001B[49m\u001B[43my_true\u001B[49m\u001B[43m,\u001B[49m\u001B[43m \u001B[49m\u001B[43my_pred\u001B[49m\u001B[43m)\u001B[49m\n\u001B[32m    360\u001B[39m check_consistent_length(y_true, y_pred, sample_weight)\n\u001B[32m    362\u001B[39m \u001B[38;5;28;01mif\u001B[39;00m y_type.startswith(\u001B[33m\"\u001B[39m\u001B[33mmultilabel\u001B[39m\u001B[33m\"\u001B[39m):\n",
      "\u001B[36mFile \u001B[39m\u001B[32m~/PycharmProjects/tarpoison/.venv/lib/python3.11/site-packages/sklearn/metrics/_classification.py:106\u001B[39m, in \u001B[36m_check_targets\u001B[39m\u001B[34m(y_true, y_pred)\u001B[39m\n\u001B[32m    103\u001B[39m     y_type = {\u001B[33m\"\u001B[39m\u001B[33mmulticlass\u001B[39m\u001B[33m\"\u001B[39m}\n\u001B[32m    105\u001B[39m \u001B[38;5;28;01mif\u001B[39;00m \u001B[38;5;28mlen\u001B[39m(y_type) > \u001B[32m1\u001B[39m:\n\u001B[32m--> \u001B[39m\u001B[32m106\u001B[39m     \u001B[38;5;28;01mraise\u001B[39;00m \u001B[38;5;167;01mValueError\u001B[39;00m(\n\u001B[32m    107\u001B[39m         \u001B[33m\"\u001B[39m\u001B[33mClassification metrics can\u001B[39m\u001B[33m'\u001B[39m\u001B[33mt handle a mix of \u001B[39m\u001B[38;5;132;01m{0}\u001B[39;00m\u001B[33m and \u001B[39m\u001B[38;5;132;01m{1}\u001B[39;00m\u001B[33m targets\u001B[39m\u001B[33m\"\u001B[39m.format(\n\u001B[32m    108\u001B[39m             type_true, type_pred\n\u001B[32m    109\u001B[39m         )\n\u001B[32m    110\u001B[39m     )\n\u001B[32m    112\u001B[39m \u001B[38;5;66;03m# We can't have more than one value on y_type => The set is no more needed\u001B[39;00m\n\u001B[32m    113\u001B[39m y_type = y_type.pop()\n",
      "\u001B[31mValueError\u001B[39m: Classification metrics can't handle a mix of binary and continuous targets"
     ]
    }
   ],
   "execution_count": 32
  },
  {
   "metadata": {
    "ExecuteTime": {
     "end_time": "2025-08-28T15:42:40.555722Z",
     "start_time": "2025-08-28T15:42:40.506413Z"
    }
   },
   "cell_type": "code",
   "source": [
    "from sklearn.metrics import roc_curve, auc\n",
    "\n",
    "y_train2 = 1 - (y_train + 1) / 2\n",
    "# Compute micro-average ROC curve and ROC area\n",
    "fpr, tpr, _ = roc_curve(y_train2, y_score)\n",
    "\n",
    "plt.figure()\n",
    "lw = 2\n",
    "plt.plot(fpr, tpr, color='darkorange',\n",
    "         lw=lw)\n",
    "plt.plot([0, 1], [0, 1], color='navy', lw=lw, linestyle='--')\n",
    "plt.xlim([0.0, 1.0])\n",
    "plt.ylim([0.0, 1.05])\n",
    "plt.xlabel('False Positive Rate')\n",
    "plt.ylabel('True Positive Rate')\n",
    "plt.title('Receiver operating characteristic example')\n",
    "plt.legend(loc=\"lower right\")\n",
    "plt.show()"
   ],
   "outputs": [
    {
     "name": "stderr",
     "output_type": "stream",
     "text": [
      "/var/folders/sh/x7gvx6517mx2_19qkh1b6y0w0000gn/T/ipykernel_7270/824274905.py:17: UserWarning: No artists with labels found to put in legend.  Note that artists whose label start with an underscore are ignored when legend() is called with no argument.\n",
      "  plt.legend(loc=\"lower right\")\n"
     ]
    },
    {
     "data": {
      "text/plain": [
       "<Figure size 640x480 with 1 Axes>"
      ],
      "image/png": "[encoded data removed]"
     },
     "metadata": {},
     "output_type": "display_data"
    }
   ],
   "execution_count": 156
  },
  {
   "metadata": {
    "ExecuteTime": {
     "end_time": "2025-08-28T14:53:20.034725Z",
     "start_time": "2025-08-28T14:53:20.027243Z"
    }
   },
   "cell_type": "code",
   "source": [
    "from sklearn import metrics\n",
    "y_pred = (X_test @ mdl.w > 0) * 1.0\n",
    "y_test_np = (y_test.detach().numpy() + 1.0)/2\n",
    "y_pred_np = y_pred.detach().numpy()\n",
    "print(metrics.accuracy_score(y_test_np, y_pred_np))\n",
    "print(metrics.precision_score(y_test_np, y_pred_np))\n",
    "print(metrics.recall_score(y_test_np, y_pred_np))\n",
    "metrics.confusion_matrix(y_test_np, y_pred_np)"
   ],
   "outputs": [
    {
     "name": "stdout",
     "output_type": "stream",
     "text": [
      "0.03425076452599388\n",
      "0.03425076452599388\n",
      "1.0\n"
     ]
    },
    {
     "data": {
      "text/plain": [
       "array([[   0, 1579],\n",
       "       [   0,   56]])"
      ]
     },
     "execution_count": 22,
     "metadata": {},
     "output_type": "execute_result"
    }
   ],
   "execution_count": 22
  },
  {
   "metadata": {},
   "cell_type": "markdown",
   "source": "# Now to break training\n"
  },
  {
   "metadata": {
    "ExecuteTime": {
     "end_time": "2025-08-28T14:18:31.947560Z",
     "start_time": "2025-08-28T14:18:29.034241Z"
    }
   },
   "cell_type": "code",
   "source": [
    "for param in model.parameters():\n",
    "    param.requires_grad = True\n",
    "\n",
    "C = 1.0\n",
    "\n",
    "lr = 1e-2\n",
    "num_epochs = 10\n",
    "\n",
    "NUM_POISON_POINTS = 100\n",
    "\n",
    "Xp = torch.rand((NUM_POISON_POINTS, X_train.size(1)))\n",
    "yp = torch.Tensor([1] * (NUM_POISON_POINTS//2) + [-1] * (NUM_POISON_POINTS//2))\n",
    "Xp.requires_grad = True\n",
    "\n",
    "\n",
    "oldw = np.copy(model.w.detach().numpy())\n",
    "oldb = np.copy(model.b.detach().numpy())\n",
    "# dim = X_train.size(1)\n",
    "# model = LinearSVM(dim, C=1.0).to(device)\n",
    "optmodel = torch.optim.SGD(model.parameters(), lr=1e-4)\n",
    "optpoison = torch.optim.SGD([Xp], lr=1e-1)\n",
    "\n",
    "num_epochs = 500\n",
    "sb = tqdm(range(num_epochs))\n",
    "tl = []\n",
    "\n",
    "for epoch in sb:\n",
    "    Xb = torch.cat([X_train, Xp],dim=0)\n",
    "    yb = torch.cat([y_train, yp], dim=0)\n",
    "\n",
    "    # train the model stage\n",
    "    loss = model.svm_loss(Xb, yb)\n",
    "    optmodel.zero_grad()\n",
    "    loss.backward()\n",
    "    optmodel.step()\n",
    "\n",
    "    # train the poison stage\n",
    "    # new_Xb = torch.clamp(Xb, 0.0, 1.0)\n",
    "    loss = -model.svm_loss(Xb, yb)\n",
    "    optpoison.zero_grad()\n",
    "    loss.backward()\n",
    "    optpoison.step()\n",
    "    with torch.no_grad():\n",
    "        Xp = torch.clamp(Xp, 0.0, 1.0)\n",
    "\n",
    "    if epoch % 10 == 0:\n",
    "        with torch.no_grad():\n",
    "            loss = model.svm_loss(X_val, y_val)\n",
    "            tl.append(loss.item())\n",
    "            sb.set_postfix(loss=tl[-1])\n",
    "\n",
    "neww = model.w.detach().numpy()\n",
    "newb = model.b.detach().numpy()\n",
    "print(neww - oldw)"
   ],
   "outputs": [
    {
     "name": "stderr",
     "output_type": "stream",
     "text": [
      "100%|██████████| 500/500 [00:02<00:00, 172.27it/s, loss=0.323]"
     ]
    },
    {
     "name": "stdout",
     "output_type": "stream",
     "text": [
      "[-4.16868279e-05  4.42332748e-06 -4.04657912e-05 -1.33730064e-05\n",
      " -7.26606231e-06  8.88902105e-06  1.64149096e-05 -4.27795458e-05\n",
      " -1.33696740e-05  1.38467658e-06 -4.56342968e-06  1.24682892e-05\n",
      "  1.38444302e-05 -3.12023849e-06  3.89931374e-05  8.93797551e-06\n",
      "  4.96213761e-05 -1.08397217e-06  1.08508830e-05 -3.23262211e-05\n",
      " -1.86180932e-05 -1.53441142e-05 -2.92278128e-05 -2.66719435e-05\n",
      " -1.41900591e-05 -4.80965100e-05  2.14744068e-06  1.81049527e-05\n",
      " -3.73163784e-05  4.48439096e-06 -4.31298395e-06  1.00063335e-05\n",
      " -1.14215072e-06 -8.27599506e-05 -9.79057222e-06 -1.23997916e-06\n",
      "  3.32828495e-06 -1.76671019e-05  1.48961699e-05  6.57064957e-05\n",
      "  5.52639176e-05 -3.84399318e-05  2.61337846e-06  1.85758399e-05\n",
      " -3.93016671e-05  2.52220198e-05 -4.39053110e-06  2.15528416e-05\n",
      " -1.53825313e-05 -2.73757032e-05 -5.53559730e-05 -6.38100319e-05\n",
      " -1.24554645e-05  5.79426560e-05 -3.87156069e-05  3.70728085e-05\n",
      "  3.01110049e-05 -1.09267596e-04  1.54998997e-05 -4.42716264e-05\n",
      " -8.02513387e-06 -2.84703565e-05 -2.46723648e-05 -1.45528320e-05\n",
      "  3.36444064e-05 -1.97774971e-05  3.33593343e-05 -5.63961221e-05\n",
      "  3.06731745e-05 -6.59952930e-05 -5.42621929e-05  4.70216037e-06\n",
      " -2.07336270e-05 -6.47924317e-05 -2.91638135e-05 -1.92361003e-05\n",
      "  4.70474333e-06 -4.48469655e-06  2.22999697e-05  7.18379160e-05\n",
      " -2.50818266e-06 -2.70657620e-05 -6.21154832e-05 -2.34700565e-05\n",
      " -1.50530250e-05  2.80606218e-06  3.53961514e-06 -1.15845760e-05\n",
      "  2.84693670e-07  2.82114488e-05 -1.52068678e-05 -6.70535374e-05\n",
      "  2.33994797e-05 -2.55261548e-05 -9.72696580e-06  1.17905438e-05\n",
      " -4.32711095e-05  2.54814513e-05 -6.04693778e-05  2.78465450e-07\n",
      " -3.05287540e-05  1.46753155e-05  2.39815563e-05  9.06945206e-06\n",
      "  1.28776301e-05 -4.65475605e-05 -2.67796568e-05 -1.33002141e-05\n",
      " -5.38752029e-05 -2.16894841e-05 -1.41822520e-05 -1.92269508e-05\n",
      "  3.94661038e-06  8.33817467e-06  2.69736192e-05 -1.66950558e-05\n",
      "  1.72699220e-06 -9.99285839e-06  3.04395799e-05  7.66371377e-05\n",
      " -4.44054604e-06  9.48086381e-07 -1.06010586e-04 -5.18038869e-05\n",
      " -2.24728137e-05  7.77924433e-05  1.25447754e-04  9.50889662e-05\n",
      "  3.18229431e-05 -1.23706996e-05  9.52626579e-06 -1.72005093e-05\n",
      "  1.80066563e-05  2.51217280e-05 -6.87994761e-05  7.98737165e-06\n",
      "  2.60371016e-05 -1.10405977e-04 -6.98702934e-06 -2.79441083e-05\n",
      "  3.53829091e-05  3.47561727e-05 -7.56892478e-05  1.53608271e-05\n",
      "  3.85385938e-05  1.34818256e-05  8.45631585e-05  7.66683370e-05\n",
      " -1.01540238e-04 -7.07097352e-05 -6.82789832e-05  3.10763717e-05\n",
      "  3.48351896e-05 -3.33236530e-05  1.66795217e-05  3.75537202e-05\n",
      "  8.08723271e-05  1.03471801e-04  1.07279047e-04  1.38180330e-05\n",
      "  3.98666598e-05  9.70531255e-06  4.64986078e-05 -2.11407896e-05\n",
      "  8.26211181e-06 -1.80530478e-05 -9.48103843e-06 -3.98095435e-05\n",
      " -4.31289300e-05 -5.99902996e-05 -1.14820650e-05  1.28697138e-05\n",
      " -5.34467399e-05 -3.03201377e-05 -4.66052443e-05 -6.21806830e-05\n",
      " -3.95793468e-05 -1.40955672e-04 -4.72944230e-05  8.21938738e-05\n",
      "  1.78301707e-05  4.40357253e-05 -1.92802399e-05  7.08904117e-05\n",
      " -1.85088720e-05  2.11289153e-05 -9.87220556e-05  3.97292897e-05\n",
      " -7.63405114e-06 -3.64650041e-05 -8.45734030e-06 -2.63703987e-06\n",
      " -4.11490910e-05 -4.79826704e-05 -4.69834777e-05 -8.97898281e-06\n",
      " -1.84132368e-05  6.37370977e-06  3.57723329e-05 -1.59766059e-05\n",
      " -2.03009695e-05 -3.40770930e-05  1.37221068e-05  4.89726663e-05\n",
      "  7.51391053e-06 -4.98816371e-05 -6.34882599e-06 -1.27553940e-05\n",
      " -1.18054450e-05  4.74508852e-05 -2.12583691e-05  1.28215179e-04\n",
      "  4.32692468e-06  1.26073137e-05  1.59783493e-04  1.90527644e-05\n",
      " -5.36185689e-05 -2.05407850e-05 -3.14051285e-05 -1.65496022e-06\n",
      "  6.28246926e-05 -6.23296946e-05  1.26853120e-05 -9.21576284e-05\n",
      " -3.60877966e-05  3.39905819e-05 -1.11642294e-07  3.53334472e-05\n",
      " -6.50323927e-05 -7.38129020e-05 -4.44147736e-05  0.00000000e+00\n",
      "  5.00299502e-05  1.99675560e-06 -2.45105475e-05  2.19810754e-05\n",
      "  3.93679366e-05  5.16478904e-05  6.13741577e-05 -1.42045319e-05\n",
      "  1.02967024e-05  4.51635569e-05  1.15701463e-04  7.68553000e-05\n",
      "  3.15089710e-05 -5.48474491e-05 -1.32685527e-05 -8.21556896e-05\n",
      " -1.21835619e-05 -3.49711627e-06 -2.20657676e-05  2.81798420e-05\n",
      " -8.91144737e-06  3.68369510e-05  2.05027900e-05  9.83872451e-06\n",
      "  8.14720988e-06 -2.09780410e-06 -4.01933212e-05  3.27453017e-06\n",
      "  1.27479434e-05 -4.36827540e-05  1.40853226e-05  1.08137727e-04\n",
      " -4.98518348e-05  7.68341124e-07 -4.64301556e-05 -2.90982425e-05\n",
      " -7.48075545e-05  6.38272613e-05  7.40629621e-05  1.25286169e-05\n",
      " -1.09123066e-04 -3.56258824e-05 -6.20894134e-05 -5.33200800e-05\n",
      "  2.37030908e-05 -1.26077794e-05  4.76771093e-05 -4.84818665e-05\n",
      "  5.24006755e-05 -3.49325419e-05  1.94664462e-05 -6.38763886e-05\n",
      " -8.14751256e-05 -3.50350165e-05  1.01272017e-05  4.32766974e-05\n",
      " -3.76626849e-05  5.02914190e-05  6.63064420e-05  2.04183161e-05\n",
      " -2.38865614e-05 -3.39420512e-05  1.32126734e-05  1.10451132e-04\n",
      "  3.60775739e-05  4.91179526e-05  8.73458339e-06 -1.95393339e-04\n",
      " -6.40777871e-05 -5.42979687e-05 -2.11466104e-05 -4.05414030e-05\n",
      "  2.68220901e-06 -2.86032446e-05  5.09709935e-06 -3.16275982e-05\n",
      " -1.10908586e-05 -4.57441784e-05  6.22028310e-05 -6.28276030e-05\n",
      " -6.35152828e-05 -3.54796648e-05 -3.35769728e-05  7.32336193e-05\n",
      " -4.82462347e-05  3.35276127e-05  6.76177442e-05 -3.08118761e-05\n",
      "  5.47617674e-06 -3.48472968e-05  6.37117773e-06  7.51577318e-05\n",
      " -1.81682408e-05 -4.83691692e-05  3.22551932e-05 -9.74810682e-05\n",
      "  1.61444768e-05  1.11868605e-04  1.74883753e-05 -8.19098204e-06\n",
      " -2.23936513e-06  2.42842361e-07 -2.68156582e-05  6.79993536e-06\n",
      " -4.71083222e-05  3.24171378e-05 -2.99636813e-05  6.88378350e-06\n",
      " -4.60061710e-06 -3.61795537e-05  3.16649675e-05 -8.86432827e-06\n",
      "  1.86283141e-05  2.23517418e-05 -2.04518437e-06  2.44099647e-05\n",
      " -8.76244158e-05 -4.03597951e-05 -1.20569021e-05  3.68440524e-05\n",
      " -5.82588837e-05 -2.34721228e-05  3.70998750e-05  7.24056736e-05\n",
      "  9.40067694e-05  5.87943941e-05  1.19255856e-05 -3.66405584e-05\n",
      " -3.50927003e-05 -5.02394978e-05 -9.04139597e-06 -6.78187644e-05\n",
      "  1.59488118e-05 -1.33524009e-05 -1.06597567e-04  2.88851152e-06\n",
      " -6.23106898e-05 -8.53606034e-05  2.06567347e-05 -2.11009756e-05\n",
      "  8.34651291e-06 -7.69104809e-05 -1.09715387e-04  2.64574774e-05\n",
      "  4.17986885e-05 -8.41580331e-05 -9.31061804e-05 -9.03392211e-05\n",
      " -1.49515457e-04 -2.05622055e-05  8.94907862e-06  6.62829261e-05\n",
      "  1.28955464e-04  7.42166303e-05  5.53810969e-05 -3.70072667e-05\n",
      "  2.62407120e-05 -3.79002304e-05  3.62171559e-05 -4.33935202e-05\n",
      " -1.35170849e-05 -1.95635948e-07  4.31981898e-05  3.27127636e-05\n",
      "  4.85146884e-05 -6.93816692e-05 -7.53374770e-05 -5.93531877e-06\n",
      "  2.22050985e-05  1.11069530e-05  3.57097015e-05  1.02062710e-04\n",
      "  7.79004768e-05  3.61930579e-05 -9.43597406e-05 -4.67728823e-05\n",
      " -9.64822248e-05 -1.10636465e-04  3.21157277e-05 -1.78441405e-06\n",
      "  4.39696014e-05  2.94651836e-05 -4.52030799e-05  7.67591409e-05\n",
      " -4.62082680e-05 -2.69322190e-05 -3.52900679e-06  7.83824362e-07\n",
      "  5.09296660e-06 -1.69177365e-05 -3.22352789e-05 -1.64549565e-05\n",
      " -3.59516125e-05 -3.81995924e-05 -1.02513935e-04 -7.40110409e-05\n",
      "  1.69570558e-05 -3.13185155e-05 -7.19767995e-05  5.11668622e-06\n",
      " -4.36902046e-05 -6.43022358e-05  4.24310565e-06 -3.62899154e-05\n",
      "  1.18445605e-05 -4.03821468e-06 -3.41720879e-05 -4.03448939e-06\n",
      "  3.52561474e-05  3.57180834e-05  2.87168659e-05 -7.34844652e-05\n",
      "  1.59846386e-05  2.72036996e-05 -2.70825694e-05 -2.45060419e-05\n",
      " -7.83678261e-05 -1.03530474e-05  3.32441414e-06  5.42192720e-06\n",
      " -1.18073076e-05 -3.39150429e-05  5.86176757e-05  4.40995209e-05\n",
      "  4.65195626e-05  3.13073397e-05  1.61789358e-05 -5.15058637e-05\n",
      " -5.51268458e-05 -5.86733222e-05 -5.14648855e-05  1.56890601e-05\n",
      " -5.78286126e-05 -8.11461359e-05 -7.08885491e-05  5.38676977e-06\n",
      " -3.99481505e-05 -1.97691843e-05  1.85947865e-05  4.87749930e-05\n",
      "  6.51663286e-05 -2.54402403e-06  8.50696815e-05  4.46182603e-05\n",
      " -1.13088972e-05 -2.54024053e-05 -7.37735536e-06 -1.51796266e-05\n",
      "  2.37487257e-05  4.93414700e-06  3.26447189e-05  3.72994691e-05\n",
      " -7.45058060e-06  2.79769301e-06  3.32742929e-05 -1.02177262e-04\n",
      " -1.62124634e-05  7.86744058e-05  1.50762498e-05  1.07288361e-05\n",
      " -3.32064228e-05  4.44054604e-06 -6.96405768e-05  6.77630305e-06\n",
      " -1.81067735e-05 -3.83052975e-06  5.00651076e-05  1.45877711e-05\n",
      "  2.98817176e-05  6.46268527e-05  8.62030138e-05 -4.17319825e-07\n",
      "  4.28910462e-05  1.14817376e-05  1.71868596e-05 -4.52524982e-05\n",
      "  6.67823479e-05 -1.61584467e-06  2.50153244e-06  5.32446429e-05\n",
      " -1.14079565e-04 -5.05745411e-05 -3.09795141e-05 -1.17197633e-05\n",
      " -1.32843852e-05  6.85453415e-06 -5.52907586e-05 -7.25168502e-05\n",
      " -2.41659582e-05  1.13204122e-04 -5.74868172e-05 -7.70185143e-05\n",
      "  7.21085817e-05 -2.03326344e-05 -8.29640776e-05 -1.41312485e-05\n",
      "  2.53802864e-05 -6.71643065e-05 -4.04704479e-05 -1.24138896e-05\n",
      "  3.62696301e-05 -5.80690248e-05 -5.90049895e-05 -2.59913504e-05\n",
      "  5.38732857e-05  6.77183270e-05 -7.18086958e-05 -2.27454584e-05\n",
      " -3.36319208e-05 -3.68952751e-05 -2.47657299e-05 -3.85828316e-05\n",
      " -5.87813556e-05  5.73713332e-05  3.83085571e-05  5.82858920e-05\n",
      " -2.27391720e-05  1.07299536e-04 -8.43834132e-05 -9.69599932e-05\n",
      " -1.44615769e-05 -3.74251977e-05 -4.48673964e-05 -2.91544129e-05\n",
      "  1.88287522e-05  1.44597780e-05 -2.53344078e-05  2.85006827e-05\n",
      "  1.97229965e-05 -2.62782269e-05 -6.26870897e-05  1.02836639e-05\n",
      "  6.03869557e-06 -4.20678407e-05 -2.97166407e-05  3.16342339e-05\n",
      "  3.80913261e-05  4.20249999e-05  2.42572278e-05 -4.29265201e-05\n",
      " -1.43418089e-04  4.44496982e-06  6.81858510e-05  6.50472939e-05\n",
      " -9.05487686e-05 -1.33084133e-04 -5.29531389e-05  4.08627093e-05\n",
      "  1.10395253e-04  9.54270363e-05  3.87581531e-05 -5.65377995e-05\n",
      "  5.65737719e-05 -2.79927626e-05 -1.67656399e-05  1.00968027e-05\n",
      "  5.77021856e-05 -3.05004360e-05 -3.92822549e-05 -1.13146380e-05\n",
      "  4.28035855e-06 -2.53133476e-05 -3.91770154e-05  4.15109098e-05\n",
      "  8.21314752e-05  8.29710625e-05  4.84415796e-05  8.46004114e-05\n",
      " -4.06072941e-05  7.84359872e-06  1.35563314e-05  2.79974192e-05\n",
      "  2.19885260e-05 -5.00213355e-05 -3.72193754e-05  9.15094279e-05\n",
      "  1.44440681e-04  6.99176453e-05 -3.32463533e-05 -9.79511533e-05\n",
      "  7.42141856e-06 -1.89270941e-06  2.86193681e-05 -5.59266664e-05\n",
      " -2.58214131e-05 -2.35475600e-05 -2.04568496e-05  3.86540778e-05\n",
      " -3.55811790e-05  4.72180545e-06 -6.21657819e-05  3.40249389e-05\n",
      " -9.56971198e-05 -2.31880695e-05  1.42605044e-04  1.37780706e-04\n",
      "  8.76993872e-05  2.97161750e-05  2.07428820e-05  5.16557484e-05\n",
      "  1.62199140e-05 -6.24606328e-05 -2.85482965e-05  1.00111123e-04\n",
      " -1.55069865e-05 -2.20974907e-05  1.55339949e-05 -8.29733908e-05\n",
      "  3.34240030e-05 -7.44537829e-07 -5.55641600e-06 -5.64014772e-06\n",
      " -2.61233508e-05  6.22196021e-05 -3.29169561e-05  2.34483741e-06\n",
      "  4.64096665e-05  1.90241262e-05 -7.65547156e-07 -3.57069075e-06\n",
      " -1.04637817e-04 -5.77494502e-05  6.56396151e-06  5.88449184e-05\n",
      "  8.47056508e-05  3.56081873e-05  2.76640058e-05 -5.91836870e-05\n",
      "  4.66639176e-05  3.08891758e-05 -1.81673095e-05 -1.49989501e-05\n",
      " -8.24350864e-05 -3.38489190e-06 -4.60913870e-05  6.90313755e-06\n",
      " -9.09364608e-05  3.69769696e-05 -1.20330369e-05 -4.82594187e-05\n",
      " -2.57692809e-05  3.96701798e-05 -1.11003174e-05 -4.93490370e-05\n",
      " -5.23785129e-05 -3.75695527e-06 -1.62357464e-05 -7.08661973e-05\n",
      " -5.10830432e-05 -3.37362289e-05  3.42167914e-06  3.11778858e-05\n",
      "  3.60654667e-06  8.97620339e-07 -2.54439656e-05 -1.61291100e-05\n",
      " -4.07132320e-05  4.92646359e-05 -4.07081097e-05 -3.09692696e-05\n",
      "  3.72033101e-05  3.39624239e-05 -5.53418868e-05 -1.45763624e-05\n",
      " -1.60538184e-05 -6.06077156e-05  8.76054219e-06  8.55085091e-06\n",
      " -5.99853156e-05 -4.86596582e-05 -1.94980530e-05  1.81200721e-05\n",
      "  1.19145843e-05  1.97754707e-05 -4.49805520e-06 -3.08244489e-05\n",
      " -5.05750068e-05 -4.01372090e-05 -4.23779711e-05  4.37041745e-05\n",
      " -4.06792387e-05  2.78465450e-05  3.24808061e-05 -3.23315617e-05\n",
      "  3.78917903e-05 -7.23445555e-06 -1.85003446e-05 -3.99970450e-05\n",
      " -6.09072158e-05 -3.88364424e-05 -2.76918290e-05 -3.26798763e-05\n",
      " -3.00019747e-06 -2.61424939e-05  3.99465207e-05  7.34592031e-05\n",
      " -5.90454147e-06 -1.08876120e-05 -6.05689274e-05 -1.15867879e-05\n",
      " -8.03992152e-05 -9.81235644e-06 -1.65176461e-05 -1.74021698e-05\n",
      " -2.21587834e-05  3.46755842e-05  1.60284690e-05  2.93005141e-05\n",
      " -3.24581051e-05 -7.58097740e-05 -6.80005178e-06 -4.71412204e-05\n",
      " -1.84713863e-05  2.15421896e-05  2.62527610e-05  4.38943971e-07\n",
      " -2.79976230e-05 -2.40676600e-05  3.53338255e-05  5.91525022e-05\n",
      " -4.33965906e-05 -4.36282426e-06 -3.23189306e-06  3.59461010e-05\n",
      "  7.58064853e-05 -1.83501106e-06 -8.76374543e-06  2.14369575e-05\n",
      "  6.35378819e-06  1.97662157e-05 -3.17336526e-05  1.29838008e-06\n",
      "  7.54110806e-06 -1.61270145e-06  2.39204383e-06 -3.29579925e-05\n",
      " -4.84916090e-05 -4.13585803e-06 -2.77010586e-05  1.23667996e-06\n",
      "  2.46338459e-05 -1.39706244e-05 -2.99714156e-05 -6.28326379e-05\n",
      "  4.38936986e-05 -6.28612033e-05 -4.57867354e-05 -7.16515387e-06\n",
      "  1.98563066e-05 -2.19091598e-05 -1.40074262e-05 -4.92775580e-05]\n"
     ]
    },
    {
     "name": "stderr",
     "output_type": "stream",
     "text": [
      "\n"
     ]
    }
   ],
   "execution_count": 33
  },
  {
   "metadata": {
    "ExecuteTime": {
     "end_time": "2025-08-28T14:17:33.301181Z",
     "start_time": "2025-08-28T14:17:33.248557Z"
    }
   },
   "cell_type": "code",
   "source": [
    "tlnp = np.array(tl)\n",
    "# tlnpdiff = tlnp[1:] - tlnp[:-1]\n",
    "plt.plot(tlnp)"
   ],
   "outputs": [
    {
     "data": {
      "text/plain": [
       "[<matplotlib.lines.Line2D at 0x32637c7d0>]"
      ]
     },
     "execution_count": 32,
     "metadata": {},
     "output_type": "execute_result"
    },
    {
     "data": {
      "text/plain": [
       "<Figure size 640x480 with 1 Axes>"
      ],
      "image/png": "[encoded data removed]"
     },
     "metadata": {},
     "output_type": "display_data"
    }
   ],
   "execution_count": 32
  },
  {
   "metadata": {
    "ExecuteTime": {
     "end_time": "2025-08-28T14:17:03.079730Z",
     "start_time": "2025-08-28T14:17:03.023200Z"
    }
   },
   "cell_type": "code",
   "source": "plt.imshow(Xp[1:2].detach().numpy().reshape((28,28)))",
   "outputs": [
    {
     "data": {
      "text/plain": [
       "<matplotlib.image.AxesImage at 0x329cd4950>"
      ]
     },
     "execution_count": 31,
     "metadata": {},
     "output_type": "execute_result"
    },
    {
     "data": {
      "text/plain": [
       "<Figure size 640x480 with 1 Axes>"
      ],
      "image/png": "[encoded data removed]"
     },
     "metadata": {},
     "output_type": "display_data"
    }
   ],
   "execution_count": 31
  },
  {
   "metadata": {
    "ExecuteTime": {
     "end_time": "2025-08-28T14:16:01.736763Z",
     "start_time": "2025-08-28T14:16:01.698180Z"
    }
   },
   "cell_type": "code",
   "source": "plt.plot(tl)",
   "outputs": [
    {
     "data": {
      "text/plain": [
       "[<matplotlib.lines.Line2D at 0x326f6c7d0>]"
      ]
     },
     "execution_count": 22,
     "metadata": {},
     "output_type": "execute_result"
    },
    {
     "data": {
      "text/plain": [
       "<Figure size 640x480 with 1 Axes>"
      ],
      "image/png": "[encoded data removed]"
     },
     "metadata": {},
     "output_type": "display_data"
    }
   ],
   "execution_count": 22
  },
  {
   "metadata": {
    "ExecuteTime": {
     "end_time": "2025-08-28T13:37:36.549981Z",
     "start_time": "2025-08-28T13:37:36.506347Z"
    }
   },
   "cell_type": "code",
   "source": "",
   "outputs": [
    {
     "data": {
      "text/plain": [
       "[<matplotlib.lines.Line2D at 0x32cb86410>]"
      ]
     },
     "execution_count": 36,
     "metadata": {},
     "output_type": "execute_result"
    },
    {
     "data": {
      "text/plain": [
       "<Figure size 640x480 with 1 Axes>"
      ],
      "image/png": "[encoded data removed]"
     },
     "metadata": {},
     "output_type": "display_data"
    }
   ],
   "execution_count": 36
  },
  {
   "metadata": {
    "ExecuteTime": {
     "end_time": "2025-08-28T13:35:31.170791Z",
     "start_time": "2025-08-28T13:35:31.169399Z"
    }
   },
   "cell_type": "code",
   "source": "",
   "outputs": [],
   "execution_count": null
  },
  {
   "metadata": {},
   "cell_type": "code",
   "outputs": [],
   "execution_count": null,
   "source": ""
  }
 ],
 "metadata": {
  "kernelspec": {
   "display_name": "Python 3",
   "language": "python",
   "name": "python3"
  },
  "language_info": {
   "codemirror_mode": {
    "name": "ipython",
    "version": 3
   },
   "file_extension": ".py",
   "mimetype": "text/x-python",
   "name": "python",
   "nbconvert_exporter": "python",
   "pygments_lexer": "ipython3",
   "version": "3.6.6"
  }
 },
 "nbformat": 4,
 "nbformat_minor": 2
}

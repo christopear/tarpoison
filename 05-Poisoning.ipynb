{
 "cells": [
  {
   "cell_type": "markdown",
   "metadata": {
    "collapsed": true
   },
   "source": [
    "# Poisoning Attacks against Machine Learning models\n",
    "\n",
    "In this tutorial we will experiment with **adversarial poisoning attacks** \n",
    " against a Support Vector Machine (SVM) with Radial Basis Function (RBF) kernel.\n",
    "\n",
    "Poisoning attacks are performed at *train time* by injecting *carefully crafted \n",
    " samples* that alter the classifier decision function so that its accuracy decreases.\n",
    "\n",
    "As in the previous tutorials, we will first create and train the classifier, \n",
    " evaluating its performance in the standard scenario, *i.e. not under attack*.\n",
    " The poisoning attack will also need a *validation set* to verify the classifier\n",
    " performance during the attack, so we split the training set furtherly in two.\n",
    "\n",
    "[![Open In Colab](https://colab.research.google.com/assets/colab-badge.svg)](\n",
    "https://colab.research.google.com/github/pralab/secml/blob/HEAD/tutorials/05-Poisoning.ipynb)"
   ]
  },
  {
   "metadata": {
    "ExecuteTime": {
     "end_time": "2025-08-27T14:41:18.246216Z",
     "start_time": "2025-08-27T14:41:15.319180Z"
    }
   },
   "cell_type": "code",
   "source": [
    "\n",
    "\n",
    "import sklearn\n",
    "import numpy as np\n",
    "from sklearn import metrics\n",
    "from sklearn.datasets import fetch_openml\n",
    "from sklearn.decomposition import PCA\n",
    "from sklearn.model_selection import train_test_split\n",
    "from sklearn.preprocessing import MinMaxScaler\n",
    "from sklearn.svm import SVC\n",
    "\n",
    "mms = MinMaxScaler()\n",
    "pca = PCA(n_components=8)\n",
    "\n",
    "mnist = fetch_openml('mnist_784')\n",
    "X_orig, y_orig = mnist[\"data\"], mnist[\"target\"]\n",
    "\n",
    "X_orig = mms.fit_transform(np.array(X_orig).astype(np.float32))\n",
    "y_orig = np.array(y_orig).astype(np.uint8)\n",
    "target_digit1 = 3\n",
    "target_digit2 = 8\n",
    "\n",
    "target_digit1_xdata = X_orig[y_orig == target_digit1]\n",
    "target_digit2_xdata = X_orig[y_orig == target_digit2]\n",
    "target_digit1_ydata = y_orig[y_orig == target_digit1]\n",
    "target_digit2_ydata = y_orig[y_orig == target_digit2]\n",
    "X = np.concatenate((target_digit1_xdata, target_digit2_xdata), axis=0)\n",
    "y = np.concatenate((target_digit1_ydata, target_digit2_ydata), axis=0)\n",
    "y = np.where(y == target_digit1, 0, 1)\n",
    "X = pca.fit_transform(X)\n",
    "X = mms.fit_transform(X)"
   ],
   "outputs": [],
   "execution_count": 1
  },
  {
   "metadata": {
    "ExecuteTime": {
     "end_time": "2025-08-27T14:41:18.295292Z",
     "start_time": "2025-08-27T14:41:18.281158Z"
    }
   },
   "cell_type": "code",
   "source": [
    "X_train, X_test, y_train, y_test = train_test_split(X, y, test_size=0.4, random_state=42)\n",
    "X_test, X_val, y_test, y_val = train_test_split(X_test, y_test, test_size=0.5, random_state=42)\n",
    "\n",
    "pca.fit(X_train)\n",
    "\n",
    "print(X_train.shape, X_test.shape, X_val.shape)\n",
    "print(y_train.shape, y_test.shape, y_val.shape)\n",
    "# In[2]:"
   ],
   "outputs": [
    {
     "name": "stdout",
     "output_type": "stream",
     "text": [
      "(8379, 8) (2793, 8) (2794, 8)\n",
      "(8379,) (2793,) (2794,)\n"
     ]
    }
   ],
   "execution_count": 2
  },
  {
   "metadata": {
    "ExecuteTime": {
     "end_time": "2025-08-27T14:41:18.399010Z",
     "start_time": "2025-08-27T14:41:18.333589Z"
    }
   },
   "cell_type": "code",
   "source": [
    "from secml.data import CDataset\n",
    "from secml.array.c_dense import CDense\n",
    "\n",
    "tr = CDataset(X_train, y_train)\n",
    "ts = CDataset(X_test, y_test)\n",
    "val = CDataset(X_val, y_val)\n"
   ],
   "outputs": [
    {
     "name": "stderr",
     "output_type": "stream",
     "text": [
      "/Users/christopear/PycharmProjects/tarpoison/secml/__init__.py:4: UserWarning: pkg_resources is deprecated as an API. See https://setuptools.pypa.io/en/latest/pkg_resources.html. The pkg_resources package is slated for removal as early as 2025-11-30. Refrain from using this package or pin to Setuptools<81.\n",
      "  from pkg_resources import parse_version\n"
     ]
    }
   ],
   "execution_count": 3
  },
  {
   "cell_type": "code",
   "metadata": {
    "pycharm": {
     "name": "#%% \n"
    },
    "ExecuteTime": {
     "end_time": "2025-08-27T14:41:20.411705Z",
     "start_time": "2025-08-27T14:41:18.405166Z"
    }
   },
   "source": [
    "random_state = 999\n",
    "\n",
    "# n_features = 2  # Number of features\n",
    "# n_samples = 300  # Number of samples\n",
    "# centers = [[-1, -1], [+1, +1]]  # Centers of the clusters\n",
    "# cluster_std = 0.9  # Standard deviation of the clusters\n",
    "#\n",
    "# from secml.data.loader import CDLRandomBlobs\n",
    "# dataset = CDLRandomBlobs(n_features=n_features,\n",
    "#                          centers=centers,\n",
    "#                          cluster_std=cluster_std,\n",
    "#                          n_samples=n_samples,\n",
    "#                          random_state=random_state).load()\n",
    "#\n",
    "# n_tr = 100  # Number of training set samples\n",
    "# n_val = 100  # Number of validation set samples\n",
    "# n_ts = 100  # Number of test set samples\n",
    "#\n",
    "# # Split in training, validation and test\n",
    "# from secml.data.splitter import CTrainTestSplit\n",
    "# splitter = CTrainTestSplit(\n",
    "#     train_size=n_tr + n_val, test_size=n_ts, random_state=random_state)\n",
    "# tr_val, ts = splitter.split(dataset)\n",
    "# splitter = CTrainTestSplit(\n",
    "#     train_size=n_tr, test_size=n_val, random_state=random_state)\n",
    "# tr, val = splitter.split(dataset)\n",
    "#\n",
    "# # Normalize the data\n",
    "# from secml.ml.features import CNormalizerMinMax\n",
    "# nmz = CNormalizerMinMax()\n",
    "# tr.X = nmz.fit_transform(tr.X)\n",
    "# val.X = nmz.transform(val.X)\n",
    "# ts.X = nmz.transform(ts.X)\n",
    "\n",
    "# Metric to use for training and performance evaluation\n",
    "from secml.ml.peval.metrics import CMetricAccuracy\n",
    "metric = CMetricAccuracy()\n",
    "\n",
    "# Creation of the multiclass classifier\n",
    "from secml.ml.classifiers import CClassifierSVM\n",
    "from secml.ml.kernels import CKernelRBF\n",
    "clf = CClassifierSVM(kernel=CKernelRBF(gamma=0.1), C=1)\n",
    "\n",
    "# We can now fit the classifier\n",
    "clf.fit(tr.X, tr.Y)\n",
    "print(\"Training of classifier complete!\")\n",
    "\n",
    "# Compute predictions on a test set\n",
    "y_pred = clf.predict(ts.X)"
   ],
   "outputs": [
    {
     "name": "stdout",
     "output_type": "stream",
     "text": [
      "Training of classifier complete!\n"
     ]
    }
   ],
   "execution_count": 4
  },
  {
   "metadata": {
    "ExecuteTime": {
     "end_time": "2025-08-27T14:41:20.562838Z",
     "start_time": "2025-08-27T14:41:20.537450Z"
    }
   },
   "cell_type": "code",
   "source": [
    "# Compute predictions on a test set\n",
    "y_pred_np = y_pred.tondarray()\n",
    "y_test_np = ts.Y.tondarray()\n",
    "from sklearn import metrics\n",
    "accuracy_np = metrics.accuracy_score(y_test_np, y_pred_np)\n",
    "precision_np = metrics.precision_score(y_test_np, y_pred_np)\n",
    "recall_np = metrics.recall_score(y_test_np, y_pred_np)\n",
    "cm_np = metrics.confusion_matrix(y_test_np, y_pred_np)\n",
    "# hinge = metrics.hinge_loss(y_test, svm_clf.decision_function(X_test))\n",
    "print('Accuracy: %.4f' % (accuracy_np))\n",
    "print('Precision: %.4f' % (precision_np))\n",
    "print('Recall: %.4f' % (recall_np))\n",
    "# print('Hinge loss: %.4f' % hinge)\n",
    "print(cm_np)"
   ],
   "outputs": [
    {
     "name": "stdout",
     "output_type": "stream",
     "text": [
      "Accuracy: 0.9359\n",
      "Precision: 0.9385\n",
      "Recall: 0.9296\n",
      "[[1347   83]\n",
      " [  96 1267]]\n"
     ]
    }
   ],
   "execution_count": 5
  },
  {
   "cell_type": "markdown",
   "metadata": {},
   "source": [
    "## Generation of Poisoning Samples\n",
    "\n",
    "We are going to generate an adversarial example against the SVM classifier\n",
    " using the **gradient-based** algorithm for generating poisoning attacks \n",
    " proposed in: \n",
    " \n",
    "  > [[biggio12-icml]](https://arxiv.org/abs/1206.6389)\n",
    "  > Biggio, B., Nelson, B. and Laskov, P., 2012. Poisoning attacks against \n",
    "  > support vector machines. In ICML 2012.\n",
    "\n",
    "  > [[biggio15-icml]](https://arxiv.org/abs/1804.07933)\n",
    "  > Xiao, H., Biggio, B., Brown, G., Fumera, G., Eckert, C. and Roli, F., 2015. \n",
    "  > Is feature selection secure against training data poisoning?. In ICML 2015.\n",
    "\n",
    "  > [[demontis19-usenix]](\n",
    "  > https://www.usenix.org/conference/usenixsecurity19/presentation/demontis)\n",
    "  > Demontis, A., Melis, M., Pintor, M., Jagielski, M., Biggio, B., Oprea, A., \n",
    "  > Nita-Rotaru, C. and Roli, F., 2019. Why Do Adversarial Attacks Transfer? \n",
    "  > Explaining Transferability of Evasion and Poisoning Attacks. In 28th Usenix \n",
    "  > Security Symposium, Santa Clara, California, USA.\n",
    "\n",
    "To compute a poisoning point, a bi-level optimization problem has to be solved, namely:\n",
    "\n",
    "$$\n",
    "\\begin{aligned}\n",
    "\\max_{x_c}& A(D_{val}, \\mathbf{w}^\\ast) = \\sum_{j=1}^m \\ell(y_j, \\mathbf{x_\\mathit{j}}, \\mathbf{w}^\\ast)\\\\\n",
    "&s.t. \\mathbf{w}^\\ast \\in \\underset{\\mathbf{w}}{\\operatorname{arg min}} \\textit{L} (D_{tr} \\cup (\\mathbf{x}_c, y_c), \\mathbf{w})\n",
    "\\end{aligned}\n",
    "$$\n",
    "\n",
    "Where $\\mathbf{x_c}$ is the poisoning point, $A$ is the attacker objective function, $L$ is the classifier training\n",
    "function. Moreover, $D_{tr}$ is the training dataset and $D_{val}$ is the validation dataset.\n",
    "The former problem, along with the poisoning point $\\mathbf{x}_c$ is used to train the classifier on the poisoned data,\n",
    "while the latter is used to evaluate the performance on the untainted data.\n",
    "\n",
    "The former equation depends on the classifier weights, which in turns, depends on the poisoning point.\n",
    "\n",
    "This attack is implemented in SecML by different subclasses of the `CAttackPoisoning`.\n",
    " For the purpose of attacking a SVM classifier we use the `CAttackPoisoningSVM` \n",
    " class.\n",
    "\n",
    "As done for the [evasion attacks](03-Evasion.ipynb), let's specify the \n",
    " parameters first. We set the bounds of the attack space to the known feature\n",
    " space given by validation dataset. Lastly, we chose the solver parameters for this specific optimization problem.\n",
    "\n",
    "Let's start visualizing the objective function considering a single poisoning point."
   ]
  },
  {
   "metadata": {
    "ExecuteTime": {
     "end_time": "2025-08-27T14:41:20.790653Z",
     "start_time": "2025-08-27T14:41:20.588249Z"
    }
   },
   "cell_type": "code",
   "source": [
    "lb, ub = val.X.min(), val.X.max()  # Bounds of the attack space. Can be set to `None` for unbounded\n",
    "\n",
    "# Should be chosen depending on the optimization problem\n",
    "solver_params = {\n",
    "    'eta': 0.05,\n",
    "    'eta_min': 0.05,\n",
    "    'eta_max': None,\n",
    "    'max_iter': 100,\n",
    "    'eps': 1e-6\n",
    "}\n",
    "\n",
    "from poison import CAttackPoisoningSVM\n",
    "pois_attack = CAttackPoisoningSVM(classifier=clf,\n",
    "                                  training_data=tr,\n",
    "                                  val=val,\n",
    "                                  lb=lb, ub=ub,\n",
    "                                  solver_params=solver_params,\n",
    "                                  random_seed=random_state)\n",
    "\n",
    "# chose and set the initial poisoning sample features and label\n",
    "xc = tr[0,:].X\n",
    "yc = tr[0,:].Y\n",
    "pois_attack.x0 = xc\n",
    "pois_attack.xc = xc\n",
    "pois_attack.yc = yc\n",
    "\n",
    "print(\"Initial poisoning sample features: {:}\".format(xc.ravel()))\n",
    "print(\"Initial poisoning sample label: {:}\".format(yc.item()))"
   ],
   "outputs": [
    {
     "name": "stdout",
     "output_type": "stream",
     "text": [
      "Initial poisoning sample features: CArray([0.701563 0.507071 0.515431 0.459674 0.481863 0.515962 0.760634 0.656367])\n",
      "Initial poisoning sample label: 1\n"
     ]
    }
   ],
   "execution_count": 6
  },
  {
   "metadata": {
    "ExecuteTime": {
     "end_time": "2025-08-27T14:41:20.914756Z",
     "start_time": "2025-08-27T14:41:20.803130Z"
    }
   },
   "cell_type": "code",
   "source": [
    "from secml.figure import CFigure\n",
    "# Only required for visualization in notebooks\n",
    "%matplotlib inline\n",
    "\n",
    "fig = CFigure(4,5)\n",
    "\n",
    "grid_limits = [(lb - 0.1, ub + 0.1),\n",
    "                    (lb - 0.1, ub + 0.1)]\n",
    "fig.sp.plot_ds(tr)\n",
    "\n",
    "# highlight the initial poisoning sample showing it as a star\n",
    "fig.sp.plot_ds(tr[0,:], markers='*', markersize=16)\n",
    "\n",
    "fig.sp.title('Attacker objective and gradients')\n",
    "# fig.sp.plot_fun(\n",
    "#     func=pois_attack.objective_function,\n",
    "#     grid_limits=grid_limits, plot_levels=False,\n",
    "#     n_grid_points=10, colorbar=True)\n",
    "\n",
    "# plot the box constraint\n",
    "from secml.optim.constraints import CConstraintBox\n",
    "box = fbox = CConstraintBox(lb=lb, ub=ub)\n",
    "fig.sp.plot_constraint(box, grid_limits=grid_limits,\n",
    "                       n_grid_points=10)\n",
    "\n",
    "fig.tight_layout()\n",
    "fig.show()"
   ],
   "outputs": [
    {
     "data": {
      "text/plain": [
       "<Figure size 500x400 with 1 Axes>"
      ],
      "image/png": "[encoded data removed]"
     },
     "metadata": {},
     "output_type": "display_data"
    }
   ],
   "execution_count": 7
  },
  {
   "cell_type": "markdown",
   "metadata": {},
   "source": [
    "Now, we set the desired number of adversarial points to generate, 20 in this example."
   ]
  },
  {
   "cell_type": "code",
   "metadata": {
    "ExecuteTime": {
     "end_time": "2025-08-27T14:41:36.211139Z",
     "start_time": "2025-08-27T14:41:36.131814Z"
    }
   },
   "source": [
    "# 10 points = 2 minutes\n",
    "n_poisoning_points = 1000  # Number of poisoning points to generate\n",
    "pois_attack.n_points = n_poisoning_points\n",
    "\n",
    "# Run the poisoning attack\n",
    "print(\"Attack started...\")\n",
    "pois_y_pred, pois_scores, pois_ds, f_opt = pois_attack.run(ts.X, ts.Y)\n",
    "print(\"Attack complete!\")\n",
    "\n",
    "# Evaluate the accuracy of the original classifier\n",
    "acc = metric.performance_score(y_true=ts.Y, y_pred=y_pred)\n",
    "# Evaluate the accuracy after the poisoning attack\n",
    "pois_acc = metric.performance_score(y_true=ts.Y, y_pred=pois_y_pred)\n",
    "\n",
    "print(\"Original accuracy on test set: {:.2%}\".format(acc))\n",
    "print(\"Accuracy after attack on test set: {:.2%}\".format(pois_acc))"
   ],
   "outputs": [
    {
     "name": "stdout",
     "output_type": "stream",
     "text": [
      "Attack started...\n",
      "Attack complete!\n",
      "Original accuracy on test set: 93.59%\n",
      "Accuracy after attack on test set: 93.59%\n"
     ]
    }
   ],
   "execution_count": 12
  },
  {
   "cell_type": "markdown",
   "metadata": {},
   "source": [
    "We can see that the classifiers has been successfully attacked. To increase \n",
    "the attack power, more poisoning points can be crafted, at the expense of \n",
    " a much slower optimization process.\n",
    "\n",
    "Let's now visualize the attack on a 2D plane. We need to train a copy of the \n",
    "original classifier on the join between the training set and the poisoning points."
   ]
  },
  {
   "cell_type": "code",
   "metadata": {
    "ExecuteTime": {
     "end_time": "2025-08-27T14:41:21.185673Z",
     "start_time": "2025-08-27T14:41:21.056762Z"
    }
   },
   "source": [
    "# Training of the poisoned classifier\n",
    "pois_clf = clf.deepcopy()\n",
    "pois_tr = tr.append(pois_ds)  # Join the training set with the poisoning points\n",
    "pois_clf.fit(pois_tr.X, pois_tr.Y)\n",
    "\n",
    "# Define common bounds for the subplots\n",
    "min_limit = min(pois_tr.X.min(), ts.X.min())\n",
    "max_limit = max(pois_tr.X.max(), ts.X.max())\n",
    "grid_limits = [[min_limit, max_limit], [min_limit, max_limit]]\n",
    "\n",
    "fig = CFigure(10, 10)\n",
    "\n",
    "fig.subplot(2, 2, 1)\n",
    "fig.sp.title(\"Original classifier (training set)\")\n",
    "fig.sp.plot_decision_regions(\n",
    "    clf, n_grid_points=200, grid_limits=grid_limits)\n",
    "fig.sp.plot_ds(tr, markersize=5)\n",
    "fig.sp.grid(grid_on=False)\n",
    "\n",
    "fig.subplot(2, 2, 2)\n",
    "fig.sp.title(\"Poisoned classifier (training set + poisoning points)\")\n",
    "fig.sp.plot_decision_regions(\n",
    "    pois_clf, n_grid_points=200, grid_limits=grid_limits)\n",
    "fig.sp.plot_ds(tr, markersize=5)\n",
    "fig.sp.plot_ds(pois_ds, markers=['*', '*'], markersize=12)\n",
    "fig.sp.grid(grid_on=False)\n",
    "\n",
    "fig.subplot(2, 2, 3)\n",
    "fig.sp.title(\"Original classifier (test set)\")\n",
    "fig.sp.plot_decision_regions(\n",
    "    clf, n_grid_points=200, grid_limits=grid_limits)\n",
    "fig.sp.plot_ds(ts, markersize=5)\n",
    "fig.sp.text(0.05, -0.25, \"Accuracy on test set: {:.2%}\".format(acc), \n",
    "            bbox=dict(facecolor='white'))\n",
    "fig.sp.grid(grid_on=False)\n",
    "\n",
    "fig.subplot(2, 2, 4)\n",
    "fig.sp.title(\"Poisoned classifier (test set)\")\n",
    "fig.sp.plot_decision_regions(\n",
    "    pois_clf, n_grid_points=200, grid_limits=grid_limits)\n",
    "fig.sp.plot_ds(ts, markersize=5)\n",
    "fig.sp.text(0.05, -0.25, \"Accuracy on test set: {:.2%}\".format(pois_acc), \n",
    "            bbox=dict(facecolor='white'))\n",
    "fig.sp.grid(grid_on=False)\n",
    "\n",
    "fig.show()"
   ],
   "outputs": [
    {
     "ename": "AttributeError",
     "evalue": "'NoneType' object has no attribute 'Y'",
     "output_type": "error",
     "traceback": [
      "\u001B[31m---------------------------------------------------------------------------\u001B[39m",
      "\u001B[31mAttributeError\u001B[39m                            Traceback (most recent call last)",
      "\u001B[36mCell\u001B[39m\u001B[36m \u001B[39m\u001B[32mIn[9]\u001B[39m\u001B[32m, line 3\u001B[39m\n\u001B[32m      1\u001B[39m \u001B[38;5;66;03m# Training of the poisoned classifier\u001B[39;00m\n\u001B[32m      2\u001B[39m pois_clf = clf.deepcopy()\n\u001B[32m----> \u001B[39m\u001B[32m3\u001B[39m pois_tr = \u001B[43mtr\u001B[49m\u001B[43m.\u001B[49m\u001B[43mappend\u001B[49m\u001B[43m(\u001B[49m\u001B[43mpois_ds\u001B[49m\u001B[43m)\u001B[49m  \u001B[38;5;66;03m# Join the training set with the poisoning points\u001B[39;00m\n\u001B[32m      4\u001B[39m pois_clf.fit(pois_tr.X, pois_tr.Y)\n\u001B[32m      6\u001B[39m \u001B[38;5;66;03m# Define common bounds for the subplots\u001B[39;00m\n",
      "\u001B[36mFile \u001B[39m\u001B[32m~/PycharmProjects/tarpoison/secml/data/c_dataset.py:293\u001B[39m, in \u001B[36mCDataset.append\u001B[39m\u001B[34m(self, dataset)\u001B[39m\n\u001B[32m    237\u001B[39m \u001B[38;5;250m\u001B[39m\u001B[33;03m\"\"\"Append input dataset to current dataset.\u001B[39;00m\n\u001B[32m    238\u001B[39m \n\u001B[32m    239\u001B[39m \u001B[33;03mParameters\u001B[39;00m\n\u001B[32m   (...)\u001B[39m\u001B[32m    290\u001B[39m \n\u001B[32m    291\u001B[39m \u001B[33;03m\"\"\"\u001B[39;00m\n\u001B[32m    292\u001B[39m \u001B[38;5;66;03m# Format conversion and error checking is managed by CArray.append()\u001B[39;00m\n\u001B[32m--> \u001B[39m\u001B[32m293\u001B[39m new_labels = \u001B[38;5;28mself\u001B[39m.Y.append(\u001B[43mdataset\u001B[49m\u001B[43m.\u001B[49m\u001B[43mY\u001B[49m)\n\u001B[32m    295\u001B[39m \u001B[38;5;66;03m# As the input dataset (or self) could have no header, check it\u001B[39;00m\n\u001B[32m    296\u001B[39m \u001B[38;5;28;01mif\u001B[39;00m dataset.header \u001B[38;5;129;01mis\u001B[39;00m \u001B[38;5;28;01mNone\u001B[39;00m \u001B[38;5;129;01mor\u001B[39;00m \u001B[38;5;28mself\u001B[39m.header \u001B[38;5;129;01mis\u001B[39;00m \u001B[38;5;28;01mNone\u001B[39;00m:\n",
      "\u001B[31mAttributeError\u001B[39m: 'NoneType' object has no attribute 'Y'"
     ]
    }
   ],
   "execution_count": 9
  },
  {
   "cell_type": "markdown",
   "metadata": {},
   "source": [
    "We can see how the SVM classifier decision functions *changes* after injecting\n",
    " the adversarial poisoning points (blue and red stars).\n",
    " \n",
    "For more details about poisoning adversarial attacks please refer to:\n",
    "\n",
    "  > [[biggio18-pr]](https://arxiv.org/abs/1712.03141)\n",
    "  > Biggio, B. and Roli, F., 2018. Wild patterns: Ten years after the rise of \n",
    "  > adversarial machine learning. In Pattern Recognition."
   ]
  }
 ],
 "metadata": {
  "kernelspec": {
   "display_name": "Python 3",
   "language": "python",
   "name": "python3"
  },
  "language_info": {
   "codemirror_mode": {
    "name": "ipython",
    "version": 3
   },
   "file_extension": ".py",
   "mimetype": "text/x-python",
   "name": "python",
   "nbconvert_exporter": "python",
   "pygments_lexer": "ipython3",
   "version": "3.6.12"
  }
 },
 "nbformat": 4,
 "nbformat_minor": 1
}

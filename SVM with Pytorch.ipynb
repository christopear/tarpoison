{
 "cells": [
  {
   "metadata": {
    "ExecuteTime": {
     "end_time": "2025-08-28T13:26:49.390568Z",
     "start_time": "2025-08-28T13:26:45.784546Z"
    }
   },
   "cell_type": "code",
   "source": [
    "from random import shuffle\n",
    "import numpy as np\n",
    "import torch\n",
    "from matplotlib import pyplot as plt\n",
    "from sklearn.datasets import fetch_openml\n",
    "from sklearn.decomposition import PCA\n",
    "from sklearn.model_selection import train_test_split\n",
    "from sklearn.preprocessing import MinMaxScaler\n",
    "from torch import nn\n",
    "\n",
    "mms = MinMaxScaler()\n",
    "pca = PCA(n_components=2)\n",
    "\n",
    "mnist = fetch_openml('mnist_784')\n",
    "X_orig, y_orig = mnist[\"data\"], mnist[\"target\"]\n",
    "\n",
    "X_orig = mms.fit_transform(np.array(X_orig).astype(np.float32))\n",
    "y_orig = np.array(y_orig).astype(np.uint8)\n",
    "target_digit1 = 3\n",
    "target_digit2 = 8\n",
    "\n",
    "target_digit1_xdata = X_orig[y_orig == target_digit1]\n",
    "target_digit2_xdata = X_orig[y_orig == target_digit2]\n",
    "target_digit1_ydata = y_orig[y_orig == target_digit1]\n",
    "target_digit2_ydata = y_orig[y_orig == target_digit2]\n",
    "X = np.concatenate((target_digit1_xdata, target_digit2_xdata), axis=0)\n",
    "y = np.concatenate((target_digit1_ydata, target_digit2_ydata), axis=0)\n",
    "\n",
    "y = np.where(y == target_digit1, -1, 1)\n",
    "\n",
    "# reduce the dimensions of X\n",
    "# X = pca.fit_transform(X)\n",
    "# scale to 0/1\n",
    "X = mms.fit_transform(X)\n",
    "\n",
    "# add on the bias\n",
    "X = np.concatenate([np.ones_like(X[:, :1]), X],axis=-1)"
   ],
   "outputs": [],
   "execution_count": 1
  },
  {
   "metadata": {
    "ExecuteTime": {
     "end_time": "2025-08-28T12:39:37.746009Z",
     "start_time": "2025-08-28T12:39:37.722874Z"
    }
   },
   "cell_type": "code",
   "source": [
    "X_train, X_test, y_train, y_test = train_test_split(X, y, test_size=0.4, random_state=42)\n",
    "X_test, X_val, y_test, y_val = train_test_split(X_test, y_test, test_size=0.5, random_state=42)\n",
    "\n",
    "# pca.fit(X_train)\n",
    "\n",
    "print(X_train.shape, X_test.shape, X_val.shape)\n",
    "print(y_train.shape, y_test.shape, y_val.shape)"
   ],
   "outputs": [
    {
     "name": "stdout",
     "output_type": "stream",
     "text": [
      "(8379, 785) (2793, 785) (2794, 785)\n",
      "(8379,) (2793,) (2794,)\n"
     ]
    }
   ],
   "execution_count": 2
  },
  {
   "metadata": {
    "ExecuteTime": {
     "end_time": "2025-08-28T12:39:38.562908Z",
     "start_time": "2025-08-28T12:39:38.561033Z"
    }
   },
   "cell_type": "code",
   "source": [
    "X_train = X_train\n",
    "y_train = y_train"
   ],
   "outputs": [],
   "execution_count": 3
  },
  {
   "metadata": {
    "ExecuteTime": {
     "end_time": "2025-08-28T12:39:39.534693Z",
     "start_time": "2025-08-28T12:39:39.397681Z"
    }
   },
   "cell_type": "code",
   "source": [
    "# pca2 = PCA(n_components=2)\n",
    "# plotx = pca.fit_transform(X_train)\n",
    "\n",
    "formatter = plt.FuncFormatter(lambda i, *args: np.where(y_train[i] == 1, target_digit2, target_digit1))\n",
    "plt.scatter(X_train[:, 1], X_train[:, 2], c=y_train)\n",
    "plt.colorbar(ticks=[0, 1], format=formatter)\n",
    "# plt.xlabel(iris.feature_names[x_index])\n",
    "# plt.ylabel(iris.feature_names[y_index])\n",
    "plt.show()"
   ],
   "outputs": [
    {
     "data": {
      "text/plain": [
       "<Figure size 640x480 with 2 Axes>"
      ],
      "image/png": "[encoded data removed]"
     },
     "metadata": {},
     "output_type": "display_data"
    }
   ],
   "execution_count": 4
  },
  {
   "metadata": {
    "ExecuteTime": {
     "end_time": "2025-08-28T12:39:40.248892Z",
     "start_time": "2025-08-28T12:39:40.246776Z"
    }
   },
   "cell_type": "code",
   "source": "",
   "outputs": [],
   "execution_count": null
  },
  {
   "metadata": {
    "ExecuteTime": {
     "end_time": "2025-08-28T12:39:40.726017Z",
     "start_time": "2025-08-28T12:39:40.719595Z"
    }
   },
   "cell_type": "code",
   "source": [
    "from torch.utils.data import DataLoader, TensorDataset\n",
    "from tqdm import tqdm\n",
    "device = 'cpu'\n",
    "X_train = torch.Tensor(X_train).to(device)\n",
    "y_train = torch.Tensor(y_train).to(device)\n",
    "X_test = torch.Tensor(X_test).to(device)\n",
    "y_test = torch.Tensor(y_test).to(device)\n",
    "X_val = torch.Tensor(X_val).to(device)\n",
    "y_val = torch.Tensor(y_val).to(device)\n",
    "train_dl = DataLoader(TensorDataset(X_train, y_train), batch_size=1024)\n",
    "test_dl = TensorDataset(X_test, y_test)\n",
    "val_dl = TensorDataset(X_val, y_val)\n"
   ],
   "outputs": [],
   "execution_count": 5
  },
  {
   "metadata": {
    "ExecuteTime": {
     "end_time": "2025-08-28T12:39:41.495624Z",
     "start_time": "2025-08-28T12:39:41.493589Z"
    }
   },
   "cell_type": "code",
   "source": "",
   "outputs": [],
   "execution_count": null
  },
  {
   "metadata": {
    "ExecuteTime": {
     "end_time": "2025-08-28T12:40:00.856351Z",
     "start_time": "2025-08-28T12:39:41.887994Z"
    }
   },
   "cell_type": "code",
   "source": [
    "class LinearSVM(nn.Module):\n",
    "    def __init__(self, dim, C=1.0):\n",
    "        super().__init__()\n",
    "        self.dim = dim\n",
    "        self.w = nn.Parameter(torch.zeros(self.dim))\n",
    "        self.C = C\n",
    "\n",
    "    def forward(self, x):\n",
    "        return x @ self.w\n",
    "\n",
    "    def svm_loss(self, X, y, C=None, regularize_bias=False):\n",
    "        C = C or self.C\n",
    "        y = y.to(self.w.dtype)                          # y in {-1,+1}, float\n",
    "        s = self(X)\n",
    "        hinge = torch.clamp(1.0 - y * s, min=0.0)\n",
    "        data_term = hinge.pow(2).mean()\n",
    "\n",
    "        if regularize_bias:\n",
    "            reg = 0.5 * (self.w @ self.w)\n",
    "        else:\n",
    "            reg = 0.5 * (self.w[1:] @ self.w[1:])\n",
    "\n",
    "        return reg + C * data_term\n",
    "\n",
    "C = 1.0\n",
    "\n",
    "lr = 1e-2\n",
    "num_epochs = 10\n",
    "\n",
    "\n",
    "dim = X_train.size(1)\n",
    "model = LinearSVM(dim, C=1.0).to(device)\n",
    "opt = torch.optim.SGD(model.parameters(), lr=1e-2)\n",
    "\n",
    "num_epochs = 500\n",
    "sb = tqdm(range(num_epochs))\n",
    "tl = []\n",
    "for epoch in sb:\n",
    "    for Xb, yb in train_dl:\n",
    "        loss = model.svm_loss(Xb, yb)\n",
    "        opt.zero_grad()\n",
    "        loss.backward()\n",
    "        opt.step()\n",
    "\n",
    "    if epoch % 10 == 0:\n",
    "        with torch.no_grad():\n",
    "            loss = model.svm_loss(X_val, y_val)\n",
    "            tl.append(loss.item())\n",
    "            sb.set_postfix(loss=tl[-1])\n"
   ],
   "outputs": [
    {
     "name": "stderr",
     "output_type": "stream",
     "text": [
      "100%|██████████| 500/500 [00:18<00:00, 27.04it/s, loss=0.324]\n"
     ]
    }
   ],
   "execution_count": 6
  },
  {
   "metadata": {
    "ExecuteTime": {
     "end_time": "2025-08-28T12:40:42.294980Z",
     "start_time": "2025-08-28T12:40:42.209841Z"
    }
   },
   "cell_type": "code",
   "source": [
    "from matplotlib import pyplot as plt\n",
    "tlnp = np.array(tl)\n",
    "tlnp = tlnp[10:]\n",
    "plt.plot(tlnp)\n",
    "plt.show()"
   ],
   "outputs": [
    {
     "data": {
      "text/plain": [
       "<Figure size 640x480 with 1 Axes>"
      ],
      "image/png": "[encoded data removed]"
     },
     "metadata": {},
     "output_type": "display_data"
    }
   ],
   "execution_count": 7
  },
  {
   "metadata": {
    "ExecuteTime": {
     "end_time": "2025-08-28T12:40:42.953288Z",
     "start_time": "2025-08-28T12:40:42.951131Z"
    }
   },
   "cell_type": "code",
   "source": "",
   "outputs": [],
   "execution_count": null
  },
  {
   "metadata": {
    "ExecuteTime": {
     "end_time": "2025-08-28T12:40:43.393802Z",
     "start_time": "2025-08-28T12:40:43.390918Z"
    }
   },
   "cell_type": "code",
   "source": "y_pred = (X_test @ model.w > 0) * 1.0\n",
   "outputs": [],
   "execution_count": 8
  },
  {
   "metadata": {
    "ExecuteTime": {
     "end_time": "2025-08-28T12:40:44.398314Z",
     "start_time": "2025-08-28T12:40:44.395413Z"
    }
   },
   "cell_type": "code",
   "source": [
    "y_test_np = (y_test.detach().numpy() + 1.0)/2\n",
    "y_pred_np = y_pred.detach().numpy()"
   ],
   "outputs": [],
   "execution_count": 9
  },
  {
   "metadata": {
    "ExecuteTime": {
     "end_time": "2025-08-28T12:40:44.846506Z",
     "start_time": "2025-08-28T12:40:44.833584Z"
    }
   },
   "cell_type": "code",
   "source": [
    "from sklearn import metrics\n",
    "print(metrics.accuracy_score(y_test_np, y_pred_np))\n",
    "print(metrics.precision_score(y_test_np, y_pred_np))\n",
    "print(metrics.recall_score(y_test_np, y_pred_np))\n",
    "metrics.confusion_matrix(y_test_np, y_pred_np)"
   ],
   "outputs": [
    {
     "name": "stdout",
     "output_type": "stream",
     "text": [
      "0.9566774078052274\n",
      "0.95\n",
      "0.9618488628026413\n"
     ]
    },
    {
     "data": {
      "text/plain": [
       "array([[1361,   69],\n",
       "       [  52, 1311]])"
      ]
     },
     "execution_count": 10,
     "metadata": {},
     "output_type": "execute_result"
    }
   ],
   "execution_count": 10
  },
  {
   "metadata": {},
   "cell_type": "markdown",
   "source": "# Now to break it"
  },
  {
   "metadata": {
    "ExecuteTime": {
     "end_time": "2025-08-28T13:25:40.239409Z",
     "start_time": "2025-08-28T13:25:40.236849Z"
    }
   },
   "cell_type": "code",
   "source": [
    "for param in model.parameters():\n",
    "    param.requires_grad = False\n"
   ],
   "outputs": [],
   "execution_count": 116
  },
  {
   "metadata": {
    "ExecuteTime": {
     "end_time": "2025-08-28T13:25:40.397227Z",
     "start_time": "2025-08-28T13:25:40.395684Z"
    }
   },
   "cell_type": "code",
   "source": "",
   "outputs": [],
   "execution_count": null
  },
  {
   "metadata": {
    "ExecuteTime": {
     "end_time": "2025-08-28T13:26:13.776488Z",
     "start_time": "2025-08-28T13:26:13.761535Z"
    }
   },
   "cell_type": "code",
   "source": [
    "num_epochs = 1000\n",
    "l2_reg = 0.5\n",
    "\n",
    "perturbation = torch.rand(X_train.size(1)) * 0.001\n",
    "perturbation.requires_grad = True\n",
    "\n",
    "opt = torch.optim.SGD([perturbation], lr=1e-1)\n",
    "\n",
    "Xb = X_train[:1, :]\n",
    "yb = y_train[:1]\n",
    "yb_pred_new = model(Xb).sign().detach().numpy()\n",
    "yb_pred_new\n",
    "\n",
    "sb = tqdm(range(num_epochs))\n",
    "tl = []\n",
    "for epoch in sb:\n",
    "    new_Xb = torch.clamp(Xb + perturbation, 0.0, 1.0)\n",
    "    new_yb = yb * -1\n",
    "    loss = model.svm_loss(new_Xb, new_yb)\n",
    "\n",
    "    l2_loss = perturbation.norm()\n",
    "    total_loss = loss + l2_reg * l2_loss\n",
    "    opt.zero_grad()\n",
    "    total_loss.backward()\n",
    "    opt.step()\n",
    "\n",
    "    if epoch % 10 == 0:\n",
    "        with torch.no_grad():\n",
    "            pred = model(new_Xb).sign().detach().numpy()\n",
    "            # print(pred != yb_pred_new, np.sum(pred != yb_pred_new))\n",
    "            # break\n",
    "            if np.sum(pred != yb_pred_new) >= len(pred):\n",
    "                print(\"Finished!\")\n",
    "                break\n",
    "            loss = model.svm_loss(Xb + perturbation, yb)\n",
    "            tl.append(loss.item())\n",
    "            sb.set_postfix(loss=tl[-1])\n"
   ],
   "outputs": [
    {
     "name": "stderr",
     "output_type": "stream",
     "text": [
      "  3%|▎         | 30/1000 [00:00<00:00, 2936.23it/s, loss=0.889]"
     ]
    },
    {
     "name": "stdout",
     "output_type": "stream",
     "text": [
      "Finished!\n"
     ]
    },
    {
     "name": "stderr",
     "output_type": "stream",
     "text": [
      "\n"
     ]
    }
   ],
   "execution_count": 130
  },
  {
   "metadata": {
    "ExecuteTime": {
     "end_time": "2025-08-28T13:26:14.934224Z",
     "start_time": "2025-08-28T13:26:14.931405Z"
    }
   },
   "cell_type": "code",
   "source": [
    "# y_pred = ((X_test + perturbation) @ model.w > 0) * 1.0\n",
    "# y_test_np = (y_test.detach().numpy() + 1.0) / 2\n",
    "# y_pred_np = y_pred.detach().numpy()\n",
    "# from sklearn import metrics\n",
    "#\n",
    "# print(metrics.accuracy_score(y_test_np, y_pred_np))\n",
    "# print(metrics.precision_score(y_test_np, y_pred_np))\n",
    "# print(metrics.recall_score(y_test_np, y_pred_np))\n",
    "# metrics.confusion_matrix(y_test_np, y_pred_np)"
   ],
   "outputs": [],
   "execution_count": 131
  },
  {
   "metadata": {
    "ExecuteTime": {
     "end_time": "2025-08-28T13:26:15.385606Z",
     "start_time": "2025-08-28T13:26:15.336138Z"
    }
   },
   "cell_type": "code",
   "source": "plt.imshow(Xb[:1, 1:].reshape((28,28)))",
   "outputs": [
    {
     "data": {
      "text/plain": [
       "<matplotlib.image.AxesImage at 0x32b8a4c50>"
      ]
     },
     "execution_count": 132,
     "metadata": {},
     "output_type": "execute_result"
    },
    {
     "data": {
      "text/plain": [
       "<Figure size 640x480 with 1 Axes>"
      ],
      "image/png": "[encoded data removed]"
     },
     "metadata": {},
     "output_type": "display_data"
    }
   ],
   "execution_count": 132
  },
  {
   "metadata": {
    "ExecuteTime": {
     "end_time": "2025-08-28T13:26:16.289615Z",
     "start_time": "2025-08-28T13:26:16.244627Z"
    }
   },
   "cell_type": "code",
   "source": "plt.imshow((Xb[:1] + perturbation.detach())[:, 1:].reshape((28,28)))",
   "outputs": [
    {
     "data": {
      "text/plain": [
       "<matplotlib.image.AxesImage at 0x32b93e390>"
      ]
     },
     "execution_count": 133,
     "metadata": {},
     "output_type": "execute_result"
    },
    {
     "data": {
      "text/plain": [
       "<Figure size 640x480 with 1 Axes>"
      ],
      "image/png": "[encoded data removed]"
     },
     "metadata": {},
     "output_type": "display_data"
    }
   ],
   "execution_count": 133
  },
  {
   "metadata": {
    "ExecuteTime": {
     "end_time": "2025-08-28T13:26:19.798744Z",
     "start_time": "2025-08-28T13:26:19.744712Z"
    }
   },
   "cell_type": "code",
   "source": "plt.imshow((perturbation.detach())[1:].reshape((28,28)))",
   "outputs": [
    {
     "data": {
      "text/plain": [
       "<matplotlib.image.AxesImage at 0x32b98cc50>"
      ]
     },
     "execution_count": 134,
     "metadata": {},
     "output_type": "execute_result"
    },
    {
     "data": {
      "text/plain": [
       "<Figure size 640x480 with 1 Axes>"
      ],
      "image/png": "[encoded data removed]"
     },
     "metadata": {},
     "output_type": "display_data"
    }
   ],
   "execution_count": 134
  },
  {
   "metadata": {
    "ExecuteTime": {
     "end_time": "2025-08-28T13:26:22.137917Z",
     "start_time": "2025-08-28T13:26:21.999722Z"
    }
   },
   "cell_type": "code",
   "source": "",
   "outputs": [
    {
     "name": "stdout",
     "output_type": "stream",
     "text": [
      "Step 0, Loss: 4.6197\n",
      "Step 2, Loss: 4.5181\n",
      "Step 4, Loss: 4.4188\n",
      "Step 6, Loss: 4.3218\n",
      "Step 8, Loss: 4.2269\n",
      "Step 10, Loss: 4.1342\n",
      "Step 12, Loss: 4.0435\n",
      "Step 14, Loss: 3.9549\n",
      "Step 16, Loss: 3.8683\n",
      "Step 18, Loss: 3.7837\n",
      "Step 20, Loss: 3.7009\n",
      "Step 22, Loss: 3.6200\n",
      "Step 24, Loss: 3.5409\n",
      "Step 26, Loss: 3.4636\n",
      "Step 28, Loss: 3.3881\n",
      "Step 30, Loss: 3.3142\n",
      "Step 32, Loss: 3.2420\n",
      "Step 34, Loss: 3.1714\n",
      "Step 36, Loss: 3.1025\n",
      "Step 38, Loss: 3.0350\n",
      "Step 40, Loss: 2.9691\n",
      "Step 42, Loss: 2.9047\n",
      "Step 44, Loss: 2.8417\n",
      "Step 46, Loss: 2.7801\n",
      "Step 48, Loss: 2.7200\n",
      "Step 50, Loss: 2.6611\n",
      "Step 52, Loss: 2.6036\n",
      "Step 54, Loss: 2.5474\n",
      "Step 56, Loss: 2.4925\n",
      "Step 58, Loss: 2.4388\n",
      "Step 60, Loss: 2.3863\n",
      "Step 62, Loss: 2.3349\n",
      "Step 64, Loss: 2.2848\n",
      "Step 66, Loss: 2.2357\n",
      "Step 68, Loss: 2.1878\n",
      "Step 70, Loss: 2.1410\n",
      "Step 72, Loss: 2.0952\n",
      "Step 74, Loss: 2.0504\n",
      "Step 76, Loss: 2.0066\n",
      "Step 78, Loss: 1.9638\n",
      "Step 80, Loss: 1.9220\n",
      "Step 82, Loss: 1.8812\n",
      "Step 84, Loss: 1.8412\n",
      "Step 86, Loss: 1.8021\n",
      "Step 88, Loss: 1.7640\n",
      "Step 90, Loss: 1.7266\n",
      "Step 92, Loss: 1.6902\n",
      "Step 94, Loss: 1.6545\n",
      "Step 96, Loss: 1.6196\n",
      "Step 98, Loss: 1.5856\n",
      "Step 100, Loss: 1.5523\n",
      "Step 102, Loss: 1.5197\n",
      "Step 104, Loss: 1.4879\n",
      "Step 106, Loss: 1.4568\n",
      "Step 108, Loss: 1.4264\n",
      "Step 110, Loss: 1.3966\n",
      "Step 112, Loss: 1.3676\n",
      "Step 114, Loss: 1.3392\n",
      "Step 116, Loss: 1.3114\n",
      "Step 118, Loss: 1.2843\n",
      "Step 120, Loss: 1.2578\n",
      "Step 122, Loss: 1.2318\n",
      "Step 124, Loss: 1.2065\n",
      "Step 126, Loss: 1.1817\n",
      "Step 128, Loss: 1.1575\n",
      "Step 130, Loss: 1.1338\n",
      "Step 132, Loss: 1.1107\n",
      "Step 134, Loss: 1.0880\n",
      "Step 136, Loss: 1.0659\n",
      "Step 138, Loss: 1.0443\n",
      "Step 140, Loss: 1.0232\n",
      "Step 142, Loss: 1.0025\n",
      "Step 144, Loss: 0.9823\n",
      "Step 146, Loss: 0.9626\n",
      "Step 148, Loss: 0.9433\n",
      "Step 150, Loss: 0.9245\n",
      "Step 152, Loss: 0.9060\n",
      "Step 154, Loss: 0.8880\n",
      "Step 156, Loss: 0.8704\n",
      "Step 158, Loss: 0.8532\n",
      "Step 160, Loss: 0.8364\n",
      "Step 162, Loss: 0.8199\n",
      "Step 164, Loss: 0.8038\n",
      "Step 166, Loss: 0.7881\n",
      "Step 168, Loss: 0.7727\n",
      "Step 170, Loss: 0.7577\n",
      "Step 172, Loss: 0.7430\n",
      "Step 174, Loss: 0.7287\n",
      "Step 176, Loss: 0.7147\n",
      "Step 178, Loss: 0.7009\n",
      "Step 180, Loss: 0.6875\n",
      "Step 182, Loss: 0.6744\n",
      "Step 184, Loss: 0.6616\n",
      "Step 186, Loss: 0.6491\n",
      "Step 188, Loss: 0.6369\n",
      "Step 190, Loss: 0.6249\n",
      "Step 192, Loss: 0.6132\n",
      "Step 194, Loss: 0.6018\n",
      "Step 196, Loss: 0.5906\n",
      "Step 198, Loss: 0.5797\n",
      "Step 200, Loss: 0.5690\n",
      "Step 202, Loss: 0.5586\n",
      "Step 204, Loss: 0.5484\n",
      "Step 206, Loss: 0.5384\n",
      "Step 208, Loss: 0.5287\n",
      "Step 210, Loss: 0.5191\n",
      "Step 212, Loss: 0.5098\n",
      "Step 214, Loss: 0.5007\n",
      "Step 216, Loss: 0.4918\n",
      "Step 218, Loss: 0.4831\n",
      "Step 220, Loss: 0.4746\n",
      "Step 222, Loss: 0.4663\n",
      "Step 224, Loss: 0.4582\n",
      "Step 226, Loss: 0.4502\n",
      "Step 228, Loss: 0.4425\n",
      "Step 230, Loss: 0.4349\n",
      "Step 232, Loss: 0.4275\n",
      "Step 234, Loss: 0.4202\n",
      "Step 236, Loss: 0.4131\n",
      "Step 238, Loss: 0.4062\n",
      "Step 240, Loss: 0.3994\n",
      "Step 242, Loss: 0.3928\n",
      "Step 244, Loss: 0.3863\n",
      "Step 246, Loss: 0.3800\n",
      "Step 248, Loss: 0.3738\n",
      "Step 250, Loss: 0.3678\n",
      "Step 252, Loss: 0.3619\n",
      "Step 254, Loss: 0.3561\n",
      "Step 256, Loss: 0.3504\n",
      "Step 258, Loss: 0.3449\n",
      "Step 260, Loss: 0.3395\n",
      "Step 262, Loss: 0.3343\n",
      "Step 264, Loss: 0.3291\n",
      "Step 266, Loss: 0.3241\n",
      "Step 268, Loss: 0.3191\n",
      "Step 270, Loss: 0.3143\n",
      "Step 272, Loss: 0.3096\n",
      "Step 274, Loss: 0.3050\n",
      "Step 276, Loss: 0.3005\n",
      "Step 278, Loss: 0.2961\n",
      "Step 280, Loss: 0.2918\n",
      "Step 282, Loss: 0.2876\n",
      "Step 284, Loss: 0.2835\n",
      "Step 286, Loss: 0.2795\n",
      "Step 288, Loss: 0.2756\n",
      "Step 290, Loss: 0.2718\n",
      "Step 292, Loss: 0.2680\n",
      "Step 294, Loss: 0.2643\n",
      "Step 296, Loss: 0.2608\n",
      "Step 298, Loss: 0.2573\n",
      "Step 300, Loss: 0.2538\n",
      "Step 302, Loss: 0.2505\n",
      "Step 304, Loss: 0.2472\n",
      "Step 306, Loss: 0.2440\n",
      "Step 308, Loss: 0.2409\n",
      "Step 310, Loss: 0.2378\n",
      "Step 312, Loss: 0.2349\n",
      "Step 314, Loss: 0.2319\n",
      "Step 316, Loss: 0.2291\n",
      "Step 318, Loss: 0.2263\n",
      "Step 320, Loss: 0.2236\n",
      "Step 322, Loss: 0.2209\n",
      "Step 324, Loss: 0.2183\n",
      "Step 326, Loss: 0.2158\n",
      "Step 328, Loss: 0.2133\n",
      "Step 330, Loss: 0.2108\n",
      "Step 332, Loss: 0.2085\n",
      "Step 334, Loss: 0.2061\n",
      "Step 336, Loss: 0.2039\n",
      "Step 338, Loss: 0.2016\n",
      "Step 340, Loss: 0.1995\n",
      "Step 342, Loss: 0.1974\n",
      "Step 344, Loss: 0.1953\n",
      "Step 346, Loss: 0.1932\n",
      "Step 348, Loss: 0.1913\n",
      "Step 350, Loss: 0.1893\n",
      "Step 352, Loss: 0.1874\n",
      "Step 354, Loss: 0.1856\n",
      "Step 356, Loss: 0.1838\n",
      "Step 358, Loss: 0.1820\n",
      "Step 360, Loss: 0.1803\n",
      "Step 362, Loss: 0.1786\n",
      "Step 364, Loss: 0.1769\n",
      "Step 366, Loss: 0.1753\n",
      "Step 368, Loss: 0.1737\n",
      "Step 370, Loss: 0.1722\n",
      "Step 372, Loss: 0.1707\n",
      "Step 374, Loss: 0.1692\n",
      "Step 376, Loss: 0.1678\n",
      "Step 378, Loss: 0.1664\n",
      "Step 380, Loss: 0.1650\n",
      "Step 382, Loss: 0.1636\n",
      "Step 384, Loss: 0.1623\n",
      "Step 386, Loss: 0.1610\n",
      "Step 388, Loss: 0.1598\n",
      "Step 390, Loss: 0.1585\n",
      "Step 392, Loss: 0.1573\n",
      "Step 394, Loss: 0.1562\n",
      "Step 396, Loss: 0.1550\n",
      "Step 398, Loss: 0.1539\n",
      "Step 400, Loss: 0.1528\n",
      "Step 402, Loss: 0.1517\n",
      "Step 404, Loss: 0.1507\n",
      "Step 406, Loss: 0.1497\n",
      "Step 408, Loss: 0.1487\n",
      "Step 410, Loss: 0.1477\n",
      "Step 412, Loss: 0.1467\n",
      "Step 414, Loss: 0.1458\n",
      "Step 416, Loss: 0.1449\n",
      "Step 418, Loss: 0.1440\n",
      "Step 420, Loss: 0.1431\n",
      "Step 422, Loss: 0.1423\n",
      "Step 424, Loss: 0.1414\n",
      "Step 426, Loss: 0.1406\n",
      "Step 428, Loss: 0.1398\n",
      "Step 430, Loss: 0.1390\n",
      "Step 432, Loss: 0.1383\n",
      "Step 434, Loss: 0.1375\n",
      "Step 436, Loss: 0.1368\n",
      "Step 438, Loss: 0.1361\n",
      "Step 440, Loss: 0.1354\n",
      "Step 442, Loss: 0.1347\n",
      "Step 444, Loss: 0.1340\n",
      "Step 446, Loss: 0.1334\n",
      "Step 448, Loss: 0.1327\n",
      "Step 450, Loss: 0.1321\n",
      "Step 452, Loss: 0.1315\n",
      "Step 454, Loss: 0.1309\n",
      "Step 456, Loss: 0.1303\n",
      "Step 458, Loss: 0.1298\n",
      "Step 460, Loss: 0.1292\n",
      "Step 462, Loss: 0.1287\n",
      "Step 464, Loss: 0.1282\n",
      "Step 466, Loss: 0.1276\n",
      "Step 468, Loss: 0.1271\n",
      "Step 470, Loss: 0.1266\n",
      "Step 472, Loss: 0.1262\n",
      "Step 474, Loss: 0.1257\n",
      "Step 476, Loss: 0.1252\n",
      "Step 478, Loss: 0.1248\n",
      "Step 480, Loss: 0.1243\n",
      "Step 482, Loss: 0.1239\n",
      "Step 484, Loss: 0.1235\n",
      "Step 486, Loss: 0.1231\n",
      "Step 488, Loss: 0.1227\n",
      "Step 490, Loss: 0.1223\n",
      "Step 492, Loss: 0.1219\n",
      "Step 494, Loss: 0.1215\n",
      "Step 496, Loss: 0.1211\n",
      "Step 498, Loss: 0.1208\n",
      "Step 500, Loss: 0.1204\n",
      "Step 502, Loss: 0.1201\n",
      "Step 504, Loss: 0.1197\n",
      "Step 506, Loss: 0.1194\n",
      "Step 508, Loss: 0.1191\n",
      "Step 510, Loss: 0.1188\n",
      "Step 512, Loss: 0.1185\n",
      "Step 514, Loss: 0.1182\n",
      "Step 516, Loss: 0.1179\n",
      "Step 518, Loss: 0.1176\n",
      "Step 520, Loss: 0.1173\n",
      "Step 522, Loss: 0.1170\n",
      "Step 524, Loss: 0.1168\n",
      "Step 526, Loss: 0.1165\n",
      "Step 528, Loss: 0.1163\n",
      "Step 530, Loss: 0.1160\n",
      "Step 532, Loss: 0.1158\n",
      "Step 534, Loss: 0.1155\n",
      "Step 536, Loss: 0.1153\n",
      "Step 538, Loss: 0.1151\n",
      "Step 540, Loss: 0.1148\n",
      "Step 542, Loss: 0.1146\n",
      "Step 544, Loss: 0.1144\n",
      "Step 546, Loss: 0.1142\n",
      "Step 548, Loss: 0.1140\n",
      "Step 550, Loss: 0.1138\n",
      "Step 552, Loss: 0.1136\n",
      "Step 554, Loss: 0.1134\n",
      "Step 556, Loss: 0.1132\n",
      "Step 558, Loss: 0.1130\n",
      "Step 560, Loss: 0.1129\n",
      "Step 562, Loss: 0.1127\n",
      "Step 564, Loss: 0.1125\n",
      "Step 566, Loss: 0.1124\n",
      "Step 568, Loss: 0.1122\n",
      "Step 570, Loss: 0.1120\n",
      "Step 572, Loss: 0.1119\n",
      "Step 574, Loss: 0.1117\n",
      "Step 576, Loss: 0.1116\n",
      "Step 578, Loss: 0.1114\n",
      "Step 580, Loss: 0.1113\n",
      "Step 582, Loss: 0.1112\n",
      "Step 584, Loss: 0.1110\n",
      "Step 586, Loss: 0.1109\n",
      "Step 588, Loss: 0.1108\n",
      "Step 590, Loss: 0.1106\n",
      "Step 592, Loss: 0.1105\n",
      "Step 594, Loss: 0.1104\n",
      "Step 596, Loss: 0.1103\n",
      "Step 598, Loss: 0.1102\n",
      "Step 600, Loss: 0.1100\n",
      "Step 602, Loss: 0.1099\n",
      "Step 604, Loss: 0.1098\n",
      "Step 606, Loss: 0.1097\n",
      "Step 608, Loss: 0.1096\n",
      "Step 610, Loss: 0.1095\n",
      "Step 612, Loss: 0.1094\n",
      "Step 614, Loss: 0.1093\n",
      "Step 616, Loss: 0.1092\n",
      "Step 618, Loss: 0.1091\n",
      "Step 620, Loss: 0.1090\n",
      "Step 622, Loss: 0.1090\n",
      "Step 624, Loss: 0.1089\n",
      "Step 626, Loss: 0.1088\n",
      "Step 628, Loss: 0.1087\n",
      "Step 630, Loss: 0.1086\n",
      "Step 632, Loss: 0.1085\n",
      "Step 634, Loss: 0.1085\n",
      "Step 636, Loss: 0.1084\n",
      "Step 638, Loss: 0.1083\n",
      "Step 640, Loss: 0.1082\n",
      "Step 642, Loss: 0.1082\n",
      "Step 644, Loss: 0.1081\n",
      "Step 646, Loss: 0.1080\n",
      "Step 648, Loss: 0.1080\n",
      "Step 650, Loss: 0.1079\n",
      "Step 652, Loss: 0.1079\n",
      "Step 654, Loss: 0.1078\n",
      "Step 656, Loss: 0.1077\n",
      "Step 658, Loss: 0.1077\n",
      "Step 660, Loss: 0.1076\n",
      "Step 662, Loss: 0.1076\n",
      "Step 664, Loss: 0.1075\n",
      "Step 666, Loss: 0.1075\n",
      "Step 668, Loss: 0.1074\n",
      "Step 670, Loss: 0.1074\n",
      "Step 672, Loss: 0.1073\n",
      "Step 674, Loss: 0.1073\n",
      "Step 676, Loss: 0.1072\n",
      "Step 678, Loss: 0.1072\n",
      "Step 680, Loss: 0.1071\n",
      "Step 682, Loss: 0.1071\n",
      "Step 684, Loss: 0.1070\n",
      "Step 686, Loss: 0.1070\n",
      "Step 688, Loss: 0.1069\n",
      "Step 690, Loss: 0.1069\n",
      "Step 692, Loss: 0.1069\n",
      "Step 694, Loss: 0.1068\n",
      "Step 696, Loss: 0.1068\n",
      "Step 698, Loss: 0.1067\n",
      "Step 700, Loss: 0.1067\n",
      "Step 702, Loss: 0.1067\n",
      "Step 704, Loss: 0.1066\n",
      "Step 706, Loss: 0.1066\n",
      "Step 708, Loss: 0.1066\n",
      "Step 710, Loss: 0.1065\n",
      "Step 712, Loss: 0.1065\n",
      "Step 714, Loss: 0.1065\n",
      "Step 716, Loss: 0.1065\n",
      "Step 718, Loss: 0.1064\n",
      "Step 720, Loss: 0.1064\n",
      "Step 722, Loss: 0.1064\n",
      "Step 724, Loss: 0.1063\n",
      "Step 726, Loss: 0.1063\n",
      "Step 728, Loss: 0.1063\n",
      "Step 730, Loss: 0.1063\n",
      "Step 732, Loss: 0.1062\n",
      "Step 734, Loss: 0.1062\n",
      "Step 736, Loss: 0.1062\n",
      "Step 738, Loss: 0.1062\n",
      "Step 740, Loss: 0.1061\n",
      "Step 742, Loss: 0.1061\n",
      "Step 744, Loss: 0.1061\n",
      "Step 746, Loss: 0.1061\n",
      "Step 748, Loss: 0.1061\n",
      "Step 750, Loss: 0.1060\n",
      "Step 752, Loss: 0.1060\n",
      "Step 754, Loss: 0.1060\n",
      "Step 756, Loss: 0.1060\n",
      "Step 758, Loss: 0.1060\n",
      "Step 760, Loss: 0.1059\n",
      "Step 762, Loss: 0.1059\n",
      "Step 764, Loss: 0.1059\n",
      "Step 766, Loss: 0.1059\n",
      "Step 768, Loss: 0.1059\n",
      "Step 770, Loss: 0.1059\n",
      "Step 772, Loss: 0.1058\n",
      "Step 774, Loss: 0.1058\n",
      "Step 776, Loss: 0.1058\n",
      "Step 778, Loss: 0.1058\n",
      "Step 780, Loss: 0.1058\n",
      "Step 782, Loss: 0.1058\n",
      "Step 784, Loss: 0.1057\n",
      "Step 786, Loss: 0.1057\n",
      "Step 788, Loss: 0.1057\n",
      "Step 790, Loss: 0.1057\n",
      "Step 792, Loss: 0.1057\n",
      "Step 794, Loss: 0.1057\n",
      "Step 796, Loss: 0.1057\n",
      "Step 798, Loss: 0.1057\n",
      "Step 800, Loss: 0.1056\n",
      "Step 802, Loss: 0.1056\n",
      "Step 804, Loss: 0.1056\n",
      "Step 806, Loss: 0.1056\n",
      "Step 808, Loss: 0.1056\n",
      "Step 810, Loss: 0.1056\n",
      "Step 812, Loss: 0.1056\n",
      "Step 814, Loss: 0.1056\n",
      "Step 816, Loss: 0.1056\n",
      "Step 818, Loss: 0.1056\n",
      "Step 820, Loss: 0.1055\n",
      "Step 822, Loss: 0.1055\n",
      "Step 824, Loss: 0.1055\n",
      "Step 826, Loss: 0.1055\n",
      "Step 828, Loss: 0.1055\n",
      "Step 830, Loss: 0.1055\n",
      "Step 832, Loss: 0.1055\n",
      "Step 834, Loss: 0.1055\n",
      "Step 836, Loss: 0.1055\n",
      "Step 838, Loss: 0.1055\n",
      "Step 840, Loss: 0.1055\n",
      "Step 842, Loss: 0.1055\n",
      "Step 844, Loss: 0.1054\n",
      "Step 846, Loss: 0.1054\n",
      "Step 848, Loss: 0.1054\n",
      "Step 850, Loss: 0.1054\n",
      "Step 852, Loss: 0.1054\n",
      "Step 854, Loss: 0.1054\n",
      "Step 856, Loss: 0.1054\n",
      "Step 858, Loss: 0.1054\n",
      "Step 860, Loss: 0.1054\n",
      "Step 862, Loss: 0.1054\n",
      "Step 864, Loss: 0.1054\n",
      "Step 866, Loss: 0.1054\n",
      "Step 868, Loss: 0.1054\n",
      "Step 870, Loss: 0.1054\n",
      "Step 872, Loss: 0.1054\n",
      "Step 874, Loss: 0.1054\n",
      "Step 876, Loss: 0.1054\n",
      "Step 878, Loss: 0.1053\n",
      "Step 880, Loss: 0.1053\n",
      "Step 882, Loss: 0.1053\n",
      "Step 884, Loss: 0.1053\n",
      "Step 886, Loss: 0.1053\n",
      "Step 888, Loss: 0.1053\n",
      "Step 890, Loss: 0.1053\n",
      "Step 892, Loss: 0.1053\n",
      "Step 894, Loss: 0.1053\n",
      "Step 896, Loss: 0.1053\n",
      "Step 898, Loss: 0.1053\n",
      "Step 900, Loss: 0.1053\n",
      "Step 902, Loss: 0.1053\n",
      "Step 904, Loss: 0.1053\n",
      "Step 906, Loss: 0.1053\n",
      "Step 908, Loss: 0.1053\n",
      "Step 910, Loss: 0.1053\n",
      "Step 912, Loss: 0.1053\n",
      "Step 914, Loss: 0.1053\n",
      "Step 916, Loss: 0.1053\n",
      "Step 918, Loss: 0.1053\n",
      "Step 920, Loss: 0.1053\n",
      "Step 922, Loss: 0.1053\n",
      "Step 924, Loss: 0.1053\n",
      "Step 926, Loss: 0.1053\n",
      "Step 928, Loss: 0.1053\n",
      "Step 930, Loss: 0.1053\n",
      "Step 932, Loss: 0.1053\n",
      "Step 934, Loss: 0.1053\n",
      "Step 936, Loss: 0.1052\n",
      "Step 938, Loss: 0.1052\n",
      "Step 940, Loss: 0.1052\n",
      "Step 942, Loss: 0.1052\n",
      "Step 944, Loss: 0.1052\n",
      "Step 946, Loss: 0.1052\n",
      "Step 948, Loss: 0.1052\n",
      "Step 950, Loss: 0.1052\n",
      "Step 952, Loss: 0.1052\n",
      "Step 954, Loss: 0.1052\n",
      "Step 956, Loss: 0.1052\n",
      "Step 958, Loss: 0.1052\n",
      "Step 960, Loss: 0.1052\n",
      "Step 962, Loss: 0.1052\n",
      "Step 964, Loss: 0.1052\n",
      "Step 966, Loss: 0.1052\n",
      "Step 968, Loss: 0.1052\n",
      "Step 970, Loss: 0.1052\n",
      "Step 972, Loss: 0.1052\n",
      "Step 974, Loss: 0.1052\n",
      "Step 976, Loss: 0.1052\n",
      "Step 978, Loss: 0.1052\n",
      "Step 980, Loss: 0.1052\n",
      "Step 982, Loss: 0.1052\n",
      "Step 984, Loss: 0.1052\n",
      "Step 986, Loss: 0.1052\n",
      "Step 988, Loss: 0.1052\n",
      "Step 990, Loss: 0.1052\n",
      "Step 992, Loss: 0.1052\n",
      "Step 994, Loss: 0.1052\n",
      "Step 996, Loss: 0.1052\n",
      "Step 998, Loss: 0.1052\n"
     ]
    }
   ],
   "execution_count": 135
  },
  {
   "metadata": {},
   "cell_type": "code",
   "outputs": [],
   "execution_count": null,
   "source": ""
  }
 ],
 "metadata": {
  "kernelspec": {
   "display_name": "Python 3",
   "language": "python",
   "name": "python3"
  },
  "language_info": {
   "codemirror_mode": {
    "name": "ipython",
    "version": 3
   },
   "file_extension": ".py",
   "mimetype": "text/x-python",
   "name": "python",
   "nbconvert_exporter": "python",
   "pygments_lexer": "ipython3",
   "version": "3.6.6"
  }
 },
 "nbformat": 4,
 "nbformat_minor": 2
}
